{
 "cells": [
  {
   "cell_type": "code",
   "execution_count": 43,
   "id": "a6ee2a47",
   "metadata": {},
   "outputs": [
    {
     "name": "stdout",
     "output_type": "stream",
     "text": [
      "(404, 13) (102, 13)\n"
     ]
    }
   ],
   "source": [
    "from tensorflow.keras import datasets\n",
    "\n",
    "(x_tr, y_tr),(x_te,y_te) = datasets.boston_housing.load_data()\n",
    "print(x_tr.shape, x_te.shape)"
   ]
  },
  {
   "cell_type": "code",
   "execution_count": 44,
   "id": "4f195ec0",
   "metadata": {
    "scrolled": true
   },
   "outputs": [
    {
     "name": "stdout",
     "output_type": "stream",
     "text": [
      "(455, 13) (51, 13)\n"
     ]
    }
   ],
   "source": [
    "(x_tr, y_tr),(x_te,y_te) = datasets.boston_housing.load_data(test_split=0.1)\n",
    "print(x_tr.shape, x_te.shape)"
   ]
  },
  {
   "cell_type": "code",
   "execution_count": 45,
   "id": "913afd3e",
   "metadata": {},
   "outputs": [
    {
     "data": {
      "text/plain": [
       "array([[  1.23247,   0.     ,   8.14   ,   0.     ,   0.538  ,   6.142  ,\n",
       "         91.7    ,   3.9769 ,   4.     , 307.     ,  21.     , 396.9    ,\n",
       "         18.72   ]])"
      ]
     },
     "execution_count": 45,
     "metadata": {},
     "output_type": "execute_result"
    }
   ],
   "source": [
    "x_tr[:1]"
   ]
  },
  {
   "cell_type": "code",
   "execution_count": 46,
   "id": "0dcff06f",
   "metadata": {},
   "outputs": [],
   "source": [
    "mean = x_tr.mean(axis=0)\n",
    "std = x_tr.std(axis=0)\n",
    "x_tr -= mean\n",
    "x_tr /= std #표준화 평균 0, 표준편차 1\n",
    "\n",
    "x_te -= mean\n",
    "x_te /= std"
   ]
  },
  {
   "cell_type": "code",
   "execution_count": 47,
   "id": "78b36cb9",
   "metadata": {},
   "outputs": [],
   "source": [
    "from tensorflow.keras import models, layers\n",
    "model = models.Sequential() # 순차 처리 객체\n",
    "\n",
    "model.add(\n",
    "    layers.Dense(64, \n",
    "                 input_shape=(x_tr.shape[1],), \n",
    "                 activation=\"relu\")\n",
    ")\n",
    "model.add(layers.Dense(64, activation=\"relu\"))\n",
    "model.add(layers.Dense(1))\n",
    "\n",
    "model.compile(optimizer=\"adam\", loss=\"mse\", metrics=[\"mae\"])\n",
    "hist = model.fit(x_tr,y_tr, \n",
    "                 epochs=50,\n",
    "                 batch_size=50,\n",
    "                 validation_split=0.2,\n",
    "                 verbose=0)"
   ]
  },
  {
   "cell_type": "code",
   "execution_count": 48,
   "id": "b0e15190",
   "metadata": {},
   "outputs": [
    {
     "name": "stdout",
     "output_type": "stream",
     "text": [
      "2/2 [==============================] - 0s 4ms/step - loss: 36.0607 - mae: 3.9192\n"
     ]
    },
    {
     "data": {
      "text/plain": [
       "[36.060672760009766, 3.919168472290039]"
      ]
     },
     "execution_count": 48,
     "metadata": {},
     "output_type": "execute_result"
    }
   ],
   "source": [
    "model.evaluate(x_te, y_te)"
   ]
  },
  {
   "cell_type": "code",
   "execution_count": 49,
   "id": "e995ae0c",
   "metadata": {},
   "outputs": [
    {
     "data": {
      "image/png": "[encoded data removed]",
      "text/plain": [
       "<Figure size 432x288 with 1 Axes>"
      ]
     },
     "metadata": {
      "needs_background": "light"
     },
     "output_type": "display_data"
    }
   ],
   "source": [
    "import matplotlib.pyplot as plt\n",
    "\n",
    "plt.plot(hist.history[\"loss\"], label=\"loss\")\n",
    "plt.plot(hist.history[\"mae\"], label=\"mae\")\n",
    "plt.legend()\n",
    "plt.show()"
   ]
  },
  {
   "cell_type": "code",
   "execution_count": 50,
   "id": "ff14adac",
   "metadata": {},
   "outputs": [
    {
     "data": {
      "text/plain": [
       "0.6088084761643362"
      ]
     },
     "execution_count": 50,
     "metadata": {},
     "output_type": "execute_result"
    }
   ],
   "source": [
    "pred=model.predict(x_te)\n",
    "from sklearn.metrics import r2_score\n",
    "\n",
    "r2_score(pred, y_te)"
   ]
  },
  {
   "cell_type": "code",
   "execution_count": 55,
   "id": "2bcebfbd",
   "metadata": {},
   "outputs": [
    {
     "data": {
      "text/plain": [
       "<matplotlib.collections.PathCollection at 0x21bc0cafdc0>"
      ]
     },
     "execution_count": 55,
     "metadata": {},
     "output_type": "execute_result"
    },
    {
     "data": {
      "image/png": "[encoded data removed]",
      "text/plain": [
       "<Figure size 432x288 with 1 Axes>"
      ]
     },
     "metadata": {
      "needs_background": "light"
     },
     "output_type": "display_data"
    }
   ],
   "source": [
    "plt.scatter(y_te, pred, label=\"pred\")\n",
    "#plt.scatter(y_te, y_te, label=\"y_test\")"
   ]
  }
 ],
 "metadata": {
  "kernelspec": {
   "display_name": "Python 3 (ipykernel)",
   "language": "python",
   "name": "python3"
  },
  "language_info": {
   "codemirror_mode": {
    "name": "ipython",
    "version": 3
   },
   "file_extension": ".py",
   "mimetype": "text/x-python",
   "name": "python",
   "nbconvert_exporter": "python",
   "pygments_lexer": "ipython3",
   "version": "3.9.7"
  }
 },
 "nbformat": 4,
 "nbformat_minor": 5
}
