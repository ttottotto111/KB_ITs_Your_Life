{
 "cells": [
  {
   "cell_type": "code",
   "execution_count": 6,
   "id": "6747a9dc",
   "metadata": {},
   "outputs": [
    {
     "name": "stdout",
     "output_type": "stream",
     "text": [
      "[1 2 3 4]\n",
      "[1, 2, 3]\n"
     ]
    },
    {
     "data": {
      "text/plain": [
       "array([1, 2, 3, 4])"
      ]
     },
     "metadata": {},
     "output_type": "display_data"
    },
    {
     "data": {
      "text/plain": [
       "[1, 2, 3]"
      ]
     },
     "metadata": {},
     "output_type": "display_data"
    }
   ],
   "source": [
    "# numpy 1차원 배열\n",
    "import numpy as np\n",
    "n1 = np.array([1,2,3,4])\n",
    "\n",
    "print(n1) #넘파이 배열 => ,로 구분하지 않음\n",
    "print([1,2,3]) # 파이썬 리스트 => ,로 구분\n",
    "\n",
    "display(n1)\n",
    "display([1,2,3])"
   ]
  },
  {
   "cell_type": "code",
   "execution_count": 9,
   "id": "dfe4d5df",
   "metadata": {},
   "outputs": [
    {
     "name": "stdout",
     "output_type": "stream",
     "text": [
      "[[1 2]\n",
      " [3 4]]\n"
     ]
    },
    {
     "data": {
      "text/plain": [
       "array([[1, 2],\n",
       "       [3, 4]])"
      ]
     },
     "metadata": {},
     "output_type": "display_data"
    }
   ],
   "source": [
    "# numpy 2차원 배열\n",
    "n2 = np.array([[1,2],[3,4]])\n",
    "\n",
    "print(n2)\n",
    "display(n2)"
   ]
  },
  {
   "cell_type": "code",
   "execution_count": 12,
   "id": "f5d4974d",
   "metadata": {},
   "outputs": [
    {
     "data": {
      "text/plain": [
       "array([[[1, 2],\n",
       "        [3, 4]],\n",
       "\n",
       "       [[5, 6],\n",
       "        [7, 8]]])"
      ]
     },
     "execution_count": 12,
     "metadata": {},
     "output_type": "execute_result"
    }
   ],
   "source": [
    "#numpy 3차원 배열\n",
    "n3 = np.array([[[1,2],[3,4]],[[5,6],[7,8]]])\n",
    "\n",
    "n3"
   ]
  },
  {
   "cell_type": "code",
   "execution_count": 19,
   "id": "4a53641d",
   "metadata": {},
   "outputs": [
    {
     "data": {
      "text/plain": [
       "range(0, 5)"
      ]
     },
     "metadata": {},
     "output_type": "display_data"
    },
    {
     "data": {
      "text/plain": [
       "array([0. , 0.5, 1. , 1.5, 2. , 2.5, 3. , 3.5, 4. , 4.5])"
      ]
     },
     "metadata": {},
     "output_type": "display_data"
    }
   ],
   "source": [
    "# range => 증가치는 정수만 지원\n",
    "display(range(0,5,1))\n",
    "\n",
    "# arange\n",
    "display(np.arange(0,5,0.5))"
   ]
  },
  {
   "cell_type": "code",
   "execution_count": 21,
   "id": "64bd3db2",
   "metadata": {},
   "outputs": [
    {
     "data": {
      "text/plain": [
       "array([ 1.  ,  3.25,  5.5 ,  7.75, 10.  ])"
      ]
     },
     "execution_count": 21,
     "metadata": {},
     "output_type": "execute_result"
    }
   ],
   "source": [
    "# linspace 수의 범위를 균일하게 나누는 함수\n",
    "#1~10 을 3구간으로 나눔\n",
    "np.linspace(1,10,5)"
   ]
  },
  {
   "cell_type": "code",
   "execution_count": 26,
   "id": "4e14b3ad",
   "metadata": {},
   "outputs": [
    {
     "data": {
      "text/plain": [
       "array([[[1., 1., 1.],\n",
       "        [1., 1., 1.]],\n",
       "\n",
       "       [[1., 1., 1.],\n",
       "        [1., 1., 1.]]])"
      ]
     },
     "execution_count": 26,
     "metadata": {},
     "output_type": "execute_result"
    }
   ],
   "source": [
    "# 기타 함수 배열생성(ones, zeros, full, eye) => 자연어 처리할때 사용\n",
    "# 3차원 배열시 (면,행,열)\n",
    "np.ones((2,2,3))"
   ]
  },
  {
   "cell_type": "code",
   "execution_count": 27,
   "id": "01b1522d",
   "metadata": {},
   "outputs": [
    {
     "name": "stdout",
     "output_type": "stream",
     "text": [
      "Variable   Type       Data/Info\n",
      "-------------------------------\n",
      "n1         ndarray    4: 4 elems, type `int32`, 16 bytes\n",
      "n2         ndarray    2x2: 4 elems, type `int32`, 16 bytes\n",
      "n3         ndarray    2x2x2: 8 elems, type `int32`, 32 bytes\n",
      "np         module     <module 'numpy' from 'C:\\<...>ges\\\\numpy\\\\__init__.py'>\n"
     ]
    }
   ],
   "source": [
    "%whos"
   ]
  },
  {
   "cell_type": "code",
   "execution_count": 29,
   "id": "6d7c53f0",
   "metadata": {},
   "outputs": [
    {
     "data": {
      "text/plain": [
       "1"
      ]
     },
     "execution_count": 29,
     "metadata": {},
     "output_type": "execute_result"
    }
   ],
   "source": [
    "# ndim 몇차원배열인지 나타내는 함수\n",
    "n1.ndim"
   ]
  },
  {
   "cell_type": "code",
   "execution_count": 31,
   "id": "f6503d80",
   "metadata": {},
   "outputs": [
    {
     "data": {
      "text/plain": [
       "(4,)"
      ]
     },
     "execution_count": 31,
     "metadata": {},
     "output_type": "execute_result"
    }
   ],
   "source": [
    "# shape 몇행 몇열인지 나타내는 함수\n",
    "n1.shape"
   ]
  },
  {
   "cell_type": "code",
   "execution_count": 33,
   "id": "3d5b4a01",
   "metadata": {},
   "outputs": [
    {
     "data": {
      "text/plain": [
       "4"
      ]
     },
     "execution_count": 33,
     "metadata": {},
     "output_type": "execute_result"
    }
   ],
   "source": [
    "# size 요소의 총 개수\n",
    "n1.size"
   ]
  },
  {
   "cell_type": "code",
   "execution_count": 35,
   "id": "2ce1a905",
   "metadata": {},
   "outputs": [
    {
     "data": {
      "text/plain": [
       "(2, (2, 2), 4)"
      ]
     },
     "execution_count": 35,
     "metadata": {},
     "output_type": "execute_result"
    }
   ],
   "source": [
    "n2.ndim, n2.shape, n2.size"
   ]
  },
  {
   "cell_type": "code",
   "execution_count": 37,
   "id": "96733e83",
   "metadata": {},
   "outputs": [
    {
     "name": "stdout",
     "output_type": "stream",
     "text": [
      "[[1 2]\n",
      " [3 4]]\n",
      "[[1 3]\n",
      " [2 4]]\n"
     ]
    }
   ],
   "source": [
    "# T 행과 열의 방향이 바뀜\n",
    "print(n2)\n",
    "print(n2.T)"
   ]
  },
  {
   "cell_type": "code",
   "execution_count": 49,
   "id": "999a86dd",
   "metadata": {},
   "outputs": [
    {
     "data": {
      "text/plain": [
       "array([ 0,  1,  2,  3,  4,  5,  6,  7,  8,  9, 10, 11])"
      ]
     },
     "metadata": {},
     "output_type": "display_data"
    },
    {
     "data": {
      "text/plain": [
       "array([[ 0,  1,  2],\n",
       "       [ 3,  4,  5],\n",
       "       [ 6,  7,  8],\n",
       "       [ 9, 10, 11]])"
      ]
     },
     "metadata": {},
     "output_type": "display_data"
    },
    {
     "data": {
      "text/plain": [
       "array([[[ 0,  1,  2],\n",
       "        [ 3,  4,  5]],\n",
       "\n",
       "       [[ 6,  7,  8],\n",
       "        [ 9, 10, 11]]])"
      ]
     },
     "metadata": {},
     "output_type": "display_data"
    },
    {
     "data": {
      "text/plain": [
       "array([[[ 0,  1,  2],\n",
       "        [ 3,  4,  5]],\n",
       "\n",
       "       [[ 6,  7,  8],\n",
       "        [ 9, 10, 11]]])"
      ]
     },
     "metadata": {},
     "output_type": "display_data"
    },
    {
     "data": {
      "text/plain": [
       "array([[[ 0,  1],\n",
       "        [ 2,  3],\n",
       "        [ 4,  5]],\n",
       "\n",
       "       [[ 6,  7],\n",
       "        [ 8,  9],\n",
       "        [10, 11]]])"
      ]
     },
     "metadata": {},
     "output_type": "display_data"
    },
    {
     "data": {
      "text/plain": [
       "array([ 0,  1,  2,  3,  4,  5,  6,  7,  8,  9, 10, 11])"
      ]
     },
     "metadata": {},
     "output_type": "display_data"
    },
    {
     "data": {
      "text/plain": [
       "array([[ 0],\n",
       "       [ 1],\n",
       "       [ 2],\n",
       "       [ 3],\n",
       "       [ 4],\n",
       "       [ 5],\n",
       "       [ 6],\n",
       "       [ 7],\n",
       "       [ 8],\n",
       "       [ 9],\n",
       "       [10],\n",
       "       [11]])"
      ]
     },
     "metadata": {},
     "output_type": "display_data"
    },
    {
     "data": {
      "text/plain": [
       "array([[ 0,  1,  2,  3,  4,  5,  6,  7,  8,  9, 10, 11]])"
      ]
     },
     "metadata": {},
     "output_type": "display_data"
    },
    {
     "data": {
      "text/plain": [
       "array([ 0,  1,  2,  3,  4,  5,  6,  7,  8,  9, 10, 11])"
      ]
     },
     "metadata": {},
     "output_type": "display_data"
    }
   ],
   "source": [
    "#reshape 입력한 행열로 자동 변환\n",
    "# -1 => 자동으로 변환 (1개만 사용가능)\n",
    "arr1 = np.arange(12)\n",
    "display(arr1)\n",
    "display(arr1.reshape(4,3))\n",
    "display(arr1.reshape(-1,2,3))\n",
    "display(arr1.reshape(2,-1,3))\n",
    "display(arr1.reshape(2,3,-1))\n",
    "\n",
    "#다차원 배열을 1차원으로 변환 reshape(-1)\n",
    "display(arr1.reshape(4,3).reshape(-1))\n",
    "\n",
    "display(arr1.reshape(-1,1))\n",
    "\n",
    "#2차원, 1차원 => 추후 필요한형태로 변환\n",
    "display(arr1.reshape(1,-1))\n",
    "display(arr1.reshape(-1))"
   ]
  },
  {
   "cell_type": "code",
   "execution_count": 51,
   "id": "62dc0073",
   "metadata": {},
   "outputs": [
    {
     "data": {
      "text/plain": [
       "array([[1., 2.],\n",
       "       [3., 4.]])"
      ]
     },
     "metadata": {},
     "output_type": "display_data"
    }
   ],
   "source": [
    "# dtype 타입 선언\n",
    "np1 = np.array([[1,2],[3,4]], dtype = float)\n",
    "display(np1)"
   ]
  },
  {
   "cell_type": "code",
   "execution_count": 55,
   "id": "d9cc6334",
   "metadata": {},
   "outputs": [
    {
     "data": {
      "text/plain": [
       "array([[1, 2],\n",
       "       [3, 4]])"
      ]
     },
     "metadata": {},
     "output_type": "display_data"
    },
    {
     "data": {
      "text/plain": [
       "array([[1, 2, 3],\n",
       "       [4, 5, 6],\n",
       "       [7, 8, 9]])"
      ]
     },
     "metadata": {},
     "output_type": "display_data"
    }
   ],
   "source": [
    "# 활용 예\n",
    "np2 = np.arange(1,5).reshape(2,2)\n",
    "display(np2)\n",
    "np3 = np.arange(1,10).reshape(-1,3)\n",
    "display(np3)"
   ]
  },
  {
   "cell_type": "code",
   "execution_count": 58,
   "id": "e59753ad",
   "metadata": {},
   "outputs": [
    {
     "data": {
      "text/plain": [
       "array([2, 4, 6, 8])"
      ]
     },
     "metadata": {},
     "output_type": "display_data"
    }
   ],
   "source": [
    "# array간의 계산\n",
    "display(n1+n1)"
   ]
  },
  {
   "cell_type": "code",
   "execution_count": 63,
   "id": "928a7289",
   "metadata": {},
   "outputs": [
    {
     "name": "stdout",
     "output_type": "stream",
     "text": [
      "[-7 -5 -3  1  2]\n",
      "[49 25  9  1  4]\n",
      "[7 5 3 1 2]\n"
     ]
    }
   ],
   "source": [
    "# array 계산 사용 예\n",
    "# 1차원 에서의 거리\n",
    "score = np.array([1,3,5,9,10])\n",
    "passfail = np.array(['Fail','Fail','Fail','Pass','Pass'])\n",
    "\n",
    "myscore = 8\n",
    "print(score - myscore)\n",
    "\n",
    "dists = score - myscore\n",
    "\n",
    "# 리스트를 제곱\n",
    "print(dists**2)\n",
    "# 리스트의 절대값 (abs)\n",
    "print(np.abs(dists))"
   ]
  },
  {
   "cell_type": "code",
   "execution_count": 80,
   "id": "67969032",
   "metadata": {},
   "outputs": [
    {
     "name": "stdout",
     "output_type": "stream",
     "text": [
      "[[16  0]\n",
      " [ 9 25]\n",
      " [ 4  1]\n",
      " [ 1  9]\n",
      " [ 0  4]\n",
      " [ 4  4]]\n",
      "77\n",
      "77\n",
      "[16 34  5 10  4  8]\n",
      "[4.         5.83095189 2.23606798 3.16227766 2.         2.82842712]\n"
     ]
    }
   ],
   "source": [
    "# 2차원에서의 거리\n",
    "xylist = np.array([\n",
    "    [1,5], #x,y\n",
    "    [2,10],\n",
    "    [3,6],\n",
    "    [4,2],\n",
    "    [5,3],\n",
    "    [7,3]\n",
    "])\n",
    "\n",
    "result = np.array([\"Fail\",\"Fail\",\"Fail\",\"Pass\",\"Pass\",\"Pass\"])\n",
    "\n",
    "myxy = [5,5]\n",
    "\n",
    "dists = (xylist-myxy)**2\n",
    "print(dists)\n",
    "\n",
    "#전체 항목의 덧셈\n",
    "print(dists.sum())\n",
    "print(np.sum(dists))\n",
    "\n",
    "#행단위로 계산\n",
    "# axis = 0 열별 통계\n",
    "# axis = 1 행별 통계\n",
    "print(dists.sum(axis=1))\n",
    "\n",
    "# 루트(제곱근) => sqrt\n",
    "print(np.sqrt(dists.sum(axis=1)))"
   ]
  },
  {
   "cell_type": "code",
   "execution_count": 87,
   "id": "6f4c8303",
   "metadata": {},
   "outputs": [
    {
     "name": "stdout",
     "output_type": "stream",
     "text": [
      "[3.60555128 7.14142843 4.24264069 4.24264069]\n"
     ]
    }
   ],
   "source": [
    "# 사용 예\n",
    "xylist = np.array([\n",
    "    [1,5,3,3], #주류, 식품, 영업매출, 개발매출\n",
    "    [2,10,4,4],\n",
    "    [3,6,7,7],\n",
    "    [4,2,7,8]\n",
    "])\n",
    "\n",
    "result = np.array([\"경고\",\"경고\",\"경고\",\"승진\"])\n",
    "\n",
    "mysell = [2,3,5,5]\n",
    "\n",
    "dists = np.sqrt(((xylist-mysell)**2).sum(axis=1))\n",
    "\n",
    "print(dists)"
   ]
  },
  {
   "cell_type": "code",
   "execution_count": 96,
   "id": "7ff0aff4",
   "metadata": {},
   "outputs": [
    {
     "name": "stdout",
     "output_type": "stream",
     "text": [
      "[1 5 3 3]\n",
      "1\n",
      "[1 2 3 4]\n",
      "8\n"
     ]
    }
   ],
   "source": [
    "# array에 접근\n",
    "print(xylist[0])\n",
    "print(xylist[0][0])\n",
    "print(xylist[:,0]) #행 열 (열만 출력)\n",
    "print(xylist[-1,-1])"
   ]
  },
  {
   "cell_type": "code",
   "execution_count": 123,
   "id": "7feb3cca",
   "metadata": {},
   "outputs": [
    {
     "name": "stdout",
     "output_type": "stream",
     "text": [
      "[ True False False False]\n",
      "[[1 5 3 3]]\n",
      "[[7 7]\n",
      " [7 8]]\n"
     ]
    }
   ],
   "source": [
    "# 참거짓 판별 / 인덱싱\n",
    "arr3 = np.sqrt(((xylist-mysell)**2).sum(axis=1))\n",
    "boolarr3 = (arr3<4)\n",
    "print(boolarr3)\n",
    "\n",
    "# 2차원배열의 모든 요소에 맞게 값넣기 or 행의 개수에 맞게 값넣기\n",
    "print(xylist[arr3<4])\n",
    "\n",
    "#슬라이싱\n",
    "#인덱싱 => 복사 / 슬라이싱 => 참조\n",
    "print(xylist[2:4,2:4])"
   ]
  },
  {
   "cell_type": "code",
   "execution_count": 132,
   "id": "f91ff50c",
   "metadata": {},
   "outputs": [
    {
     "data": {
      "text/plain": [
       "array([['경고', '유예', '경고', '경고'],\n",
       "       ['경고', '유예', '경고', '경고'],\n",
       "       ['경고', '유예', '유예', '유예'],\n",
       "       ['경고', '경고', '유예', '유예']], dtype='<U2')"
      ]
     },
     "execution_count": 132,
     "metadata": {},
     "output_type": "execute_result"
    }
   ],
   "source": [
    "# where 해당하는 좌표 출력\n",
    "arr4 = np.where(xylist<5, \"경고\",\"유예\")\n",
    "arr4"
   ]
  },
  {
   "cell_type": "code",
   "execution_count": 175,
   "id": "fad43615",
   "metadata": {},
   "outputs": [
    {
     "name": "stdout",
     "output_type": "stream",
     "text": [
      "A\n"
     ]
    },
    {
     "data": {
      "text/plain": [
       "1.75"
      ]
     },
     "execution_count": 175,
     "metadata": {},
     "output_type": "execute_result"
    }
   ],
   "source": [
    "# 가장 적은 요소의 위치\n",
    "store = np.array(list(\"ABCD\"))\n",
    "xylist = np.array([\n",
    "    [1,5,3,3], #주류, 식품, 영업매출, 개발매출\n",
    "    [2,10,4,4],\n",
    "    [3,6,7,7],\n",
    "    [4,2,7,8]\n",
    "])\n",
    "\n",
    "# argmin 가장 작은 값의 위치\n",
    "min_index = xylist[:,0].argmin()\n",
    "print(store[min_index])\n",
    "\n",
    "#quantile 백분위\n",
    "np.quantile(xylist[:,0],0.25)"
   ]
  },
  {
   "cell_type": "code",
   "execution_count": 180,
   "id": "7a4958d8",
   "metadata": {},
   "outputs": [
    {
     "name": "stdout",
     "output_type": "stream",
     "text": [
      "[ 5 10  6  2]\n",
      "[ 2  5  6 10]\n",
      "[3 0 2 1]\n",
      "[ 2  5  6 10]\n"
     ]
    }
   ],
   "source": [
    "# 오름차순 정렬 sort\n",
    "print(xylist[:,1])\n",
    "print(np.sort(xylist[:,1]))\n",
    "\n",
    "# 정렬했을시 요소의 위치 argsort\n",
    "xy = xylist[:,1]\n",
    "sortlist = np.argsort(xylist[:,1])\n",
    "print(np.argsort(xylist[:,1]))\n",
    "print(xy[sortlist])"
   ]
  },
  {
   "cell_type": "code",
   "execution_count": 208,
   "id": "782358e8",
   "metadata": {},
   "outputs": [
    {
     "name": "stdout",
     "output_type": "stream",
     "text": [
      "내좌표 와 리스트요소간의 직선거리 : \n",
      "[4.         5.83095189 2.23606798 3.16227766 2.         2.82842712]\n",
      "가장 가까운 위치의 순서 : \n",
      "[4 2 5 3 0 1]\n",
      "정렬 : \n",
      "[2.         2.23606798 2.82842712 3.16227766 4.         5.83095189]\n",
      "['Pass' 'Fail' 'Pass' 'Pass' 'Fail' 'Fail']\n",
      "내 좌표 예측 :  Pass\n",
      "내 좌표 예측 :  Pass\n"
     ]
    }
   ],
   "source": [
    "# 내 좌표 예측\n",
    "좌표리스트 = np.array([\n",
    "    [1, 5],  # x, y\n",
    "    [2, 10],\n",
    "    [3, 6],\n",
    "    [4, 2],\n",
    "    [5, 3],\n",
    "    [7, 3],\n",
    "])\n",
    "구분 = np.array([\"Fail\",\"Fail\",\"Fail\",\"Pass\",\"Pass\",\"Pass\",])\n",
    "\n",
    "내좌표 = [5,5]\n",
    "dists = 좌표리스트 - 내좌표\n",
    "dists = dists**2\n",
    "\n",
    "#내좌표 와 리스트요소간의 직선거리\n",
    "dists = np.sqrt(np.sum(dists, axis=1))\n",
    "print(\"내좌표 와 리스트요소간의 직선거리 : \")\n",
    "print(dists)\n",
    "\n",
    "#직선거리 정렬\n",
    "sort_index=np.argsort(dists)\n",
    "print(\"가장 가까운 위치의 순서 : \")\n",
    "print(sort_index)\n",
    "print(\"정렬 : \")\n",
    "print(dists[sort_index])\n",
    "print(구분[sort_index])\n",
    "\n",
    "#가장가까운 좌표로 예측\n",
    "print(\"내 좌표 예측 : \",구분[sort_index][0])\n",
    "\n",
    "#가장 가까운 3개의 좌표로 예측\n",
    "# 최빈값(가장 많은값)을 뽑는 함수 => 정수 데이터여야한다\n",
    "# bincount(arr) => 0부터 최대값까지의 빈도수\n",
    "# 문자의 최빈값 => np.unique(문자/정수배열, return_counts=True)\n",
    "uql, uqc = np.unique(구분[sort_index][:3], return_counts=True)\n",
    "print(\"내 좌표 예측 : \",uql[np.argmax(uqc)])"
   ]
  }
 ],
 "metadata": {
  "kernelspec": {
   "display_name": "Python 3 (ipykernel)",
   "language": "python",
   "name": "python3"
  },
  "language_info": {
   "codemirror_mode": {
    "name": "ipython",
    "version": 3
   },
   "file_extension": ".py",
   "mimetype": "text/x-python",
   "name": "python",
   "nbconvert_exporter": "python",
   "pygments_lexer": "ipython3",
   "version": "3.9.7"
  }
 },
 "nbformat": 4,
 "nbformat_minor": 5
}
