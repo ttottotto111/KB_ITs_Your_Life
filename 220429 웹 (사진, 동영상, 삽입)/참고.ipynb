{
 "cells": [
  {
   "cell_type": "markdown",
   "metadata": {
    "id": "IqD4Sk9fmxFr"
   },
   "source": [
    "# STEP 0. Import"
   ]
  },
  {
   "cell_type": "code",
   "execution_count": null,
   "metadata": {
    "id": "fyftyKdWo2d4"
   },
   "outputs": [],
   "source": [
    "import os\n",
    "import json\n",
    "import zipfile\n",
    "import urllib\n",
    "import numpy as np\n",
    "import pandas as pd\n",
    "import matplotlib.pyplot as plt\n",
    "import seaborn as sns\n",
    "\n",
    "from tensorflow.keras.preprocessing.text import Tokenizer\n",
    "from tensorflow.keras.preprocessing.sequence import pad_sequences\n",
    "from tensorflow.keras.layers import Embedding, LSTM, Dense, Bidirectional, Flatten\n",
    "from tensorflow.keras.models import Sequential\n",
    "from tensorflow.keras.callbacks import ModelCheckpoint\n",
    "from tensorflow.keras.models import load_model"
   ]
  },
  {
   "cell_type": "markdown",
   "metadata": {
    "id": "UodzHsxymfED"
   },
   "source": [
    "# STEP 1. Load Dataset\n"
   ]
  },
  {
   "cell_type": "code",
   "execution_count": null,
   "metadata": {
    "colab": {
     "base_uri": "https://localhost:8080/"
    },
    "executionInfo": {
     "elapsed": 24,
     "status": "ok",
     "timestamp": 1647998028002,
     "user": {
      "displayName": "­박건우",
      "photoUrl": "https://lh3.googleusercontent.com/a-/AOh14GgkzHxU40PT8D263sWDJkdWREc2VjfSWthm9fa_=s64",
      "userId": "05168116895659168000"
     },
     "user_tz": -540
    },
    "id": "zva6JRsxmMrg",
    "outputId": "26e1132f-4134-4c83-ba60-ebeb91b8b4b8"
   },
   "outputs": [
    {
     "data": {
      "text/plain": [
       "('sarcasm.json', <http.client.HTTPMessage at 0x7f3f78242750>)"
      ]
     },
     "execution_count": 2,
     "metadata": {},
     "output_type": "execute_result"
    }
   ],
   "source": [
    "url = 'https://storage.googleapis.com/download.tensorflow.org/data/sarcasm.json'\n",
    "urllib.request.urlretrieve(url, 'sarcasm.json')"
   ]
  },
  {
   "cell_type": "markdown",
   "metadata": {
    "id": "LbFK72HxSDeX"
   },
   "source": [
    "`datas` 3개  출력\n",
    "* `article_link`: 뉴스 기사 URL\n",
    "* `headline`: 뉴스기사의 제목\n",
    "* `is_sarcastic`: 비꼬는 기사 여부 (비꼼: 1, 일반: 0)"
   ]
  },
  {
   "cell_type": "code",
   "execution_count": null,
   "metadata": {
    "colab": {
     "base_uri": "https://localhost:8080/"
    },
    "executionInfo": {
     "elapsed": 426,
     "status": "ok",
     "timestamp": 1647998031270,
     "user": {
      "displayName": "­박건우",
      "photoUrl": "https://lh3.googleusercontent.com/a-/AOh14GgkzHxU40PT8D263sWDJkdWREc2VjfSWthm9fa_=s64",
      "userId": "05168116895659168000"
     },
     "user_tz": -540
    },
    "id": "kFDm6br_mh-M",
    "outputId": "ee502a0e-9429-4b24-c20d-f0fc8a383fb8"
   },
   "outputs": [
    {
     "data": {
      "text/plain": [
       "[{'article_link': 'https://www.huffingtonpost.com/entry/versace-black-code_us_5861fbefe4b0de3a08f600d5',\n",
       "  'headline': \"former versace store clerk sues over secret 'black code' for minority shoppers\",\n",
       "  'is_sarcastic': 0},\n",
       " {'article_link': 'https://www.huffingtonpost.com/entry/roseanne-revival-review_us_5ab3a497e4b054d118e04365',\n",
       "  'headline': \"the 'roseanne' revival catches up to our thorny political mood, for better and worse\",\n",
       "  'is_sarcastic': 0},\n",
       " {'article_link': 'https://local.theonion.com/mom-starting-to-fear-son-s-web-series-closest-thing-she-1819576697',\n",
       "  'headline': \"mom starting to fear son's web series closest thing she will have to grandchild\",\n",
       "  'is_sarcastic': 1}]"
      ]
     },
     "execution_count": 3,
     "metadata": {},
     "output_type": "execute_result"
    }
   ],
   "source": [
    "with open('sarcasm.json') as f:\n",
    "    datas = json.load(f)\n",
    "datas[:3]"
   ]
  },
  {
   "cell_type": "markdown",
   "metadata": {
    "id": "OEjfWJPqmuDU"
   },
   "source": [
    "# STEP 2. 전처리 (sentences, labels)\n",
    "* X (Feature): sentences\n",
    "* Y (Label): label"
   ]
  },
  {
   "cell_type": "code",
   "execution_count": null,
   "metadata": {
    "id": "CAlFMNfqmpPU"
   },
   "outputs": [],
   "source": [
    "# 코드를 실행하세요.\n",
    "# 비어있는 리스트를 가지는 sentences와 labels 변수를 생성하세요.\n",
    "sentences = []\n",
    "labels = []"
   ]
  },
  {
   "cell_type": "code",
   "execution_count": null,
   "metadata": {
    "id": "yVDWHPi1SPTB"
   },
   "outputs": [],
   "source": [
    "# 반복문을 이용하여 datas의 데이터를 하나씩 data에 대입받으세요.\n",
    "  # 대입받은 data에서 키가 headline인 value를 sentences에 저장하세요.\n",
    "  # 대입받은 data에서 키가 is_sarcastic인 value를 labels에 저장하세요.\n",
    "\n",
    "\n",
    "\n"
   ]
  },
  {
   "cell_type": "code",
   "execution_count": null,
   "metadata": {
    "colab": {
     "base_uri": "https://localhost:8080/"
    },
    "executionInfo": {
     "elapsed": 7,
     "status": "ok",
     "timestamp": 1647998050789,
     "user": {
      "displayName": "­박건우",
      "photoUrl": "https://lh3.googleusercontent.com/a-/AOh14GgkzHxU40PT8D263sWDJkdWREc2VjfSWthm9fa_=s64",
      "userId": "05168116895659168000"
     },
     "user_tz": -540
    },
    "id": "agGPTtwLSbHv",
    "outputId": "93a2c8c4-52c8-4ae7-eb7f-a40779467009"
   },
   "outputs": [
    {
     "data": {
      "text/plain": [
       "[\"former versace store clerk sues over secret 'black code' for minority shoppers\",\n",
       " \"the 'roseanne' revival catches up to our thorny political mood, for better and worse\",\n",
       " \"mom starting to fear son's web series closest thing she will have to grandchild\",\n",
       " 'boehner just wants wife to listen, not come up with alternative debt-reduction ideas',\n",
       " 'j.k. rowling wishes snape happy birthday in the most magical way']"
      ]
     },
     "execution_count": 6,
     "metadata": {},
     "output_type": "execute_result"
    }
   ],
   "source": [
    "# 슬라이싱을 이용하여 sentences에 저장된 5개를 조회하세요\n"
   ]
  },
  {
   "cell_type": "code",
   "execution_count": null,
   "metadata": {
    "colab": {
     "base_uri": "https://localhost:8080/"
    },
    "executionInfo": {
     "elapsed": 7,
     "status": "ok",
     "timestamp": 1647998053794,
     "user": {
      "displayName": "­박건우",
      "photoUrl": "https://lh3.googleusercontent.com/a-/AOh14GgkzHxU40PT8D263sWDJkdWREc2VjfSWthm9fa_=s64",
      "userId": "05168116895659168000"
     },
     "user_tz": -540
    },
    "id": "SF8tCWUoSeRx",
    "outputId": "2396b692-d0fb-4da8-ef31-15de41e963b1"
   },
   "outputs": [
    {
     "data": {
      "text/plain": [
       "[0, 0, 1, 1, 0]"
      ]
     },
     "execution_count": 7,
     "metadata": {},
     "output_type": "execute_result"
    }
   ],
   "source": [
    "# 슬라이싱을 이용하여 labels에 저장된 5개를 조회하세요\n"
   ]
  },
  {
   "cell_type": "code",
   "execution_count": null,
   "metadata": {
    "id": "i5Yx9LVmSjdr"
   },
   "outputs": [],
   "source": [
    "# 슬라이싱을 이용하여 처음부터 20000까지를 train에 저장하세요\n",
    "training_size = 20000\n",
    "train_sentences = \n",
    "train_labels = "
   ]
  },
  {
   "cell_type": "code",
   "execution_count": null,
   "metadata": {
    "id": "DudpieKJSqFT"
   },
   "outputs": [],
   "source": [
    "# 슬라이싱을 이용하여 20000부터 마지막까지를 test에 저장하세요\n",
    "validation_sentences = \n",
    "validation_labels = "
   ]
  },
  {
   "cell_type": "markdown",
   "metadata": {
    "id": "owGJH9aNSvr3"
   },
   "source": [
    "단어의 토큰화를 진행합니다.\n",
    "* `num_words`: 단어 max 사이즈를 지정합니다. 가장 **빈도수가 높은** 단어부터 저장합니다.\n",
    "* `oov_token`: 단어 토큰에 없는 단어를 어떻게 표기할 것인지 지정해줍니다."
   ]
  },
  {
   "cell_type": "code",
   "execution_count": null,
   "metadata": {
    "id": "qNsyNG73St-7"
   },
   "outputs": [],
   "source": [
    "# 코드를 실행하세요.\n",
    "# vocab_size는 1000 oov_tok는 \"<OOV>\"라는 값을 가지도록 변수를 생성하세요.\n",
    "vocab_size = 1000\n",
    "oov_tok = \"<OOV>\""
   ]
  },
  {
   "cell_type": "code",
   "execution_count": null,
   "metadata": {
    "id": "FrWgkN4dS2-q"
   },
   "outputs": [],
   "source": [
    "# Tokenizer를 생성하세요. num_words는 vocab_size를 oov_token는 oov_tok를 지정하세요.\n",
    "tokenizer = "
   ]
  },
  {
   "cell_type": "code",
   "execution_count": null,
   "metadata": {
    "id": "iBbSFSFRS69H"
   },
   "outputs": [],
   "source": [
    "# 생성된 tokenizer의 fit_on_texts 함수를 이용하여 train_sentences를 피팅시키세요.\n"
   ]
  },
  {
   "cell_type": "code",
   "execution_count": null,
   "metadata": {
    "colab": {
     "base_uri": "https://localhost:8080/"
    },
    "executionInfo": {
     "elapsed": 289,
     "status": "ok",
     "timestamp": 1647998520535,
     "user": {
      "displayName": "­박건우",
      "photoUrl": "https://lh3.googleusercontent.com/a-/AOh14GgkzHxU40PT8D263sWDJkdWREc2VjfSWthm9fa_=s64",
      "userId": "05168116895659168000"
     },
     "user_tz": -540
    },
    "id": "d16LHkAES_Z2",
    "outputId": "cc39395c-105f-4f30-aea1-a88b443dfc28"
   },
   "outputs": [
    {
     "name": "stdout",
     "output_type": "stream",
     "text": [
      "<OOV>  \t======>\t 1\n",
      "to  \t======>\t 2\n",
      "of  \t======>\t 3\n",
      "the  \t======>\t 4\n",
      "in  \t======>\t 5\n",
      "for  \t======>\t 6\n",
      "a  \t======>\t 7\n",
      "on  \t======>\t 8\n",
      "and  \t======>\t 9\n",
      "with  \t======>\t 10\n",
      "is  \t======>\t 11\n",
      "new  \t======>\t 12\n",
      "trump  \t======>\t 13\n",
      "man  \t======>\t 14\n",
      "from  \t======>\t 15\n",
      "at  \t======>\t 16\n",
      "about  \t======>\t 17\n",
      "you  \t======>\t 18\n",
      "by  \t======>\t 19\n",
      "this  \t======>\t 20\n",
      "after  \t======>\t 21\n",
      "be  \t======>\t 22\n",
      "up  \t======>\t 23\n",
      "out  \t======>\t 24\n",
      "that  \t======>\t 25\n"
     ]
    }
   ],
   "source": [
    "# 코드를 실행하세요.\n",
    "# 사전 확인\n",
    "for key, value in tokenizer.word_index.items():\n",
    "    print(f'{key}  \\t======>\\t {value}')\n",
    "    if value == 25:\n",
    "        break"
   ]
  },
  {
   "cell_type": "code",
   "execution_count": null,
   "metadata": {
    "colab": {
     "base_uri": "https://localhost:8080/"
    },
    "executionInfo": {
     "elapsed": 308,
     "status": "ok",
     "timestamp": 1647998112054,
     "user": {
      "displayName": "­박건우",
      "photoUrl": "https://lh3.googleusercontent.com/a-/AOh14GgkzHxU40PT8D263sWDJkdWREc2VjfSWthm9fa_=s64",
      "userId": "05168116895659168000"
     },
     "user_tz": -540
    },
    "id": "XGNB2-4MTG3v",
    "outputId": "e268b1d9-e87c-4152-a0ee-af256c62277d"
   },
   "outputs": [
    {
     "data": {
      "text/plain": [
       "25637"
      ]
     },
     "execution_count": 14,
     "metadata": {},
     "output_type": "execute_result"
    }
   ],
   "source": [
    "# 토큰의 길이를 확인하세요.\n",
    "  # len 함수 이용\n"
   ]
  },
  {
   "cell_type": "code",
   "execution_count": null,
   "metadata": {
    "id": "OkPnSnNqTLX8"
   },
   "outputs": [],
   "source": [
    "# 피팅된 tokenizer의 texts_to_sequences 함수를 이용하여 데이터를 토큰화 시키세요.\n",
    "train_sequences = \n",
    "validation_sequences = "
   ]
  },
  {
   "cell_type": "code",
   "execution_count": null,
   "metadata": {
    "colab": {
     "base_uri": "https://localhost:8080/"
    },
    "executionInfo": {
     "elapsed": 6,
     "status": "ok",
     "timestamp": 1647998113969,
     "user": {
      "displayName": "­박건우",
      "photoUrl": "https://lh3.googleusercontent.com/a-/AOh14GgkzHxU40PT8D263sWDJkdWREc2VjfSWthm9fa_=s64",
      "userId": "05168116895659168000"
     },
     "user_tz": -540
    },
    "id": "BKC4NHbdUEVy",
    "outputId": "3b539324-525a-43ec-a9a9-876add0f3379"
   },
   "outputs": [
    {
     "data": {
      "text/plain": [
       "[[328, 1, 799, 1, 1, 47, 389, 1, 1, 6, 1, 1],\n",
       " [4, 1, 1, 1, 23, 2, 161, 1, 390, 1, 6, 251, 9, 889],\n",
       " [153, 890, 2, 891, 1, 1, 595, 1, 221, 133, 36, 45, 2, 1],\n",
       " [1, 38, 213, 382, 2, 1, 29, 288, 23, 10, 1, 1, 1, 958],\n",
       " [715, 672, 1, 1, 1, 662, 553, 5, 4, 92, 1, 90]]"
      ]
     },
     "execution_count": 16,
     "metadata": {},
     "output_type": "execute_result"
    }
   ],
   "source": [
    "# 코드를 실행하세요.\n",
    "# 토큰화 결과 확인\n",
    "train_sequences[:5]\n",
    "# 빈도수로 지정한 num_words=1000 에 의거하여, 빈도수가 1000번째보다 떨어지는 단어는 자동으로 1로 치환"
   ]
  },
  {
   "cell_type": "code",
   "execution_count": null,
   "metadata": {
    "colab": {
     "base_uri": "https://localhost:8080/"
    },
    "executionInfo": {
     "elapsed": 309,
     "status": "ok",
     "timestamp": 1647999335725,
     "user": {
      "displayName": "­박건우",
      "photoUrl": "https://lh3.googleusercontent.com/a-/AOh14GgkzHxU40PT8D263sWDJkdWREc2VjfSWthm9fa_=s64",
      "userId": "05168116895659168000"
     },
     "user_tz": -540
    },
    "id": "u_05mjGIX94r",
    "outputId": "39b6c987-00e4-4852-e2d9-7a308635c2b6"
   },
   "outputs": [
    {
     "data": {
      "text/plain": [
       "(40, 38)"
      ]
     },
     "execution_count": 49,
     "metadata": {},
     "output_type": "execute_result"
    }
   ],
   "source": [
    "# train_sequences에서 각 문장의 단어 개수의 최대값과, validation_sequences에서 각 문장의 단어 개수의 최대값을 구하세요.\n"
   ]
  },
  {
   "cell_type": "code",
   "execution_count": null,
   "metadata": {
    "id": "ySQfy7JSUOLa"
   },
   "outputs": [],
   "source": [
    "## 그대로 실행하세요.\n",
    "# 한 문장의 최대 단어 숫자를 의미하는 max_length 변수를 만들고 40을 저장하세요.\n",
    "max_length = 40\n",
    "\n",
    "# 잘라낼 문장의 위치를 의미하는 trunc_type 변수를 만들고 'post'를 저장하세요.\n",
    "trunc_type='post'\n",
    "\n",
    "# 채워줄 문장의 위치를 의미하는 padding_type 변수를 만들고 'post'를 저장하세요.\n",
    "padding_type='post'"
   ]
  },
  {
   "cell_type": "code",
   "execution_count": null,
   "metadata": {
    "id": "ynXVUWcRUmhp"
   },
   "outputs": [],
   "source": [
    "# pad_sequences 함수를 이용하여 train_sequences과 validation_sequences에 패딩을 적용하세요.\n",
    " # maxlen는 max_length를, truncating는 trunc_type을, padding은 padding_type을 적용하세요.\n",
    "train_padded = \n",
    "validation_padded = "
   ]
  },
  {
   "cell_type": "code",
   "execution_count": null,
   "metadata": {
    "colab": {
     "base_uri": "https://localhost:8080/"
    },
    "executionInfo": {
     "elapsed": 312,
     "status": "ok",
     "timestamp": 1647998927051,
     "user": {
      "displayName": "­박건우",
      "photoUrl": "https://lh3.googleusercontent.com/a-/AOh14GgkzHxU40PT8D263sWDJkdWREc2VjfSWthm9fa_=s64",
      "userId": "05168116895659168000"
     },
     "user_tz": -540
    },
    "id": "tSCj6Md3UzIl",
    "outputId": "5e94142b-15aa-4509-bbec-2c700b485fa8"
   },
   "outputs": [
    {
     "data": {
      "text/plain": [
       "((20000, 40), (6709, 40))"
      ]
     },
     "execution_count": 39,
     "metadata": {},
     "output_type": "execute_result"
    }
   ],
   "source": [
    "# 패딩이 완료된 데이터의 shape을 조회하세요.\n"
   ]
  },
  {
   "cell_type": "code",
   "execution_count": null,
   "metadata": {
    "colab": {
     "base_uri": "https://localhost:8080/"
    },
    "executionInfo": {
     "elapsed": 312,
     "status": "ok",
     "timestamp": 1647999412514,
     "user": {
      "displayName": "­박건우",
      "photoUrl": "https://lh3.googleusercontent.com/a-/AOh14GgkzHxU40PT8D263sWDJkdWREc2VjfSWthm9fa_=s64",
      "userId": "05168116895659168000"
     },
     "user_tz": -540
    },
    "id": "tf6QxBNnaped",
    "outputId": "94c66de9-4d41-4405-d62d-0d83a87bea8f"
   },
   "outputs": [
    {
     "data": {
      "text/plain": [
       "array([[328,   1, 799,   1,   1,  47, 389,   1,   1,   6,   1,   1,   0,\n",
       "          0,   0,   0,   0,   0,   0,   0,   0,   0,   0,   0,   0,   0,\n",
       "          0,   0,   0,   0,   0,   0,   0,   0,   0,   0,   0,   0,   0,\n",
       "          0],\n",
       "       [  4,   1,   1,   1,  23,   2, 161,   1, 390,   1,   6, 251,   9,\n",
       "        889,   0,   0,   0,   0,   0,   0,   0,   0,   0,   0,   0,   0,\n",
       "          0,   0,   0,   0,   0,   0,   0,   0,   0,   0,   0,   0,   0,\n",
       "          0],\n",
       "       [153, 890,   2, 891,   1,   1, 595,   1, 221, 133,  36,  45,   2,\n",
       "          1,   0,   0,   0,   0,   0,   0,   0,   0,   0,   0,   0,   0,\n",
       "          0,   0,   0,   0,   0,   0,   0,   0,   0,   0,   0,   0,   0,\n",
       "          0]], dtype=int32)"
      ]
     },
     "execution_count": 54,
     "metadata": {},
     "output_type": "execute_result"
    }
   ],
   "source": [
    "# train_padded의 상위 3개의 데이터를 조회하세요.\n"
   ]
  },
  {
   "cell_type": "code",
   "execution_count": null,
   "metadata": {
    "id": "7LRwoQKoU2up"
   },
   "outputs": [],
   "source": [
    "# train_labels과 validation_labels을 numpy array로 변경하세요.\n",
    "train_labels = \n",
    "validation_labels = "
   ]
  },
  {
   "cell_type": "markdown",
   "metadata": {
    "id": "fSRWqyPyVI0W"
   },
   "source": [
    "# STEP 3. 모델 정의 (Sequential)"
   ]
  },
  {
   "cell_type": "code",
   "execution_count": null,
   "metadata": {
    "colab": {
     "base_uri": "https://localhost:8080/"
    },
    "executionInfo": {
     "elapsed": 663,
     "status": "ok",
     "timestamp": 1648000508923,
     "user": {
      "displayName": "­박건우",
      "photoUrl": "https://lh3.googleusercontent.com/a-/AOh14GgkzHxU40PT8D263sWDJkdWREc2VjfSWthm9fa_=s64",
      "userId": "05168116895659168000"
     },
     "user_tz": -540
    },
    "id": "etFKfB7jdndj",
    "outputId": "787c66fe-4705-4351-c568-7277c9cbb7a5"
   },
   "outputs": [
    {
     "name": "stdout",
     "output_type": "stream",
     "text": [
      "Model: \"sequential_5\"\n",
      "_________________________________________________________________\n",
      " Layer (type)                Output Shape              Param #   \n",
      "=================================================================\n",
      " embedding_6 (Embedding)     (None, 40, 16)            16000     \n",
      "                                                                 \n",
      " lstm_7 (LSTM)               (None, 64)                20736     \n",
      "                                                                 \n",
      " dense_13 (Dense)            (None, 32)                2080      \n",
      "                                                                 \n",
      " dense_14 (Dense)            (None, 1)                 33        \n",
      "                                                                 \n",
      "=================================================================\n",
      "Total params: 38,849\n",
      "Trainable params: 38,849\n",
      "Non-trainable params: 0\n",
      "_________________________________________________________________\n"
     ]
    }
   ],
   "source": [
    "## 모델을 정의하세요. (Embedding Layer ==> RNN(LSTM, GRU) Layer ==>  Dense Layer)\n",
    "# Embedding Layer의 output size는 16으로 지정하세요.\n",
    "# Embedding Layer의 input_length는 max_length로 지정하세요.\n",
    "model = \n",
    "\n",
    "\n",
    "\n",
    "\n",
    "\n",
    "\n",
    "\n",
    "model.summary()"
   ]
  },
  {
   "cell_type": "markdown",
   "metadata": {
    "id": "flo24D5ufpKp"
   },
   "source": [
    "# STEP 4. 컴파일 (compile)"
   ]
  },
  {
   "cell_type": "code",
   "execution_count": null,
   "metadata": {
    "id": "5Un9S86ofpKq"
   },
   "outputs": [],
   "source": [
    "# adam과 binary_crossentropy를 사용하여 모델을 컴파일하세요.\n"
   ]
  },
  {
   "cell_type": "markdown",
   "metadata": {
    "id": "q9G7zJtNfpKq"
   },
   "source": [
    "## ModelCheckpoint: 체크포인트 생성"
   ]
  },
  {
   "cell_type": "code",
   "execution_count": null,
   "metadata": {
    "id": "1SqS9L3MfpKr"
   },
   "outputs": [],
   "source": [
    "# 코드를 실행하세요.\n",
    "# ModelCheckpoint를 생성하세요.\n",
    "checkpoint = ModelCheckpoint('model.h5',\n",
    "                             save_best_only=True, \n",
    "                             monitor='val_loss',\n",
    "                             verbose=1)"
   ]
  },
  {
   "cell_type": "code",
   "execution_count": null,
   "metadata": {
    "colab": {
     "base_uri": "https://localhost:8080/"
    },
    "executionInfo": {
     "elapsed": 83470,
     "status": "ok",
     "timestamp": 1648000592692,
     "user": {
      "displayName": "­박건우",
      "photoUrl": "https://lh3.googleusercontent.com/a-/AOh14GgkzHxU40PT8D263sWDJkdWREc2VjfSWthm9fa_=s64",
      "userId": "05168116895659168000"
     },
     "user_tz": -540
    },
    "id": "M9110ZM7fpKr",
    "outputId": "bf0e08d5-07b8-4835-8814-cbb86ad44de8"
   },
   "outputs": [
    {
     "name": "stdout",
     "output_type": "stream",
     "text": [
      "Epoch 1/15\n",
      "624/625 [============================>.] - ETA: 0s - loss: 0.4961 - acc: 0.7488\n",
      "Epoch 1: val_loss improved from inf to 0.42350, saving model to model.h5\n",
      "625/625 [==============================] - 6s 7ms/step - loss: 0.4958 - acc: 0.7491 - val_loss: 0.4235 - val_acc: 0.8103\n",
      "Epoch 2/15\n",
      "621/625 [============================>.] - ETA: 0s - loss: 0.3844 - acc: 0.8253\n",
      "Epoch 2: val_loss improved from 0.42350 to 0.40166, saving model to model.h5\n",
      "625/625 [==============================] - 4s 6ms/step - loss: 0.3841 - acc: 0.8256 - val_loss: 0.4017 - val_acc: 0.8135\n",
      "Epoch 3/15\n",
      "623/625 [============================>.] - ETA: 0s - loss: 0.3745 - acc: 0.8325\n",
      "Epoch 3: val_loss improved from 0.40166 to 0.39489, saving model to model.h5\n",
      "625/625 [==============================] - 4s 6ms/step - loss: 0.3743 - acc: 0.8324 - val_loss: 0.3949 - val_acc: 0.8210\n",
      "Epoch 4/15\n",
      "625/625 [==============================] - ETA: 0s - loss: 0.3658 - acc: 0.8362\n",
      "Epoch 4: val_loss did not improve from 0.39489\n",
      "625/625 [==============================] - 4s 6ms/step - loss: 0.3658 - acc: 0.8362 - val_loss: 0.4095 - val_acc: 0.8171\n",
      "Epoch 5/15\n",
      "618/625 [============================>.] - ETA: 0s - loss: 0.3608 - acc: 0.8389\n",
      "Epoch 5: val_loss did not improve from 0.39489\n",
      "625/625 [==============================] - 4s 6ms/step - loss: 0.3611 - acc: 0.8385 - val_loss: 0.4057 - val_acc: 0.8182\n",
      "Epoch 6/15\n",
      "621/625 [============================>.] - ETA: 0s - loss: 0.3575 - acc: 0.8398\n",
      "Epoch 6: val_loss did not improve from 0.39489\n",
      "625/625 [==============================] - 4s 6ms/step - loss: 0.3571 - acc: 0.8400 - val_loss: 0.4025 - val_acc: 0.8208\n",
      "Epoch 7/15\n",
      "624/625 [============================>.] - ETA: 0s - loss: 0.3507 - acc: 0.8403\n",
      "Epoch 7: val_loss did not improve from 0.39489\n",
      "625/625 [==============================] - 4s 6ms/step - loss: 0.3507 - acc: 0.8403 - val_loss: 0.3989 - val_acc: 0.8167\n",
      "Epoch 8/15\n",
      "619/625 [============================>.] - ETA: 0s - loss: 0.3435 - acc: 0.8421\n",
      "Epoch 8: val_loss did not improve from 0.39489\n",
      "625/625 [==============================] - 4s 6ms/step - loss: 0.3438 - acc: 0.8421 - val_loss: 0.4151 - val_acc: 0.8222\n",
      "Epoch 9/15\n",
      "620/625 [============================>.] - ETA: 0s - loss: 0.3413 - acc: 0.8400\n",
      "Epoch 9: val_loss did not improve from 0.39489\n",
      "625/625 [==============================] - 4s 6ms/step - loss: 0.3410 - acc: 0.8403 - val_loss: 0.4152 - val_acc: 0.8220\n",
      "Epoch 10/15\n",
      "623/625 [============================>.] - ETA: 0s - loss: 0.3329 - acc: 0.8427\n",
      "Epoch 10: val_loss did not improve from 0.39489\n",
      "625/625 [==============================] - 4s 6ms/step - loss: 0.3329 - acc: 0.8426 - val_loss: 0.4358 - val_acc: 0.8167\n",
      "Epoch 11/15\n",
      "617/625 [============================>.] - ETA: 0s - loss: 0.3294 - acc: 0.8425\n",
      "Epoch 11: val_loss did not improve from 0.39489\n",
      "625/625 [==============================] - 4s 6ms/step - loss: 0.3297 - acc: 0.8423 - val_loss: 0.4182 - val_acc: 0.8141\n",
      "Epoch 12/15\n",
      "621/625 [============================>.] - ETA: 0s - loss: 0.3239 - acc: 0.8458\n",
      "Epoch 12: val_loss did not improve from 0.39489\n",
      "625/625 [==============================] - 4s 6ms/step - loss: 0.3240 - acc: 0.8457 - val_loss: 0.4434 - val_acc: 0.8204\n",
      "Epoch 13/15\n",
      "618/625 [============================>.] - ETA: 0s - loss: 0.3206 - acc: 0.8494\n",
      "Epoch 13: val_loss did not improve from 0.39489\n",
      "625/625 [==============================] - 4s 6ms/step - loss: 0.3205 - acc: 0.8493 - val_loss: 0.4256 - val_acc: 0.8177\n",
      "Epoch 14/15\n",
      "618/625 [============================>.] - ETA: 0s - loss: 0.3147 - acc: 0.8501\n",
      "Epoch 14: val_loss did not improve from 0.39489\n",
      "625/625 [==============================] - 4s 6ms/step - loss: 0.3147 - acc: 0.8500 - val_loss: 0.4383 - val_acc: 0.8125\n",
      "Epoch 15/15\n",
      "621/625 [============================>.] - ETA: 0s - loss: 0.3116 - acc: 0.8516\n",
      "Epoch 15: val_loss did not improve from 0.39489\n",
      "625/625 [==============================] - 4s 6ms/step - loss: 0.3116 - acc: 0.8515 - val_loss: 0.4203 - val_acc: 0.8149\n"
     ]
    }
   ],
   "source": [
    "# 데이터를 학습하세요,\n"
   ]
  },
  {
   "cell_type": "code",
   "execution_count": null,
   "metadata": {
    "id": "AmCSlK8-fpKr"
   },
   "outputs": [],
   "source": [
    "# load_model 함수로 저장된 모델을 불러오세요\n",
    "loaded_model = "
   ]
  },
  {
   "cell_type": "code",
   "execution_count": null,
   "metadata": {
    "colab": {
     "base_uri": "https://localhost:8080/"
    },
    "executionInfo": {
     "elapsed": 1433,
     "status": "ok",
     "timestamp": 1648000594520,
     "user": {
      "displayName": "­박건우",
      "photoUrl": "https://lh3.googleusercontent.com/a-/AOh14GgkzHxU40PT8D263sWDJkdWREc2VjfSWthm9fa_=s64",
      "userId": "05168116895659168000"
     },
     "user_tz": -540
    },
    "id": "-UFvSrGsfpKs",
    "outputId": "3780625c-26e5-4d60-a041-7cebc6280545"
   },
   "outputs": [
    {
     "name": "stdout",
     "output_type": "stream",
     "text": [
      "210/210 [==============================] - 1s 4ms/step - loss: 0.3949 - acc: 0.8210\n"
     ]
    },
    {
     "data": {
      "text/plain": [
       "[0.39488595724105835, 0.8209867477416992]"
      ]
     },
     "execution_count": 79,
     "metadata": {},
     "output_type": "execute_result"
    }
   ],
   "source": [
    "# evaluate 함수를 이용하여 모델의 성능을 평가하세요\n"
   ]
  }
 ],
 "metadata": {
  "accelerator": "GPU",
  "colab": {
   "collapsed_sections": [],
   "name": "KB_HW6_뉴스풍자_분류_Q.ipynb",
   "provenance": []
  },
  "kernelspec": {
   "display_name": "Python 3 (ipykernel)",
   "language": "python",
   "name": "python3"
  },
  "language_info": {
   "codemirror_mode": {
    "name": "ipython",
    "version": 3
   },
   "file_extension": ".py",
   "mimetype": "text/x-python",
   "name": "python",
   "nbconvert_exporter": "python",
   "pygments_lexer": "ipython3",
   "version": "3.9.7"
  },
  "toc": {
   "base_numbering": 1,
   "nav_menu": {},
   "number_sections": true,
   "sideBar": true,
   "skip_h1_title": false,
   "title_cell": "Table of Contents",
   "title_sidebar": "Contents",
   "toc_cell": false,
   "toc_position": {},
   "toc_section_display": true,
   "toc_window_display": false
  },
  "varInspector": {
   "cols": {
    "lenName": 16,
    "lenType": 16,
    "lenVar": 40
   },
   "kernels_config": {
    "python": {
     "delete_cmd_postfix": "",
     "delete_cmd_prefix": "del ",
     "library": "var_list.py",
     "varRefreshCmd": "print(var_dic_list())"
    },
    "r": {
     "delete_cmd_postfix": ") ",
     "delete_cmd_prefix": "rm(",
     "library": "var_list.r",
     "varRefreshCmd": "cat(var_dic_list()) "
    }
   },
   "types_to_exclude": [
    "module",
    "function",
    "builtin_function_or_method",
    "instance",
    "_Feature"
   ],
   "window_display": false
  }
 },
 "nbformat": 4,
 "nbformat_minor": 1
}
