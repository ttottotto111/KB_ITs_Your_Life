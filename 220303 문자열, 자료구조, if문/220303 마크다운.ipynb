{
 "cells": [
  {
   "cell_type": "markdown",
   "id": "4e403b69",
   "metadata": {},
   "source": [
    "마크다운은 간편한 HTML 작성 기술\n",
    "\n",
    "# KB은행 AI과정\n",
    "\n",
    "- 파이썬\n",
    "- 크롤링\n",
    "- 빅데이터\n",
    "- 머신러닝\n",
    "- 딥러닝\n",
    "- 챗봇\n",
    "- 장고 프레임워크\n",
    "\n",
    "## 순서목록\n",
    "\n",
    "1. 파이썬\n",
    "1. 크롤링\n",
    "1. 빅데이터\n",
    "2. 머신러닝\n",
    "2. 딥러닝\n",
    "2. 챗봇\n",
    "3. 장고 프레임워크\n",
    "\n",
    "## 코드블럭\n",
    "```\n",
    "# 다른 사람과 코드를 주고 받을때 사용\n",
    "a = 100\n",
    "print(a)\n",
    "```\n",
    "***\n",
    "\n",
    "[네이버] (http://naver.com)\n",
    "\n",
    "![사진](https://post-phinf.pstatic.net/MjAyMjAyMjRfMTQg/MDAxNjQ1Njc3NzEzMDk0.ZY8y6TgCWsQn-9PtU2NgyzZIZXxvmxxKovYVpcKP2I8g.z04ffjM409tGuMHlukshDSCcKNvQw2Y0aL6WQG0ApYwg.JPEG/CT5-V_%EB%B8%94%EB%9E%99%EC%9C%99_%ED%8B%B0%EC%A0%80_1.jpg?type=w1200)"
   ]
  },
  {
   "cell_type": "code",
   "execution_count": null,
   "id": "023f52ed",
   "metadata": {},
   "outputs": [],
   "source": []
  }
 ],
 "metadata": {
  "kernelspec": {
   "display_name": "Python 3 (ipykernel)",
   "language": "python",
   "name": "python3"
  },
  "language_info": {
   "codemirror_mode": {
    "name": "ipython",
    "version": 3
   },
   "file_extension": ".py",
   "mimetype": "text/x-python",
   "name": "python",
   "nbconvert_exporter": "python",
   "pygments_lexer": "ipython3",
   "version": "3.9.7"
  }
 },
 "nbformat": 4,
 "nbformat_minor": 5
}
