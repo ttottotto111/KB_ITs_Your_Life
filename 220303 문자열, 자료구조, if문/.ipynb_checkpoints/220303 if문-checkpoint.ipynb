{
 "cells": [
  {
   "cell_type": "code",
   "execution_count": 6,
   "id": "b45393be",
   "metadata": {},
   "outputs": [
    {
     "name": "stdout",
     "output_type": "stream",
     "text": [
      "태어난 해를 4자리로 입력하세요 : 1997\n",
      "26살 입니다.\n"
     ]
    }
   ],
   "source": [
    "#if문\n",
    "ans = input(\"태어난 해를 4자리로 입력하세요 : \")\n",
    "#입력값이 숫자가 아니면\n",
    "if ans.isdecimal():\n",
    "    print(f\"{2022-int(ans)+1}살 입니다.\")\n",
    "else:\n",
    "    print(\"숫자가 아닙니다.\")"
   ]
  },
  {
   "cell_type": "code",
   "execution_count": 8,
   "id": "2822b01c",
   "metadata": {},
   "outputs": [
    {
     "name": "stdout",
     "output_type": "stream",
     "text": [
      "태어난 해를 4자리로 입력하세요 : 2006\n",
      "미성년자입니다.\n"
     ]
    }
   ],
   "source": [
    "#elif 문\n",
    "ans = input(\"태어난 해를 4자리로 입력하세요 : \")\n",
    "age = 2022-int(ans)+1\n",
    "if age<19:\n",
    "    print(\"미성년자입니다.\")\n",
    "elif age<35:\n",
    "    print(\"청년입니다.\")\n",
    "else:\n",
    "    print(\"나이가 많군요\")"
   ]
  },
  {
   "cell_type": "code",
   "execution_count": 9,
   "id": "ee9a84ca",
   "metadata": {},
   "outputs": [
    {
     "name": "stdout",
     "output_type": "stream",
     "text": [
      "태어난 해를 4자리로 입력하세요 : 1997\n",
      "26살 입니다.\n",
      "청년입니다\n"
     ]
    }
   ],
   "source": [
    "#3항 연산자\n",
    "ans = input(\"태어난 해를 4자리로 입력하세요 : \")\n",
    "age = 2022-int(ans)+1\n",
    "\n",
    "print(f\"{age}살 입니다.\")\n",
    "msg = \"미성년입니다\"if age < 19 else \"청년입니다\" if age<35 else \"나이가 많군요\"\n",
    "print(msg)"
   ]
  },
  {
   "cell_type": "code",
   "execution_count": 14,
   "id": "be25b844",
   "metadata": {},
   "outputs": [
    {
     "name": "stdout",
     "output_type": "stream",
     "text": [
      "성적을 입력하세요 : 90\n",
      "A\n"
     ]
    }
   ],
   "source": [
    "#예제 elif 사용\n",
    "grade = int(input(\"성적을 입력하세요 : \"))\n",
    "\n",
    "if grade <70:\n",
    "    print(\"D\")\n",
    "elif grade <80:\n",
    "    print(\"C\")\n",
    "elif grade<90:\n",
    "    print(\"B\")\n",
    "else:\n",
    "    print(\"A\")"
   ]
  },
  {
   "cell_type": "code",
   "execution_count": 21,
   "id": "96377d6b",
   "metadata": {},
   "outputs": [
    {
     "name": "stdout",
     "output_type": "stream",
     "text": [
      "성적을 입력하세요 : 70\n",
      "C\n"
     ]
    }
   ],
   "source": [
    "#예제 3항연산자 사용\n",
    "grade = int(input(\"성적을 입력하세요 : \"))\n",
    "\n",
    "msg = 'D' if grade<70 else \"C\" if grade<80 else \"B\" if grade<90 else \"A\"\n",
    "print(msg)"
   ]
  }
 ],
 "metadata": {
  "kernelspec": {
   "display_name": "Python 3 (ipykernel)",
   "language": "python",
   "name": "python3"
  },
  "language_info": {
   "codemirror_mode": {
    "name": "ipython",
    "version": 3
   },
   "file_extension": ".py",
   "mimetype": "text/x-python",
   "name": "python",
   "nbconvert_exporter": "python",
   "pygments_lexer": "ipython3",
   "version": "3.9.7"
  }
 },
 "nbformat": 4,
 "nbformat_minor": 5
}
