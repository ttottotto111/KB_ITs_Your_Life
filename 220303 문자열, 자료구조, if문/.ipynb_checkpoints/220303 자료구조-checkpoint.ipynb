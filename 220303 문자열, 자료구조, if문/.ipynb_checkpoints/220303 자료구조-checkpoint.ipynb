{
 "cells": [
  {
   "cell_type": "code",
   "execution_count": 2,
   "id": "453b5ef2",
   "metadata": {
    "scrolled": true
   },
   "outputs": [
    {
     "name": "stdout",
     "output_type": "stream",
     "text": [
      "mylist []\n"
     ]
    }
   ],
   "source": [
    "# 빈 리스트 생성\n",
    "mylist = []\n",
    "mylist = list()\n",
    "print(\"mylist\", mylist)"
   ]
  },
  {
   "cell_type": "code",
   "execution_count": 6,
   "id": "17087ee1",
   "metadata": {},
   "outputs": [
    {
     "name": "stdout",
     "output_type": "stream",
     "text": [
      "mylist [5, 5, 5, 3, 5, 3]\n"
     ]
    }
   ],
   "source": [
    "# 추가 (append)\n",
    "mylist.append(5)\n",
    "mylist.append(3)\n",
    "print(\"mylist\", mylist)"
   ]
  },
  {
   "cell_type": "code",
   "execution_count": 8,
   "id": "aee65021",
   "metadata": {},
   "outputs": [
    {
     "name": "stdout",
     "output_type": "stream",
     "text": [
      "mylist [5, 5, 9, 5, 3, 5, 3]\n"
     ]
    }
   ],
   "source": [
    "# 추가 (insert)\n",
    "mylist.insert(2,9) # 2번요소를 9로 변환\n",
    "print(\"mylist\", mylist)"
   ]
  },
  {
   "cell_type": "code",
   "execution_count": 14,
   "id": "cc40d6c4",
   "metadata": {},
   "outputs": [
    {
     "name": "stdout",
     "output_type": "stream",
     "text": [
      "mylist [5, [100, 200, 300], 20, 30, 30, 30, 5, 3, 5, 3]\n"
     ]
    }
   ],
   "source": [
    "#수정 (인덱싱)\n",
    "mylist[1] = [100,200,300]\n",
    "print(\"mylist\", mylist)"
   ]
  },
  {
   "cell_type": "code",
   "execution_count": 13,
   "id": "07987ce4",
   "metadata": {},
   "outputs": [
    {
     "name": "stdout",
     "output_type": "stream",
     "text": [
      "mylist [5, 10, 20, 30, 30, 30, 5, 3, 5, 3]\n"
     ]
    }
   ],
   "source": [
    "#수정 (슬라이싱)\n",
    "mylist[1:3] = [10,20,30] #1이상 3미만을 10,20,30 으로 변환\n",
    "print(\"mylist\", mylist)"
   ]
  },
  {
   "cell_type": "code",
   "execution_count": 17,
   "id": "bdb04678",
   "metadata": {},
   "outputs": [
    {
     "name": "stdout",
     "output_type": "stream",
     "text": [
      "mylist [3, 3, 5, 5, 5, 10, 20, 30, 30, 30]\n"
     ]
    }
   ],
   "source": [
    "# 오름차순 정렬\n",
    "mylist.sort()\n",
    "print(\"mylist\", mylist)"
   ]
  },
  {
   "cell_type": "code",
   "execution_count": 18,
   "id": "042e5e0c",
   "metadata": {},
   "outputs": [
    {
     "name": "stdout",
     "output_type": "stream",
     "text": [
      "mylist [30, 30, 30, 20, 10, 5, 5, 5, 3, 3]\n"
     ]
    }
   ],
   "source": [
    "# 내림차순 정렬\n",
    "mylist.sort(reverse = True) #파라미터의 기본값은 대부분 False\n",
    "print(\"mylist\", mylist)"
   ]
  },
  {
   "cell_type": "code",
   "execution_count": 19,
   "id": "9cafa6b4",
   "metadata": {},
   "outputs": [
    {
     "name": "stdout",
     "output_type": "stream",
     "text": [
      "mylist [30, 30, 30, 20, 10, 5, 5, 5, 3]\n"
     ]
    }
   ],
   "source": [
    "# 삭제(pop)\n",
    "mylist.pop() #맨 마지막 값 반환 및 삭제\n",
    "print(\"mylist\", mylist)"
   ]
  },
  {
   "cell_type": "code",
   "execution_count": 20,
   "id": "30c1cbd4",
   "metadata": {},
   "outputs": [
    {
     "name": "stdout",
     "output_type": "stream",
     "text": [
      "mylist [30, 30, 20, 10, 5, 5, 5, 3]\n"
     ]
    }
   ],
   "source": [
    "# 삭제(pop)\n",
    "mylist.pop(0) #0번째 요소 반환 및 삭제\n",
    "print(\"mylist\", mylist)"
   ]
  },
  {
   "cell_type": "code",
   "execution_count": 21,
   "id": "0d779ec6",
   "metadata": {},
   "outputs": [
    {
     "name": "stdout",
     "output_type": "stream",
     "text": [
      "mylist [30, 30, 20, 5, 5, 5, 3]\n"
     ]
    }
   ],
   "source": [
    "# 삭제 (remove)\n",
    "mylist.remove(10) # 값이 10인 항목 삭제\n",
    "print(\"mylist\", mylist)"
   ]
  },
  {
   "cell_type": "code",
   "execution_count": 23,
   "id": "6f3a9345",
   "metadata": {},
   "outputs": [
    {
     "name": "stdout",
     "output_type": "stream",
     "text": [
      "mylist [30, 20, 5, 5, 5, 3]\n"
     ]
    }
   ],
   "source": [
    "# 삭제 (del)\n",
    "del mylist[1] # 1번째 요소 삭제\n",
    "print(\"mylist\", mylist)"
   ]
  },
  {
   "cell_type": "code",
   "execution_count": 24,
   "id": "119710db",
   "metadata": {},
   "outputs": [
    {
     "name": "stdout",
     "output_type": "stream",
     "text": [
      "['홍', '박', '이']\n",
      "['박', '이', '홍']\n"
     ]
    }
   ],
   "source": [
    "# 정리\n",
    "all_mem = ['홍','김','박','이']\n",
    "all_mem.pop(1) #김 삭제\n",
    "print(all_mem)\n",
    "all_mem.sort() #오름차순 정렬\n",
    "# 파이썬 -> 유니코드를 따름\n",
    "print(all_mem)"
   ]
  },
  {
   "cell_type": "code",
   "execution_count": 27,
   "id": "6838afd4",
   "metadata": {},
   "outputs": [
    {
     "name": "stdout",
     "output_type": "stream",
     "text": [
      "['홍', '김', '이', '최', '강']\n"
     ]
    }
   ],
   "source": [
    "#리스트 합치기 (수정x, 새로운 리스트 생성)\n",
    "전반기회원 = [\"홍\", \"김\", \"이\"]\n",
    "후반기회원 = [\"최\", \"강\"]\n",
    "전체회원 = 전반기회원 + 후반기회원 # 2개의 리스트를 합친 새로운 리스트 생성\n",
    "print(전체회원)"
   ]
  },
  {
   "cell_type": "code",
   "execution_count": 28,
   "id": "e0be3ea1",
   "metadata": {},
   "outputs": [],
   "source": [
    "# 리스트 확장\n",
    "a = [10,20,30]\n",
    "a = a+[100,200]     #a를 확장하는 방법 1\n",
    "a.extend([100,200]) #a를 확장하는 방법 2"
   ]
  },
  {
   "cell_type": "code",
   "execution_count": 29,
   "id": "3ce2f8cf",
   "metadata": {},
   "outputs": [
    {
     "name": "stdout",
     "output_type": "stream",
     "text": [
      "[10, 20, 50, 100, 200, 300]\n"
     ]
    }
   ],
   "source": [
    "#extend와 append 차이\n",
    "#append는 요소 하나씩 추가 / extend는 요소 여러개씩 추가\n",
    "mylist = [10,20]\n",
    "mylist.append(50)\n",
    "mylist.extend([100,200,300])\n",
    "print(mylist)"
   ]
  },
  {
   "cell_type": "code",
   "execution_count": 39,
   "id": "65909dbf",
   "metadata": {},
   "outputs": [
    {
     "name": "stdout",
     "output_type": "stream",
     "text": [
      "[2, 4, 5, 3, 1]\n"
     ]
    }
   ],
   "source": [
    "#예제 1 (슬라이싱 사용)\n",
    "a = [1,3,5,4,2]\n",
    "print(a[::-1])"
   ]
  },
  {
   "cell_type": "code",
   "execution_count": 6,
   "id": "d635189b",
   "metadata": {},
   "outputs": [
    {
     "name": "stdout",
     "output_type": "stream",
     "text": [
      "[2, 4, 5, 3, 1]\n"
     ]
    }
   ],
   "source": [
    "#예제 1 (reverse 사용)\n",
    "a = [1,3,5,4,2]\n",
    "a.reverse()\n",
    "print(a)"
   ]
  },
  {
   "cell_type": "code",
   "execution_count": 3,
   "id": "40e46d0e",
   "metadata": {},
   "outputs": [
    {
     "name": "stdout",
     "output_type": "stream",
     "text": [
      "Python is too interesting\n"
     ]
    }
   ],
   "source": [
    "#예제 2\n",
    "a = ['Python','is','too','interesting']\n",
    "print(\" \".join(a))"
   ]
  },
  {
   "cell_type": "code",
   "execution_count": 52,
   "id": "16d2d651",
   "metadata": {},
   "outputs": [
    {
     "name": "stdout",
     "output_type": "stream",
     "text": [
      "['홍', '김', '이', '박']\n",
      "회원수 :  4\n",
      "홍-김-이-박\n",
      "홍김이박\n"
     ]
    }
   ],
   "source": [
    "#split\n",
    "회원목록 = \"홍,김,이,박\"\n",
    "회원리스트 = 회원목록.split(\",\")\n",
    "print(회원리스트)\n",
    "print(\"회원수 : \",len(회원리스트))\n",
    "print(\"-\".join(회원리스트)) # 회원이름들을 -로 연결\n",
    "print(\"\".join(회원리스트)) # 회원이름들을 연결"
   ]
  },
  {
   "cell_type": "code",
   "execution_count": 7,
   "id": "8d51444f",
   "metadata": {},
   "outputs": [
    {
     "ename": "NameError",
     "evalue": "name 'mylist' is not defined",
     "output_type": "error",
     "traceback": [
      "\u001b[1;31m---------------------------------------------------------------------------\u001b[0m",
      "\u001b[1;31mNameError\u001b[0m                                 Traceback (most recent call last)",
      "\u001b[1;32m~\\AppData\\Local\\Temp/ipykernel_13628/2489261659.py\u001b[0m in \u001b[0;36m<module>\u001b[1;34m\u001b[0m\n\u001b[0;32m      1\u001b[0m \u001b[1;31m#join\u001b[0m\u001b[1;33m\u001b[0m\u001b[1;33m\u001b[0m\u001b[0m\n\u001b[1;32m----> 2\u001b[1;33m \u001b[0mmylist\u001b[0m\u001b[1;33m\u001b[0m\u001b[1;33m\u001b[0m\u001b[0m\n\u001b[0m\u001b[0;32m      3\u001b[0m \u001b[1;34m\"-\"\u001b[0m\u001b[1;33m.\u001b[0m\u001b[0mjoin\u001b[0m\u001b[1;33m(\u001b[0m\u001b[0mmylist\u001b[0m\u001b[1;33m)\u001b[0m \u001b[1;31m#숫자 리스트를 문자열로 join하면 오류\u001b[0m\u001b[1;33m\u001b[0m\u001b[1;33m\u001b[0m\u001b[0m\n",
      "\u001b[1;31mNameError\u001b[0m: name 'mylist' is not defined"
     ]
    }
   ],
   "source": [
    "#join\n",
    "mylist\n",
    "\"-\".join(mylist) #숫자 리스트를 문자열로 join하면 오류"
   ]
  },
  {
   "cell_type": "code",
   "execution_count": 63,
   "id": "7175fbd9",
   "metadata": {},
   "outputs": [
    {
     "data": {
      "text/plain": [
       "tuple"
      ]
     },
     "execution_count": 63,
     "metadata": {},
     "output_type": "execute_result"
    }
   ],
   "source": [
    "#튜플\n",
    "t1 = (100,200,300)\n",
    "type(t1)"
   ]
  },
  {
   "cell_type": "code",
   "execution_count": 68,
   "id": "2866c934",
   "metadata": {},
   "outputs": [
    {
     "name": "stdout",
     "output_type": "stream",
     "text": [
      "(100, 200, 300)\n"
     ]
    }
   ],
   "source": [
    "# 튜플은 데이터 전달용으로 사용\n",
    "# 함수 반환 타입으로 주로 사용됨\n",
    "# 튜플은 수정이 불가능, 조회만 가능\n",
    "print(t1)"
   ]
  },
  {
   "cell_type": "code",
   "execution_count": 70,
   "id": "9f11a7af",
   "metadata": {},
   "outputs": [
    {
     "name": "stdout",
     "output_type": "stream",
     "text": [
      "<class 'set'>\n",
      "{1, 3, 5}\n"
     ]
    }
   ],
   "source": [
    "# 집합\n",
    "s1 = {1,3,5,3,1} #집합은 중복값이 안들어감\n",
    "print(type(s1)) #집합의 타입은 set\n",
    "print(s1)"
   ]
  },
  {
   "cell_type": "code",
   "execution_count": 71,
   "id": "50738cc9",
   "metadata": {},
   "outputs": [
    {
     "name": "stdout",
     "output_type": "stream",
     "text": [
      "{200, 100, 300}\n"
     ]
    }
   ],
   "source": [
    "# 집합 요소 추가\n",
    "s1 = set() #빈 집합 생성     {1,3,5} => set {\"a\":1,\"b\":3,\"c\":6} => dictionary\n",
    "s1.add(100)\n",
    "s1.add(200)\n",
    "s1.add(300) # 저장관리는 자동\n",
    "print(s1)"
   ]
  },
  {
   "cell_type": "code",
   "execution_count": 75,
   "id": "b0d7aae6",
   "metadata": {},
   "outputs": [
    {
     "name": "stdout",
     "output_type": "stream",
     "text": [
      "결석회원은 :  {'박', '김'}\n",
      "홍\n"
     ]
    }
   ],
   "source": [
    "#집합의 연산 (차집합)\n",
    "전체회원= {'홍','김','이','박'}\n",
    "출석회원= {'이', '홍'}\n",
    "\n",
    "print(\"결석회원은 : \", 전체회원 - 출석회원)\n",
    "print(list(출석회원)[0]) #"
   ]
  },
  {
   "cell_type": "code",
   "execution_count": 76,
   "id": "5148ae54",
   "metadata": {},
   "outputs": [],
   "source": [
    "#로또번호 저장\n",
    "#리스트 -> 중복번호 저장(x)\n",
    "#세트 -> 중복번호 배제(o) -> 순서추출 (x) -> 리스트로 변환후 순서대로 추출"
   ]
  },
  {
   "cell_type": "code",
   "execution_count": 77,
   "id": "e2947322",
   "metadata": {},
   "outputs": [
    {
     "name": "stdout",
     "output_type": "stream",
     "text": [
      "회원리스트 :  4\n",
      "s1 :  3\n"
     ]
    }
   ],
   "source": [
    "print(\"회원리스트 : \",len(회원리스트)) #리스트\n",
    "print(\"s1 : \",len(s1)) #세트"
   ]
  },
  {
   "cell_type": "code",
   "execution_count": 90,
   "id": "487c4159",
   "metadata": {},
   "outputs": [
    {
     "name": "stdout",
     "output_type": "stream",
     "text": [
      "[1, 3, 5, 3, 1]\n",
      "{1, 3, 5}\n",
      "[1, 3, 5]\n"
     ]
    }
   ],
   "source": [
    "#리스트 => set으로 변환 : 중복삭제를 위해\n",
    "mylist = [1,3,5,3,1]\n",
    "print(mylist)\n",
    "myset = set(mylist)\n",
    "print(myset)\n",
    "\n",
    "#set => 리스트로 변환 : 하나씩 추출하기 위해\n",
    "mylist = list(myset)\n",
    "print(mylist)"
   ]
  },
  {
   "cell_type": "code",
   "execution_count": 94,
   "id": "95c765c6",
   "metadata": {},
   "outputs": [
    {
     "name": "stdout",
     "output_type": "stream",
     "text": [
      "[7, 6, 5, 4, 3, 2, 1]\n"
     ]
    }
   ],
   "source": [
    "# 리스트 set 변환 예제\n",
    "a=[1,1,2,2,3,4,4,5,6,7,2]\n",
    "b = set(a)\n",
    "a = list(b)\n",
    "a.sort(reverse = True)\n",
    "print(a)"
   ]
  },
  {
   "cell_type": "code",
   "execution_count": 96,
   "id": "531586bb",
   "metadata": {},
   "outputs": [
    {
     "name": "stdout",
     "output_type": "stream",
     "text": [
      "{1: '홍', 2: '김'}\n"
     ]
    }
   ],
   "source": [
    "#사전(dictionary) 생성\n",
    "회원사전 = {1:'홍', 2:'김'}\n",
    "print(회원사전)"
   ]
  },
  {
   "cell_type": "code",
   "execution_count": 100,
   "id": "ef4b909b",
   "metadata": {},
   "outputs": [
    {
     "name": "stdout",
     "output_type": "stream",
     "text": [
      "None\n"
     ]
    }
   ],
   "source": [
    "#사전 요소 반환\n",
    "# 회원사전[3] => 없으면 에러발생, 실행중단\n",
    "print(회원사전.get(3))"
   ]
  },
  {
   "cell_type": "code",
   "execution_count": 101,
   "id": "c6a2bd7c",
   "metadata": {},
   "outputs": [
    {
     "name": "stdout",
     "output_type": "stream",
     "text": [
      "{1: '홍', 2: '김', 3: '강', 4: '최'}\n"
     ]
    }
   ],
   "source": [
    "#사전 요소 추가\n",
    "회원사전[3] = \"강\"\n",
    "회원사전[4] = \"최\"\n",
    "print(회원사전)"
   ]
  },
  {
   "cell_type": "code",
   "execution_count": 104,
   "id": "79e6c7bf",
   "metadata": {},
   "outputs": [
    {
     "ename": "KeyError",
     "evalue": "2",
     "output_type": "error",
     "traceback": [
      "\u001b[1;31m---------------------------------------------------------------------------\u001b[0m",
      "\u001b[1;31mKeyError\u001b[0m                                  Traceback (most recent call last)",
      "\u001b[1;32m~\\AppData\\Local\\Temp/ipykernel_7828/1240675959.py\u001b[0m in \u001b[0;36m<module>\u001b[1;34m\u001b[0m\n\u001b[0;32m      1\u001b[0m \u001b[1;31m#사전 요소 삭제\u001b[0m\u001b[1;33m\u001b[0m\u001b[1;33m\u001b[0m\u001b[0m\n\u001b[1;32m----> 2\u001b[1;33m \u001b[0m회원사전\u001b[0m\u001b[1;33m.\u001b[0m\u001b[0mpop\u001b[0m\u001b[1;33m(\u001b[0m\u001b[1;36m2\u001b[0m\u001b[1;33m)\u001b[0m\u001b[1;33m\u001b[0m\u001b[1;33m\u001b[0m\u001b[0m\n\u001b[0m\u001b[0;32m      3\u001b[0m \u001b[0mprint\u001b[0m\u001b[1;33m(\u001b[0m\u001b[0m회원사전\u001b[0m\u001b[1;33m)\u001b[0m\u001b[1;33m\u001b[0m\u001b[1;33m\u001b[0m\u001b[0m\n",
      "\u001b[1;31mKeyError\u001b[0m: 2"
     ]
    }
   ],
   "source": [
    "#사전 요소 삭제\n",
    "회원사전.pop(2)\n",
    "print(회원사전)"
   ]
  },
  {
   "cell_type": "code",
   "execution_count": 107,
   "id": "30fe488a",
   "metadata": {},
   "outputs": [
    {
     "name": "stdout",
     "output_type": "stream",
     "text": [
      "dict_keys([1, 3, 4])\n",
      "3\n",
      "1\n"
     ]
    }
   ],
   "source": [
    "#사전 키만 추출\n",
    "k = 회원사전.keys()\n",
    "print(k)\n",
    "print(len(k))\n",
    "#print(k[0]) =>순서를 지원하지 않음 => 리스트로 변환\n",
    "print(list(k)[0])"
   ]
  },
  {
   "cell_type": "code",
   "execution_count": 109,
   "id": "a15c37fe",
   "metadata": {},
   "outputs": [
    {
     "name": "stdout",
     "output_type": "stream",
     "text": [
      "dict_values(['한', '강', '최'])\n",
      "한\n"
     ]
    }
   ],
   "source": [
    "# 사전 값만 추출\n",
    "v = 회원사전.values()\n",
    "print(v)\n",
    "print(list(v)[0])"
   ]
  },
  {
   "cell_type": "code",
   "execution_count": 110,
   "id": "9b2abc08",
   "metadata": {},
   "outputs": [
    {
     "name": "stdout",
     "output_type": "stream",
     "text": [
      "dict_items([(1, '한'), (3, '강'), (4, '최')])\n"
     ]
    }
   ],
   "source": [
    "#사전 키, 값 추출\n",
    "kv = 회원사전.items()\n",
    "print(kv)"
   ]
  },
  {
   "cell_type": "code",
   "execution_count": 125,
   "id": "a52d2f8e",
   "metadata": {},
   "outputs": [
    {
     "data": {
      "text/plain": [
       "False"
      ]
     },
     "execution_count": 125,
     "metadata": {},
     "output_type": "execute_result"
    }
   ],
   "source": [
    "# 키의 존재유무 확인 => in 연산자\n",
    "1 in 회원사전\n",
    "11 in 회원사전"
   ]
  },
  {
   "cell_type": "markdown",
   "id": "a22460bc",
   "metadata": {},
   "source": [
    "### %매직명령어\n",
    "%매직명령어 => 파이썬 명령어x, 실행 환경서버가 제공해주는 명령어  \n",
    "%whos 현재 메모리에 존재하는 변수이름, 타입, 내용을 출력"
   ]
  },
  {
   "cell_type": "code",
   "execution_count": 127,
   "id": "d16d3354",
   "metadata": {},
   "outputs": [
    {
     "name": "stdout",
     "output_type": "stream",
     "text": [
      "Variable   Type           Data/Info\n",
      "-----------------------------------\n",
      "A          dict           n=2\n",
      "a          str            Python\n",
      "all_mem    list           n=3\n",
      "b          list           n=6\n",
      "c          tuple          n=6\n",
      "d          str            Python\n",
      "e          set            {'b', 'a', 'd', 'c', 'f', 'e'}\n",
      "k          dict_keys      dict_keys([1, 3, 4])\n",
      "kv         dict_items     dict_items([(1, '한'), (3, '강'), (4, '최')])\n",
      "mylist     list           n=3\n",
      "myset      set            {1, 3, 5}\n",
      "s1         set            {200, 100, 300}\n",
      "t1         tuple          n=3\n",
      "v          dict_values    dict_values(['한', '강', '최'])\n",
      "전반기회원      list           n=3\n",
      "전체회원       set            {'홍', '김', '박', '이'}\n",
      "출석회원       set            {'홍', '이'}\n",
      "회원리스트      list           n=4\n",
      "회원목록       str            홍,김,이,박\n",
      "회원사전       dict           n=3\n",
      "후반기회원      list           n=2\n"
     ]
    }
   ],
   "source": [
    "%whos"
   ]
  },
  {
   "cell_type": "code",
   "execution_count": 128,
   "id": "c9b2088d",
   "metadata": {},
   "outputs": [
    {
     "name": "stdout",
     "output_type": "stream",
     "text": [
      "[1, 3, 5]\n",
      "True False\n"
     ]
    }
   ],
   "source": [
    "# in 연산자 => 리스트에서는 값의 존재유무 확인\n",
    "print(mylist)\n",
    "print(1 in mylist, 2 in mylist)"
   ]
  }
 ],
 "metadata": {
  "kernelspec": {
   "display_name": "Python 3 (ipykernel)",
   "language": "python",
   "name": "python3"
  },
  "language_info": {
   "codemirror_mode": {
    "name": "ipython",
    "version": 3
   },
   "file_extension": ".py",
   "mimetype": "text/x-python",
   "name": "python",
   "nbconvert_exporter": "python",
   "pygments_lexer": "ipython3",
   "version": "3.9.7"
  }
 },
 "nbformat": 4,
 "nbformat_minor": 5
}
