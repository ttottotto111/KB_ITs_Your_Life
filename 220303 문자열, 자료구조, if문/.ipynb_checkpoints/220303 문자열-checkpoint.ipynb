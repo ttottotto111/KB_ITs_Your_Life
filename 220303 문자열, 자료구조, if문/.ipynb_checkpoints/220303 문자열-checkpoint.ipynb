{
 "cells": [
  {
   "cell_type": "markdown",
   "id": "e6ef5bd5",
   "metadata": {},
   "source": [
    "# 문자열 포매팅"
   ]
  },
  {
   "cell_type": "code",
   "execution_count": 1,
   "id": "8045bdb7",
   "metadata": {},
   "outputs": [
    {
     "data": {
      "text/plain": [
       "'홍길동 는 100'"
      ]
     },
     "execution_count": 1,
     "metadata": {},
     "output_type": "execute_result"
    }
   ],
   "source": [
    "a = 100\n",
    "name = '홍길동'\n",
    "\"%s 는 %d\" %(name, a)"
   ]
  },
  {
   "cell_type": "code",
   "execution_count": 11,
   "id": "db282923",
   "metadata": {},
   "outputs": [
    {
     "name": "stdout",
     "output_type": "stream",
     "text": [
      "홍길동 는 100\n",
      "100 는 홍길동\n",
      "100 는 100\n",
      "홍길동 는 100\n",
      "홍길동   는 100\n"
     ]
    }
   ],
   "source": [
    "#순서대로 치환\n",
    "print(\"{} 는 {}\".format(name, a))\n",
    "\n",
    "#순서를 부여\n",
    "print(\"{1} 는 {0}\".format(name, a))\n",
    "print(\"{1} 는 {1}\".format(name, a))\n",
    "\n",
    "#키워드를 부여\n",
    "print(\"{myname} 는 {age}\".format(age=a, myname=name))\n",
    "\n",
    "#자리수 지정\n",
    "print(\"{:5s} 는 {:3d}\".format(name, a))"
   ]
  },
  {
   "cell_type": "code",
   "execution_count": 14,
   "id": "d0b5b91c",
   "metadata": {},
   "outputs": [
    {
     "name": "stdout",
     "output_type": "stream",
     "text": [
      "홍길동은 100\n",
      "홍길동의 이름길이는 3\n",
      "홍길동은 200\n"
     ]
    }
   ],
   "source": [
    "print(f\"{name}은 {a}\")\n",
    "\n",
    "#함수사용가능\n",
    "print(f\"{name}의 이름길이는 {len(name)}\")\n",
    "\n",
    "#연산가능\n",
    "print(f\"{name}은 {a+a}\")"
   ]
  },
  {
   "cell_type": "code",
   "execution_count": 23,
   "id": "4821dda7",
   "metadata": {},
   "outputs": [
    {
     "name": "stdout",
     "output_type": "stream",
     "text": [
      "길이 3\n",
      "True False\n",
      "길동의 위치 1\n"
     ]
    }
   ],
   "source": [
    "s = \"홍길동\"\n",
    "s1 = \"홍길동123\"\n",
    "\n",
    "print(\"길이\",len(s))\n",
    "print(s.isalpha(), s1.isalpha())\n",
    "\n",
    "print(\"길동의 위치\", s.index(\"길동\"))\n",
    "#ValueError 발생시 try 문 사용\n",
    "#print(\"1의 위치\", s.index(\"1\"))"
   ]
  },
  {
   "cell_type": "code",
   "execution_count": 24,
   "id": "675097b1",
   "metadata": {},
   "outputs": [
    {
     "data": {
      "text/plain": [
       "'홍 길 동'"
      ]
     },
     "execution_count": 24,
     "metadata": {},
     "output_type": "execute_result"
    }
   ],
   "source": [
    "#앞뒤 공백문자 제거\n",
    "\" 홍 길 동 \".strip()"
   ]
  },
  {
   "cell_type": "code",
   "execution_count": 25,
   "id": "63ee989e",
   "metadata": {},
   "outputs": [
    {
     "data": {
      "text/plain": [
       "'홍길동'"
      ]
     },
     "execution_count": 25,
     "metadata": {},
     "output_type": "execute_result"
    }
   ],
   "source": [
    "#\" \"를 \"\"로 변환\n",
    "\" 홍 길 동 \".replace(\" \",\"\")"
   ]
  },
  {
   "cell_type": "code",
   "execution_count": 28,
   "id": "2f9a3eae",
   "metadata": {},
   "outputs": [
    {
     "data": {
      "text/plain": [
       "400"
      ]
     },
     "execution_count": 28,
     "metadata": {},
     "output_type": "execute_result"
    }
   ],
   "source": [
    "s = \"300\"\n",
    "#s+100 오류 -> 문자열 + 숫자 이기때문\n",
    "\n",
    "int(s)+100"
   ]
  },
  {
   "cell_type": "code",
   "execution_count": 30,
   "id": "2c68aa62",
   "metadata": {},
   "outputs": [
    {
     "data": {
      "text/plain": [
       "1400"
      ]
     },
     "execution_count": 30,
     "metadata": {},
     "output_type": "execute_result"
    }
   ],
   "source": [
    "s=\"1,300\"\n",
    "int(s.replace(\",\",\"\"))+100"
   ]
  },
  {
   "cell_type": "code",
   "execution_count": 31,
   "id": "80bfc6c1",
   "metadata": {},
   "outputs": [
    {
     "name": "stdout",
     "output_type": "stream",
     "text": [
      "100 홍길동\n",
      "100_홍길동\n"
     ]
    }
   ],
   "source": [
    "# sep사용\n",
    "print(a, name)\n",
    "print(a, name, sep=\"_\")"
   ]
  },
  {
   "cell_type": "code",
   "execution_count": 36,
   "id": "7252087d",
   "metadata": {},
   "outputs": [
    {
     "name": "stdout",
     "output_type": "stream",
     "text": [
      "100-홍길동     100_홍길동\n"
     ]
    }
   ],
   "source": [
    "# end사용\n",
    "print(a, name, end=\"     \", sep= \"-\")\n",
    "print(a, name, sep=\"_\")"
   ]
  },
  {
   "cell_type": "code",
   "execution_count": 40,
   "id": "6423747a",
   "metadata": {},
   "outputs": [
    {
     "name": "stdout",
     "output_type": "stream",
     "text": [
      "태어난 연도를 입력하세요 : 1997\n"
     ]
    },
    {
     "data": {
      "text/plain": [
       "'1997'"
      ]
     },
     "metadata": {},
     "output_type": "display_data"
    },
    {
     "name": "stdout",
     "output_type": "stream",
     "text": [
      "25\n"
     ]
    }
   ],
   "source": [
    "#input\n",
    "ans = input(\"태어난 연도를 입력하세요 : \")\n",
    "display(ans) #문자열로 저장\n",
    "print(2022-int(ans))"
   ]
  },
  {
   "cell_type": "code",
   "execution_count": null,
   "id": "f0e708fd",
   "metadata": {},
   "outputs": [],
   "source": []
  }
 ],
 "metadata": {
  "kernelspec": {
   "display_name": "Python 3 (ipykernel)",
   "language": "python",
   "name": "python3"
  },
  "language_info": {
   "codemirror_mode": {
    "name": "ipython",
    "version": 3
   },
   "file_extension": ".py",
   "mimetype": "text/x-python",
   "name": "python",
   "nbconvert_exporter": "python",
   "pygments_lexer": "ipython3",
   "version": "3.9.7"
  }
 },
 "nbformat": 4,
 "nbformat_minor": 5
}
