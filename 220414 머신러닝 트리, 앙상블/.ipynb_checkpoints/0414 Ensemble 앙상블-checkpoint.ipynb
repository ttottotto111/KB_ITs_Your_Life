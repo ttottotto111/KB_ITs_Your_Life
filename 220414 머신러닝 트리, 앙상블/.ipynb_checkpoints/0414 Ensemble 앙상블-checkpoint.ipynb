{
 "cells": [
  {
   "cell_type": "code",
   "execution_count": 21,
   "id": "47a82388",
   "metadata": {},
   "outputs": [],
   "source": [
    "import pandas as pd\n",
    "from sklearn.datasets import load_iris\n",
    "from sklearn.datasets import load_breast_cancer\n",
    "from sklearn.model_selection import train_test_split\n",
    "from sklearn.neighbors import KNeighborsClassifier\n",
    "from sklearn.linear_model import LogisticRegression\n",
    "from sklearn.tree import DecisionTreeClassifier"
   ]
  },
  {
   "cell_type": "code",
   "execution_count": 22,
   "id": "76d76a31",
   "metadata": {},
   "outputs": [
    {
     "data": {
      "text/plain": [
       "(0.9642857142857143, 0.9473684210526315)"
      ]
     },
     "execution_count": 22,
     "metadata": {},
     "output_type": "execute_result"
    }
   ],
   "source": [
    "# breast cancer 데이터 로딩 함수\n",
    "from sklearn.datasets import load_breast_cancer\n",
    "from sklearn.model_selection import train_test_split\n",
    "def load_dataset(data_name, stratify=False):\n",
    "    pass\n",
    "    if data_name == \"breast_cancer\":\n",
    "        dataset = load_breast_cancer()\n",
    "    if data_name == \"iris\":\n",
    "        dataset = load_iris()\n",
    "        \n",
    "    if stratify == False:\n",
    "        stratify = None\n",
    "    else:\n",
    "        stratify = dataset.target\n",
    "    x_tr, x_te, y_tr, y_te = train_test_split(dataset.data,\n",
    "                           dataset.target,\n",
    "                           random_state=0,\n",
    "                           stratify=stratify)\n",
    "    return x_tr, x_te, y_tr, y_te\n",
    "\n",
    "x_tr, x_te, y_tr, y_te = load_dataset(\"iris\", stratify=True)\n",
    "\n",
    "model = DecisionTreeClassifier(max_depth=3).fit(x_tr, y_tr)\n",
    "model.score(x_tr, y_tr),model.score(x_te, y_te)"
   ]
  },
  {
   "cell_type": "code",
   "execution_count": 25,
   "id": "e2fb6d47",
   "metadata": {},
   "outputs": [],
   "source": [
    "cancer = load_breast_cancer()"
   ]
  },
  {
   "cell_type": "code",
   "execution_count": 26,
   "id": "294c74e3",
   "metadata": {},
   "outputs": [],
   "source": [
    "X = cancer[\"data\"]\n",
    "Y = cancer[\"target\"]\n",
    "\n",
    "x_tr, x_te, y_tr, y_te = train_test_split(X,Y, random_state=0, stratify=Y)"
   ]
  },
  {
   "cell_type": "code",
   "execution_count": 8,
   "id": "b6e4a87a",
   "metadata": {},
   "outputs": [],
   "source": [
    "# 학습 분류\n",
    "knn1 = KNeighborsClassifier(n_neighbors=5)\n",
    "knn2 = KNeighborsClassifier(n_neighbors=3)\n",
    "lr = LogisticRegression(max_iter=10000)\n",
    "dt3 = DecisionTreeClassifier(max_depth=3)\n",
    "dt5 = DecisionTreeClassifier(max_depth=5)"
   ]
  },
  {
   "cell_type": "markdown",
   "id": "0735a49f",
   "metadata": {},
   "source": [
    "### Voting 보팅"
   ]
  },
  {
   "cell_type": "code",
   "execution_count": 12,
   "id": "95db25d9",
   "metadata": {},
   "outputs": [
    {
     "data": {
      "text/plain": [
       "(VotingClassifier(estimators=[('knn1', KNeighborsClassifier()),\n",
       "                              ('knn2', KNeighborsClassifier(n_neighbors=3)),\n",
       "                              ('lr', LogisticRegression(max_iter=10000)),\n",
       "                              ('dt3', DecisionTreeClassifier(max_depth=3)),\n",
       "                              ('dt5', DecisionTreeClassifier(max_depth=5))]),\n",
       " VotingClassifier(estimators=[('knn1', KNeighborsClassifier()),\n",
       "                              ('knn2', KNeighborsClassifier(n_neighbors=3)),\n",
       "                              ('lr', LogisticRegression(max_iter=10000)),\n",
       "                              ('dt3', DecisionTreeClassifier(max_depth=3)),\n",
       "                              ('dt5', DecisionTreeClassifier(max_depth=5))],\n",
       "                  voting='soft'))"
      ]
     },
     "execution_count": 12,
     "metadata": {},
     "output_type": "execute_result"
    }
   ],
   "source": [
    "from sklearn.ensemble import VotingClassifier\n",
    "\n",
    "hard = VotingClassifier([('knn1', knn1),\n",
    "                        ('knn2', knn2),\n",
    "                        ('lr', lr),\n",
    "                        ('dt3', dt3),\n",
    "                        ('dt5', dt5)])\n",
    "\n",
    "soft = VotingClassifier([('knn1', knn1),\n",
    "                        ('knn2', knn2),\n",
    "                        ('lr', lr),\n",
    "                        ('dt3', dt3),\n",
    "                        ('dt5', dt5)], voting='soft')\n",
    "hard, soft"
   ]
  },
  {
   "cell_type": "code",
   "execution_count": 16,
   "id": "c194ede5",
   "metadata": {},
   "outputs": [
    {
     "name": "stdout",
     "output_type": "stream",
     "text": [
      "hard Train : 98.12%\n",
      "hard Test : 94.41%\n",
      "\n",
      "soft Train : 99.53%\n",
      "soft Test : 95.10%\n",
      "\n",
      "knn1 Train : 94.60%\n",
      "knn1 Test : 91.61%\n",
      "\n",
      "knn2 Train : 95.77%\n",
      "knn2 Test : 91.61%\n",
      "\n",
      "lr Train : 96.71%\n",
      "lr Test : 93.71%\n",
      "\n",
      "dt3 Train : 97.65%\n",
      "dt3 Test : 93.01%\n",
      "\n",
      "dt5 Train : 100.00%\n",
      "dt5 Test : 91.61%\n",
      "\n"
     ]
    }
   ],
   "source": [
    "# 분류기 성능 평가\n",
    "names = ['hard', 'soft', 'knn1', 'knn2', 'lr', 'dt3', 'dt5']\n",
    "\n",
    "for idx, model in enumerate([hard, soft, knn1, knn2, lr, dt3, dt5]):\n",
    "    model.fit(x_tr, y_tr)\n",
    "    name = names[idx]\n",
    "    train_score = model.score(x_tr, y_tr) *100\n",
    "    test_score = model.score(x_te, y_te) * 100\n",
    "    print(f'{name} Train : {train_score:.2f}%')\n",
    "    print(f'{name} Test : {test_score:.2f}%')\n",
    "    print()"
   ]
  },
  {
   "cell_type": "markdown",
   "id": "8b8566d9",
   "metadata": {},
   "source": [
    "### Bagging"
   ]
  },
  {
   "cell_type": "code",
   "execution_count": 45,
   "id": "c7fb1323",
   "metadata": {},
   "outputs": [
    {
     "data": {
      "text/plain": [
       "(1.0, 0.9440559440559441)"
      ]
     },
     "execution_count": 45,
     "metadata": {},
     "output_type": "execute_result"
    }
   ],
   "source": [
    "from sklearn.ensemble import RandomForestClassifier\n",
    "model = RandomForestClassifier(max_depth=5).fit(x_tr, y_tr)\n",
    "model.score(x_tr, y_tr),model.score(x_te, y_te)"
   ]
  },
  {
   "cell_type": "code",
   "execution_count": 34,
   "id": "5a95cb9c",
   "metadata": {},
   "outputs": [
    {
     "data": {
      "text/plain": [
       "(1.0, 0.9230769230769231)"
      ]
     },
     "execution_count": 34,
     "metadata": {},
     "output_type": "execute_result"
    }
   ],
   "source": [
    "# 비교\n",
    "model = DecisionTreeClassifier(max_depth=5).fit(x_tr, y_tr)\n",
    "model.score(x_tr, y_tr),model.score(x_te, y_te)"
   ]
  },
  {
   "cell_type": "markdown",
   "id": "49167d94",
   "metadata": {},
   "source": [
    "### Boosting \n",
    "- 일반적으로 가장 성능이 좋은 기법"
   ]
  },
  {
   "cell_type": "code",
   "execution_count": 55,
   "id": "8216d07e",
   "metadata": {},
   "outputs": [
    {
     "data": {
      "text/plain": [
       "(1.0, 0.958041958041958)"
      ]
     },
     "execution_count": 55,
     "metadata": {},
     "output_type": "execute_result"
    }
   ],
   "source": [
    "from sklearn.ensemble import GradientBoostingClassifier\n",
    "model = GradientBoostingClassifier(max_depth=3).fit(x_tr, y_tr)\n",
    "model.score(x_tr, y_tr),model.score(x_te, y_te)"
   ]
  },
  {
   "cell_type": "markdown",
   "id": "1a7f56a6",
   "metadata": {},
   "source": [
    "### Stacking\n",
    "- 여러 모델이 예측한 결과 값을 다른 모델의 학습 데이터로입력하여 재 학습"
   ]
  },
  {
   "cell_type": "code",
   "execution_count": 56,
   "id": "3a07a7d1",
   "metadata": {},
   "outputs": [
    {
     "data": {
      "text/plain": [
       "0.951048951048951"
      ]
     },
     "execution_count": 56,
     "metadata": {},
     "output_type": "execute_result"
    }
   ],
   "source": [
    "from sklearn.ensemble import StackingClassifier\n",
    "\n",
    "estimators = [('rf', RandomForestClassifier()),\n",
    "             ('gd', GradientBoostingClassifier())]\n",
    "\n",
    "model = StackingClassifier(estimators=estimators,\n",
    "                          final_estimator=LogisticRegression())\n",
    "\n",
    "model.fit(x_tr, y_tr).score(x_te, y_te)"
   ]
  }
 ],
 "metadata": {
  "kernelspec": {
   "display_name": "Python 3 (ipykernel)",
   "language": "python",
   "name": "python3"
  },
  "language_info": {
   "codemirror_mode": {
    "name": "ipython",
    "version": 3
   },
   "file_extension": ".py",
   "mimetype": "text/x-python",
   "name": "python",
   "nbconvert_exporter": "python",
   "pygments_lexer": "ipython3",
   "version": "3.9.7"
  }
 },
 "nbformat": 4,
 "nbformat_minor": 5
}
