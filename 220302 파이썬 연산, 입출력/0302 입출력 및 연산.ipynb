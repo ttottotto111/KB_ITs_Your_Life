{
 "cells": [
  {
   "cell_type": "code",
   "execution_count": 7,
   "id": "ce791f12",
   "metadata": {},
   "outputs": [],
   "source": [
    "a = 5\n",
    "이름 = \"홍길동\""
   ]
  },
  {
   "cell_type": "code",
   "execution_count": 10,
   "id": "420c4b74",
   "metadata": {},
   "outputs": [
    {
     "name": "stdout",
     "output_type": "stream",
     "text": [
      "홍길동\n"
     ]
    },
    {
     "data": {
      "text/plain": [
       "'홍길동'"
      ]
     },
     "metadata": {},
     "output_type": "display_data"
    }
   ],
   "source": [
    "#주석문은 샵\n",
    "#값출력 함수\n",
    "#문자열 출력시 print는 값만 출력 display는 따옴표를 붙여줌\n",
    "\n",
    "print(이름) #일반적으로 사용\n",
    "\n",
    "display(이름) #디버깅할때 사용. 따옴표를 보고 문자열인지 확인"
   ]
  },
  {
   "cell_type": "code",
   "execution_count": 13,
   "id": "6e92ea1f",
   "metadata": {},
   "outputs": [
    {
     "name": "stdout",
     "output_type": "stream",
     "text": [
      "10000\n",
      "100000000\n",
      "1000000000000\n",
      "10000000000000000\n",
      "100000000000000000000\n",
      "10000000000000000000000000000000000000000\n"
     ]
    }
   ],
   "source": [
    "#파이썬은 정수의 크기 제약이 없다.\n",
    "c=10000 #만\n",
    "print(c)\n",
    "c = c*10000 #억\n",
    "print(c)\n",
    "c = c* 10000 #조\n",
    "print(c)\n",
    "c = c* 10000 #경\n",
    "print(c)\n",
    "c = c* 10000 #해\n",
    "print(c)\n",
    "c = c* c  #???\n",
    "print(c)"
   ]
  },
  {
   "cell_type": "code",
   "execution_count": 17,
   "id": "b7811975",
   "metadata": {},
   "outputs": [
    {
     "name": "stdout",
     "output_type": "stream",
     "text": [
      "4\n"
     ]
    }
   ],
   "source": [
    "#10진수\n",
    "a = 100\n",
    "#2진수\n",
    "b = 0b100\n",
    "#8진수\n",
    "c = 0o100\n",
    "#16진수\n",
    "d = 0x100"
   ]
  },
  {
   "cell_type": "code",
   "execution_count": 19,
   "id": "250ec182",
   "metadata": {},
   "outputs": [
    {
     "name": "stdout",
     "output_type": "stream",
     "text": [
      "True\n"
     ]
    }
   ],
   "source": [
    "#비교 연산자\n",
    "print(4<5)"
   ]
  },
  {
   "cell_type": "code",
   "execution_count": 27,
   "id": "686b84fe",
   "metadata": {},
   "outputs": [
    {
     "data": {
      "text/plain": [
       "(False, False, False, False)"
      ]
     },
     "execution_count": 27,
     "metadata": {},
     "output_type": "execute_result"
    }
   ],
   "source": [
    "#공백문자 -> True\n",
    "bool(0), bool(\"\"), bool(None), bool( [] )"
   ]
  },
  {
   "cell_type": "code",
   "execution_count": 67,
   "id": "45e50af4",
   "metadata": {},
   "outputs": [
    {
     "name": "stdout",
     "output_type": "stream",
     "text": [
      "2022\n",
      "3\n",
      "2\n"
     ]
    }
   ],
   "source": [
    "#작성 날짜  YYYYMMDD\n",
    "dt = 20220302 #2022년 3월2일\n",
    "y = dt//10000 #몫 계산\n",
    "print(y)\n",
    "m = dt%10000//100\n",
    "print(m)\n",
    "d = dt %100\n",
    "print(d)"
   ]
  },
  {
   "cell_type": "code",
   "execution_count": 52,
   "id": "68133d68",
   "metadata": {},
   "outputs": [
    {
     "name": "stdout",
     "output_type": "stream",
     "text": [
      "Hello\n"
     ]
    },
    {
     "data": {
      "text/plain": [
       "'Hello'"
      ]
     },
     "metadata": {},
     "output_type": "display_data"
    },
    {
     "data": {
      "text/plain": [
       "'Hello'"
      ]
     },
     "execution_count": 52,
     "metadata": {},
     "output_type": "execute_result"
    }
   ],
   "source": [
    "name = \"Hello\"\n",
    "print(name)   #일반적인 출력용\n",
    "display(name) #디버깅용"
   ]
  },
  {
   "cell_type": "code",
   "execution_count": 54,
   "id": "fa17e964",
   "metadata": {},
   "outputs": [
    {
     "data": {
      "text/plain": [
       "200"
      ]
     },
     "execution_count": 54,
     "metadata": {},
     "output_type": "execute_result"
    }
   ],
   "source": [
    "a = 100\n",
    "a\n",
    "b = 200\n",
    "b"
   ]
  },
  {
   "cell_type": "code",
   "execution_count": 58,
   "id": "91328a6b",
   "metadata": {},
   "outputs": [
    {
     "name": "stdout",
     "output_type": "stream",
     "text": [
      "구름에 달가듯 가는 나그네\n",
      "길은 외줄기\n",
      "남도 삼백리\n"
     ]
    }
   ],
   "source": [
    "poem = \"\"\"구름에 달가듯 가는 나그네\n",
    "길은 외줄기\n",
    "남도 삼백리\"\"\"\n",
    "print(poem)"
   ]
  },
  {
   "cell_type": "code",
   "execution_count": 66,
   "id": "138f9a96",
   "metadata": {},
   "outputs": [
    {
     "data": {
      "text/plain": [
       "'홍길동홍길동'"
      ]
     },
     "execution_count": 66,
     "metadata": {},
     "output_type": "execute_result"
    }
   ],
   "source": [
    "s = \"홍길동\"\n",
    "s *2"
   ]
  },
  {
   "cell_type": "code",
   "execution_count": 61,
   "id": "c44e389b",
   "metadata": {},
   "outputs": [
    {
     "data": {
      "text/plain": [
       "'홍길동홍길동'"
      ]
     },
     "execution_count": 61,
     "metadata": {},
     "output_type": "execute_result"
    }
   ],
   "source": [
    "s+s"
   ]
  },
  {
   "cell_type": "code",
   "execution_count": 62,
   "id": "4f3c6349",
   "metadata": {},
   "outputs": [
    {
     "ename": "TypeError",
     "evalue": "can only concatenate str (not \"int\") to str",
     "output_type": "error",
     "traceback": [
      "\u001b[1;31m---------------------------------------------------------------------------\u001b[0m",
      "\u001b[1;31mTypeError\u001b[0m                                 Traceback (most recent call last)",
      "\u001b[1;32m~\\AppData\\Local\\Temp/ipykernel_4684/2980463268.py\u001b[0m in \u001b[0;36m<module>\u001b[1;34m\u001b[0m\n\u001b[1;32m----> 1\u001b[1;33m \u001b[0ms\u001b[0m\u001b[1;33m+\u001b[0m\u001b[1;36m2\u001b[0m \u001b[1;31m#오류\u001b[0m\u001b[1;33m\u001b[0m\u001b[1;33m\u001b[0m\u001b[0m\n\u001b[0m",
      "\u001b[1;31mTypeError\u001b[0m: can only concatenate str (not \"int\") to str"
     ]
    }
   ],
   "source": [
    "s+2 #오류"
   ]
  },
  {
   "cell_type": "code",
   "execution_count": 68,
   "id": "4b4a0edc",
   "metadata": {},
   "outputs": [
    {
     "name": "stdout",
     "output_type": "stream",
     "text": [
      "1\n",
      "20210101\n",
      "Sunny\n"
     ]
    }
   ],
   "source": [
    "#예제\n",
    "a = \"210101-1234567\"\n",
    "print(a[7])\n",
    "b = \"20210101Sunny\"\n",
    "date = b[:8]\n",
    "weather = b[-5:]\n",
    "print(date)\n",
    "print(weather)"
   ]
  },
  {
   "cell_type": "code",
   "execution_count": 73,
   "id": "9198344d",
   "metadata": {},
   "outputs": [
    {
     "data": {
      "text/plain": [
       "'홍길동 is 100'"
      ]
     },
     "execution_count": 73,
     "metadata": {},
     "output_type": "execute_result"
    }
   ],
   "source": [
    "a = 100\n",
    "name = \"홍길동\"\n",
    "'%s is %s' %(name, a) #() => 튜플"
   ]
  },
  {
   "cell_type": "code",
   "execution_count": 76,
   "id": "31fb9691",
   "metadata": {},
   "outputs": [
    {
     "data": {
      "text/plain": [
       "'pi= 3.142'"
      ]
     },
     "execution_count": 76,
     "metadata": {},
     "output_type": "execute_result"
    }
   ],
   "source": [
    "pi = 3.141592\n",
    "'pi=%6.3f' %pi #6.2f => 6 = 전체 자리수(.포함), 3은 소수점 자리수(반올림한 계산)"
   ]
  }
 ],
 "metadata": {
  "kernelspec": {
   "display_name": "Python 3 (ipykernel)",
   "language": "python",
   "name": "python3"
  },
  "language_info": {
   "codemirror_mode": {
    "name": "ipython",
    "version": 3
   },
   "file_extension": ".py",
   "mimetype": "text/x-python",
   "name": "python",
   "nbconvert_exporter": "python",
   "pygments_lexer": "ipython3",
   "version": "3.9.7"
  }
 },
 "nbformat": 4,
 "nbformat_minor": 5
}
