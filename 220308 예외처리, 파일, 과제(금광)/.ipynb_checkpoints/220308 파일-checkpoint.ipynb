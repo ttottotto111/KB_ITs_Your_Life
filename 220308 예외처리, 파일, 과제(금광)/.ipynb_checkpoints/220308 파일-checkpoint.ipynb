{
 "cells": [
  {
   "cell_type": "code",
   "execution_count": 1,
   "id": "a29db44f",
   "metadata": {},
   "outputs": [
    {
     "name": "stdout",
     "output_type": "stream",
     "text": [
      " C 드라이브의 볼륨에는 이름이 없습니다.\n",
      " 볼륨 일련 번호: 7852-8D25\n",
      "\n",
      " C:\\kb_project\\220308 디렉터리\n",
      "\n",
      "2022-03-08  오후 01:08    <DIR>          .\n",
      "2022-03-08  오후 01:08    <DIR>          ..\n",
      "2022-03-08  오후 01:08    <DIR>          .ipynb_checkpoints\n",
      "2022-03-08  오전 11:18             3,812 220308 예외.ipynb\n",
      "2022-03-08  오전 09:21                 0 220308 예외.txt\n",
      "2022-03-08  오후 01:08                72 220308 파일.ipynb\n",
      "               3개 파일               3,884 바이트\n",
      "               3개 디렉터리  219,106,709,504 바이트 남음\n"
     ]
    }
   ],
   "source": [
    "#실행환경이 윈도우, 리눅스 등에 따라 다른 결과\n",
    "!dir"
   ]
  },
  {
   "cell_type": "code",
   "execution_count": 21,
   "id": "872c4096",
   "metadata": {},
   "outputs": [],
   "source": [
    "#파일 작성\n",
    "#utf-8로 저장시 서버의 모든 기능 사용 가능\n",
    "f = open(\"파일작성실습.txt\", \"wt\", encoding=\"utf-8\")\n",
    "f.write(\n",
    "\"\"\"강나루 건너서 밀밭길을\n",
    "구름에 달 가듯이 가는 나그네\n",
    "길을 외줄기\n",
    "\"\"\"\n",
    ")\n",
    "f.close()"
   ]
  },
  {
   "cell_type": "code",
   "execution_count": 13,
   "id": "da622da3",
   "metadata": {},
   "outputs": [
    {
     "name": "stdout",
     "output_type": "stream",
     "text": [
      "강나루 건너서 밀밭길을\n",
      "구름에 달 가듯이 가는 나그네\n",
      "길을 외줄기\n"
     ]
    }
   ],
   "source": [
    "#파일명 파일 내용 출력 (=!cat 리눅스)\n",
    "!type 파일작성실습.txt"
   ]
  },
  {
   "cell_type": "code",
   "execution_count": 20,
   "id": "ab33c86e",
   "metadata": {},
   "outputs": [
    {
     "name": "stdout",
     "output_type": "stream",
     "text": [
      "['강나루 건너서 밀밭길을\\n', '구름에 달 가듯이 가는 나그네\\n', '길을 외줄기\\n']\n",
      "['강나루 건너서 밀밭길을', '구름에 달 가듯이 가는 나그네', '길을 외줄기']\n"
     ]
    }
   ],
   "source": [
    "f = open(\"파일작성실습.txt\")\n",
    "lines = f.readlines() #파일내 모든 줄을 한꺼번에 읽기\n",
    "print(lines)\n",
    "f.close()\n",
    "\n",
    "#각줄 끝에 \\n삭제 =>line.strip()\n",
    "lines = [line.strip() for line in lines]\n",
    "print(lines)"
   ]
  }
 ],
 "metadata": {
  "kernelspec": {
   "display_name": "Python 3 (ipykernel)",
   "language": "python",
   "name": "python3"
  },
  "language_info": {
   "codemirror_mode": {
    "name": "ipython",
    "version": 3
   },
   "file_extension": ".py",
   "mimetype": "text/x-python",
   "name": "python",
   "nbconvert_exporter": "python",
   "pygments_lexer": "ipython3",
   "version": "3.9.7"
  }
 },
 "nbformat": 4,
 "nbformat_minor": 5
}
