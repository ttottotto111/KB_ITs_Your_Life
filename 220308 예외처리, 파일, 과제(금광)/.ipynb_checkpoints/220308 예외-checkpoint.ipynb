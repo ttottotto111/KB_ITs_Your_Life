{
 "cells": [
  {
   "cell_type": "markdown",
   "id": "6233b65b",
   "metadata": {},
   "source": [
    "# 예외"
   ]
  },
  {
   "cell_type": "code",
   "execution_count": null,
   "id": "eee5907b",
   "metadata": {},
   "outputs": [],
   "source": [
    "# if 예외처리\n",
    "mems = {1:\"홍\", 2:\"김\"}\n",
    "if 3 in mems: #추출전 키 존재여부 확인\n",
    "    print(mems[3]) #없는 키 검색시 발생\n",
    "else:\n",
    "    print(\"없는 회원번호입니다\")"
   ]
  },
  {
   "cell_type": "code",
   "execution_count": null,
   "id": "75449a7b",
   "metadata": {},
   "outputs": [],
   "source": [
    "#try-except 예외처리\n",
    "mems = {1:\"홍\", 2:\"김\"}\n",
    "try:\n",
    "    print(mems[3]) #회원정보 출력\n",
    "except:\n",
    "    print(\"없는 회원입니다\")"
   ]
  },
  {
   "cell_type": "code",
   "execution_count": 3,
   "id": "70e3d2a2",
   "metadata": {},
   "outputs": [
    {
     "name": "stdout",
     "output_type": "stream",
     "text": [
      "파일오픈실패 : [Errno 2] No such file or directory: 'mypoem.txt'\n",
      "파일오픈실패 : [Errno 2] No such file or directory: 'mypoem.txt'\n"
     ]
    }
   ],
   "source": [
    "# 파일 열기\n",
    "#파이썬 = utf-8 문자셋\n",
    "f = None #False\n",
    "try:\n",
    "    f = open(\"mypoem.txt\", \"r\")\n",
    "    print(\"줄 갯수는 : \", f.readlines()) \n",
    "except Exception as e:\n",
    "    print(\"파일오픈실패 :\",e)\n",
    "    print(f\"파일오픈실패 : {e}\")\n",
    "    \n",
    "finally: #정상, 오류발생과 상관없이 무조건 실행\n",
    "    #읽어오는 중에 오류가 발생시 파일이 닫히지 않음\n",
    "    if f != None : f.close()"
   ]
  },
  {
   "cell_type": "code",
   "execution_count": 9,
   "id": "cbae4408",
   "metadata": {},
   "outputs": [
    {
     "name": "stdout",
     "output_type": "stream",
     "text": [
      "오류발생 미등록id :bc\n"
     ]
    }
   ],
   "source": [
    "#사용자 정의 예외\n",
    "#클래스를 하나하나 다 만드는 경우 => 오류를 세밀하게 파악할수 있다\n",
    "class ID미등록Error(Exception):\n",
    "    def __init__(self, msg,userid):\n",
    "        self.msg = msg\n",
    "        self.userid = userid\n",
    "    def __str__(self):\n",
    "        return f\"{self.msg} :{self.userid}\"\n",
    "class PW오류Error(Exception):\n",
    "    def __init__(self, msg,pw):\n",
    "        self.msg = msg\n",
    "        self.pw = pw\n",
    "    def __str__(self):\n",
    "        return f\"{self.msg} :{self.pw}\"\n",
    "\n",
    "# 사용자 정의 예외\n",
    "def login(userid, pw):\n",
    "    if userid != \"abc\":\n",
    "        raise ID미등록Error(\"미등록id\",userid) # 오류발생시 함수 중단\n",
    "    if pw !=\"1234\":\n",
    "        raise PW오류Error(\"잘못된 비밀번호\", pw) #비밀번호 오류\n",
    "\n",
    "    print(\"로그인 성공\")\n",
    "\n",
    "userid = \"bc\"\n",
    "pw = \"124\"\n",
    "try:\n",
    "    login( userid, pw) # 오류 가능성있는 함수\n",
    "except ID미등록Error as ide:\n",
    "    print(\"오류발생\",ide)\n",
    "except PW오류Error as ide:\n",
    "    print(\"오류발생\",ide)"
   ]
  }
 ],
 "metadata": {
  "kernelspec": {
   "display_name": "Python 3 (ipykernel)",
   "language": "python",
   "name": "python3"
  },
  "language_info": {
   "codemirror_mode": {
    "name": "ipython",
    "version": 3
   },
   "file_extension": ".py",
   "mimetype": "text/x-python",
   "name": "python",
   "nbconvert_exporter": "python",
   "pygments_lexer": "ipython3",
   "version": "3.9.7"
  }
 },
 "nbformat": 4,
 "nbformat_minor": 5
}
