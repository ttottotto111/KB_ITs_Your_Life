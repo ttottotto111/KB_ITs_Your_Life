{
 "cells": [
  {
   "cell_type": "markdown",
   "metadata": {},
   "source": [
    "# 금광찾기 게임"
   ]
  },
  {
   "cell_type": "markdown",
   "metadata": {},
   "source": [
    "## 규칙 : \n",
    "1. 20x20 짜리 공간에 컴퓨터가 임의의 위치를 정한다 \n",
    "2. \"금광의 예상 좌표를 입력하세요\" 메시지 출력한다.\n",
    "2. 사용자는 임의의 x,y좌표를 입력한다.\n",
    "3. 컴퓨터는 컴퓨터의 좌표와 사용자 입력좌표간 직선거리의 정수를 계산한다. 소수이하 반올림한다.\n",
    "4. 직선거리가 0이면 \"축하합니다. 금광을 찾으셨습니다\" 메시지 출력한다. 반복문 빠져나간다.\n",
    "5. 직선거리가 0이 아니면 시도횟수를 출력한다. 시도횟수가 10번이상이면 \"당신은 바보입니까?\" 메시지 출력 후 반복문 빠져나간다.\n",
    "5. 직선거리가 0이 아니면 2번부터 반복한다."
   ]
  },
  {
   "cell_type": "code",
   "execution_count": 1,
   "metadata": {
    "ExecuteTime": {
     "end_time": "2022-03-02T07:53:22.417879Z",
     "start_time": "2022-03-02T07:53:22.409875Z"
    }
   },
   "outputs": [
    {
     "name": "stdout",
     "output_type": "stream",
     "text": [
      "1\n",
      "3\n"
     ]
    }
   ],
   "source": [
    "# 금광의 좌표와 사용자의 좌표를 입력받아 두 점 사이의 거리를 반환하는 함수를 작성하세요.\n",
    "from math import sqrt\n",
    "\n",
    "def get_distance(gold_x, gold_y, user_x, user_y) :       \n",
    "    dist = int(round(sqrt(((gold_x-user_x)**2) + (gold_y-user_y)**2), 0)) # 두 점 사이의 거리\n",
    "    return dist\n",
    "\n",
    "print(get_distance(0,0,1,1)) # 1\n",
    "print(get_distance(0,0,2,2)) # 3"
   ]
  },
  {
   "cell_type": "code",
   "execution_count": 3,
   "metadata": {
    "ExecuteTime": {
     "end_time": "2022-03-02T08:01:09.204389Z",
     "start_time": "2022-03-02T07:58:56.506410Z"
    }
   },
   "outputs": [
    {
     "name": "stdout",
     "output_type": "stream",
     "text": [
      "\n",
      "** 1번째 시도 **\n",
      "금광의 예상 좌표를 입력하세요. 입력 형식 x,y :10,10\n",
      "X = 10 Y = 10\n",
      "금광과의 거리는 4\n",
      "\n",
      "** 2번째 시도 **\n",
      "금광의 예상 좌표를 입력하세요. 입력 형식 x,y :12,12\n",
      "X = 12 Y = 12\n",
      "금광과의 거리는 4\n",
      "\n",
      "** 3번째 시도 **\n",
      "금광의 예상 좌표를 입력하세요. 입력 형식 x,y :12,5\n",
      "X = 12 Y = 5\n",
      "금광과의 거리는 9\n",
      "\n",
      "** 4번째 시도 **\n",
      "금광의 예상 좌표를 입력하세요. 입력 형식 x,y :12,15\n",
      "X = 12 Y = 15\n",
      "금광과의 거리는 4\n",
      "\n",
      "** 5번째 시도 **\n",
      "금광의 예상 좌표를 입력하세요. 입력 형식 x,y :15,15\n",
      "X = 15 Y = 15\n",
      "금광과의 거리는 7\n",
      "\n",
      "** 6번째 시도 **\n",
      "금광의 예상 좌표를 입력하세요. 입력 형식 x,y :11,10\n",
      "X = 11 Y = 10\n",
      "금광과의 거리는 4\n",
      "\n",
      "** 7번째 시도 **\n",
      "금광의 예상 좌표를 입력하세요. 입력 형식 x,y :13,12\n",
      "X = 13 Y = 12\n",
      "금광과의 거리는 5\n",
      "\n",
      "** 8번째 시도 **\n",
      "금광의 예상 좌표를 입력하세요. 입력 형식 x,y :15,16\n",
      "X = 15 Y = 16\n",
      "금광과의 거리는 8\n",
      "\n",
      "** 9번째 시도 **\n",
      "금광의 예상 좌표를 입력하세요. 입력 형식 x,y :00,00\n",
      "X = 00 Y = 00\n",
      "금광과의 거리는 15\n",
      "\n",
      "** 10번째 시도 **\n",
      "금광의 예상 좌표를 입력하세요. 입력 형식 x,y :hh\n"
     ]
    },
    {
     "ename": "IndexError",
     "evalue": "list index out of range",
     "output_type": "error",
     "traceback": [
      "\u001b[1;31m---------------------------------------------------------------------------\u001b[0m",
      "\u001b[1;31mIndexError\u001b[0m                                Traceback (most recent call last)",
      "\u001b[1;32m~\\AppData\\Local\\Temp/ipykernel_10820/3989805526.py\u001b[0m in \u001b[0;36m<module>\u001b[1;34m\u001b[0m\n\u001b[0;32m     13\u001b[0m     \u001b[0muser_arr\u001b[0m \u001b[1;33m=\u001b[0m \u001b[0muser\u001b[0m\u001b[1;33m.\u001b[0m\u001b[0msplit\u001b[0m\u001b[1;33m(\u001b[0m\u001b[1;34m\",\"\u001b[0m\u001b[1;33m)\u001b[0m\u001b[1;33m\u001b[0m\u001b[1;33m\u001b[0m\u001b[0m\n\u001b[0;32m     14\u001b[0m     \u001b[0muser_x\u001b[0m \u001b[1;33m=\u001b[0m \u001b[0muser_arr\u001b[0m\u001b[1;33m[\u001b[0m\u001b[1;36m0\u001b[0m\u001b[1;33m]\u001b[0m\u001b[1;33m\u001b[0m\u001b[1;33m\u001b[0m\u001b[0m\n\u001b[1;32m---> 15\u001b[1;33m     \u001b[0muser_y\u001b[0m \u001b[1;33m=\u001b[0m \u001b[0muser_arr\u001b[0m\u001b[1;33m[\u001b[0m\u001b[1;36m1\u001b[0m\u001b[1;33m]\u001b[0m\u001b[1;33m\u001b[0m\u001b[1;33m\u001b[0m\u001b[0m\n\u001b[0m\u001b[0;32m     16\u001b[0m     \u001b[0mprint\u001b[0m\u001b[1;33m(\u001b[0m\u001b[1;34mf\"X = {user_x} Y = {user_y}\"\u001b[0m\u001b[1;33m)\u001b[0m\u001b[1;33m\u001b[0m\u001b[1;33m\u001b[0m\u001b[0m\n\u001b[0;32m     17\u001b[0m \u001b[1;33m\u001b[0m\u001b[0m\n",
      "\u001b[1;31mIndexError\u001b[0m: list index out of range"
     ]
    }
   ],
   "source": [
    "import random\n",
    "\n",
    "field_size = 20\n",
    "gold_x = random.randint(0,20)  # 0~field_size 미만 임의의 금광 x좌표 생성 저장.\n",
    "gold_y = random.randint(0,20)  # 0~field_size 미만 임의의 금광 y좌표 생성 저장.\n",
    "count = 1 #시도횟수\n",
    "\n",
    "while True:\n",
    "    print(f\"\\n** {count}번째 시도 **\")\n",
    "    \n",
    "    # 사용자 좌표 입력\n",
    "    user = input(\"금광의 예상 좌표를 입력하세요. 입력 형식 x,y :\")\n",
    "    user_arr = user.split(\",\")\n",
    "    user_x = user_arr[0]\n",
    "    user_y = user_arr[1]\n",
    "    print(f\"X = {user_x} Y = {user_y}\")\n",
    "    \n",
    "    #금광과 직선거리 계산\n",
    "    diff = get_distance(gold_x,gold_y,int(user_x),int(user_y))\n",
    "    \n",
    "    if diff == 0:\n",
    "        print(\"축하합니다. 금광을 찾으셨습니다.\")\n",
    "        break\n",
    "    if count >= 10:\n",
    "        print(\"당신은 바보입니까?\")\n",
    "        break\n",
    "        \n",
    "    print(f\"금광과의 거리는 {diff}\")\n",
    "    count +=1\n",
    "        \n",
    "print(\"게임 종료\")"
   ]
  },
  {
   "cell_type": "code",
   "execution_count": null,
   "metadata": {},
   "outputs": [],
   "source": []
  }
 ],
 "metadata": {
  "kernelspec": {
   "display_name": "Python 3 (ipykernel)",
   "language": "python",
   "name": "python3"
  },
  "language_info": {
   "codemirror_mode": {
    "name": "ipython",
    "version": 3
   },
   "file_extension": ".py",
   "mimetype": "text/x-python",
   "name": "python",
   "nbconvert_exporter": "python",
   "pygments_lexer": "ipython3",
   "version": "3.9.7"
  },
  "toc": {
   "base_numbering": 1,
   "nav_menu": {},
   "number_sections": true,
   "sideBar": true,
   "skip_h1_title": false,
   "title_cell": "Table of Contents",
   "title_sidebar": "Contents",
   "toc_cell": false,
   "toc_position": {},
   "toc_section_display": true,
   "toc_window_display": false
  },
  "varInspector": {
   "cols": {
    "lenName": 16,
    "lenType": 16,
    "lenVar": 40
   },
   "kernels_config": {
    "python": {
     "delete_cmd_postfix": "",
     "delete_cmd_prefix": "del ",
     "library": "var_list.py",
     "varRefreshCmd": "print(var_dic_list())"
    },
    "r": {
     "delete_cmd_postfix": ") ",
     "delete_cmd_prefix": "rm(",
     "library": "var_list.r",
     "varRefreshCmd": "cat(var_dic_list()) "
    }
   },
   "types_to_exclude": [
    "module",
    "function",
    "builtin_function_or_method",
    "instance",
    "_Feature"
   ],
   "window_display": false
  }
 },
 "nbformat": 4,
 "nbformat_minor": 4
}
