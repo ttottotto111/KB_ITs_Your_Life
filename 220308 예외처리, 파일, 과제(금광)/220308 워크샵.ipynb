{
 "cells": [
  {
   "cell_type": "markdown",
   "metadata": {},
   "source": [
    "### Q1\n",
    "- 사용자 정의 모듈을 작성하세요.\n",
    "- get_random_RPS 함수\n",
    "    - '가위', '바위', '보' 중 하나를 랜덤으로 리턴하는 함수\n",
    "- is_win 함수\n",
    "    - 가위바위보 게임에서 user가 ai와의 게임에서의 결과를 출력하는 함수\n",
    "    - 출력 문구 : \"이겼습니다.\" 또는 \"졌습니다.\" 또는 \"비겼습니다.\"\n",
    "    - 리턴 없음"
   ]
  },
  {
   "cell_type": "code",
   "execution_count": 44,
   "metadata": {
    "ExecuteTime": {
     "end_time": "2022-02-22T01:51:06.958658Z",
     "start_time": "2022-02-22T01:51:06.935602Z"
    }
   },
   "outputs": [
    {
     "name": "stdout",
     "output_type": "stream",
     "text": [
      "Overwriting my_module.py\n"
     ]
    }
   ],
   "source": [
    "%%writefile my_module.py\n",
    "import random\n",
    "def get_random_RPS():\n",
    "    rps = [\"가위\",\"바위\",\"보\"]\n",
    "    r = random.randint(0,3)\n",
    "    return rps[r]\n",
    "def is_win():\n",
    "    user = input(\"가위, 바위, 보를 선택하세요. :\")\n",
    "    while user != \"0\": \n",
    "        com = get_random_RPS()\n",
    "        print(f\"컴퓨터 : {com}, 당신 : {user}\")\n",
    "        if com == user:\n",
    "            print(\"비겼습니다.\")\n",
    "        if (user == \"가위\" and com ==\"바위\") or (user ==\"바위\" and com ==\"보\") or(user ==\"보\" and com ==\"가위\"):\n",
    "            print(\"졌습니다.\")\n",
    "        else:\n",
    "            print(\"이겼습니다.\")\n",
    "        user = input(\"가위, 바위, 보를 선택하세요. :\")\n",
    "        "
   ]
  },
  {
   "cell_type": "code",
   "execution_count": 45,
   "metadata": {
    "ExecuteTime": {
     "end_time": "2022-02-22T01:51:18.542862Z",
     "start_time": "2022-02-22T01:51:06.962924Z"
    }
   },
   "outputs": [
    {
     "name": "stdout",
     "output_type": "stream",
     "text": [
      "가위, 바위, 보를 선택하세요. :가위\n",
      "컴퓨터 : 가위, 당신 : 가위\n",
      "비겼습니다.\n",
      "--------------------------------------\n",
      "가위, 바위, 보를 선택하세요. :바위\n",
      "컴퓨터 : 바위, 당신 : 바위\n",
      "비겼습니다.\n",
      "--------------------------------------\n",
      "가위, 바위, 보를 선택하세요. :바위\n",
      "컴퓨터 : 바위, 당신 : 바위\n",
      "비겼습니다.\n",
      "--------------------------------------\n",
      "가위, 바위, 보를 선택하세요. :0\n"
     ]
    }
   ],
   "source": [
    "# my_module 모듈의 두 함수를 임포트 하세요.\n",
    "\n",
    "from my_module import *\n",
    "# input 함수로 가위, 바위, 보 중 하나를 입력받아 결과를 출력하는 코드를 작성하세요.\n",
    "# 무한 반복문을 사용하고, '0' 이 입력되었을 시 반복문 종료\n",
    "is_win()\n",
    "\n",
    "\n",
    "\n",
    "\n",
    "\n"
   ]
  },
  {
   "cell_type": "markdown",
   "metadata": {},
   "source": [
    "<br/>\n",
    "<br/>\n",
    "<br/>\n",
    "<br/>"
   ]
  },
  {
   "cell_type": "markdown",
   "metadata": {
    "ExecuteTime": {
     "end_time": "2022-02-15T04:56:56.600798Z",
     "start_time": "2022-02-15T04:56:56.594462Z"
    }
   },
   "source": [
    "### Q2\n",
    "- 총 금액 리스트와 수량 리스트를 매개변수로 받아, 1개당 가격 리스트를 반환하는 함수를 작성하세요.\n",
    "- ZeroDivisionError 에러 처리를 하세요.\n",
    "- IndexError 에러 처리를 하세요."
   ]
  },
  {
   "cell_type": "code",
   "execution_count": 4,
   "metadata": {
    "ExecuteTime": {
     "end_time": "2022-02-22T01:51:18.558106Z",
     "start_time": "2022-02-22T01:51:18.542862Z"
    }
   },
   "outputs": [],
   "source": [
    "class ZeroDivisionError(Exception):\n",
    "    def __init__(self):\n",
    "        pass\n",
    "    def __str__(self):\n",
    "        return \"개수를 1개이상 입력해주세요.\"\n",
    "class IndexError(Exception):\n",
    "    def __init__(self):\n",
    "        pass\n",
    "    def __str__(self):\n",
    "        return \"총 금액과 수량의 길이를 맞춰주세요.\"    \n",
    "\n",
    "def get_price(total, count):\n",
    "    price =[]\n",
    "    j=0\n",
    "    if 0 in total or 0 in count:\n",
    "        raise ZeroDivisionError()\n",
    "    if len(total) != len(count):\n",
    "        raise IndexError()\n",
    "    for i in total:\n",
    "        p = i/count[j]\n",
    "        price.append(p)\n",
    "        j =+1\n",
    "    return price"
   ]
  },
  {
   "cell_type": "code",
   "execution_count": 5,
   "metadata": {
    "ExecuteTime": {
     "end_time": "2022-02-22T01:51:18.613155Z",
     "start_time": "2022-02-22T01:51:18.560579Z"
    }
   },
   "outputs": [
    {
     "name": "stdout",
     "output_type": "stream",
     "text": [
      "[400.0, 700.0, 140.0, 900.0, 90.0]\n"
     ]
    }
   ],
   "source": [
    "# 코드를 실행하세요. (정상 실행)\n",
    "total_price = [6000, 70000, 14000, 90000, 9000]\n",
    "count = [15, 100, 70, 3, 20]\n",
    "\n",
    "print(get_price(total_price, count))"
   ]
  },
  {
   "cell_type": "code",
   "execution_count": 6,
   "metadata": {
    "ExecuteTime": {
     "end_time": "2022-02-22T01:51:18.629156Z",
     "start_time": "2022-02-22T01:51:18.613155Z"
    }
   },
   "outputs": [
    {
     "name": "stdout",
     "output_type": "stream",
     "text": [
      "개수를 1개이상 입력해주세요.\n"
     ]
    }
   ],
   "source": [
    "# 리스트가 다음과 같으면 에러가 발생합니다.\n",
    "# try except 문을 사용하여 ZeroDivisionError 발생 시 \"개수를 1개 이상 입력해주세요.\" 문구를 출력하세요.\n",
    "\n",
    "total_price = [6000, 70000, 14000, 90000, 9000, 0]\n",
    "count = [15, 100, 70, 3, 20, 0]\n",
    "\n",
    "\n",
    "try:\n",
    "    get_price(total_price,count)\n",
    "except ZeroDivisionError as ide:\n",
    "    print(ide)"
   ]
  },
  {
   "cell_type": "code",
   "execution_count": 7,
   "metadata": {
    "ExecuteTime": {
     "end_time": "2022-02-22T01:51:18.645156Z",
     "start_time": "2022-02-22T01:51:18.629156Z"
    }
   },
   "outputs": [
    {
     "name": "stdout",
     "output_type": "stream",
     "text": [
      "총 금액과 수량의 길이를 맞춰주세요.\n"
     ]
    }
   ],
   "source": [
    "# 리스트가 다음과 같으면 에러가 발생합니다.\n",
    "# try except 문을 사용하여 IndexError 발생 시 \"총 금액과 수량의 길이를 맞춰주세요.\" 문구를 출력하세요.\n",
    "\n",
    "total_price = [6000, 70000, 14000, 90000, 9000]\n",
    "count = [15, 100, 70, 3, 20, 999]\n",
    "\n",
    "try:\n",
    "    get_price(total_price,count)\n",
    "except IndexError as ide:\n",
    "    print(ide)"
   ]
  }
 ],
 "metadata": {
  "kernelspec": {
   "display_name": "Python 3 (ipykernel)",
   "language": "python",
   "name": "python3"
  },
  "language_info": {
   "codemirror_mode": {
    "name": "ipython",
    "version": 3
   },
   "file_extension": ".py",
   "mimetype": "text/x-python",
   "name": "python",
   "nbconvert_exporter": "python",
   "pygments_lexer": "ipython3",
   "version": "3.9.7"
  },
  "toc": {
   "base_numbering": 1,
   "nav_menu": {},
   "number_sections": true,
   "sideBar": true,
   "skip_h1_title": false,
   "title_cell": "Table of Contents",
   "title_sidebar": "Contents",
   "toc_cell": false,
   "toc_position": {},
   "toc_section_display": true,
   "toc_window_display": false
  },
  "varInspector": {
   "cols": {
    "lenName": 16,
    "lenType": 16,
    "lenVar": 40
   },
   "kernels_config": {
    "python": {
     "delete_cmd_postfix": "",
     "delete_cmd_prefix": "del ",
     "library": "var_list.py",
     "varRefreshCmd": "print(var_dic_list())"
    },
    "r": {
     "delete_cmd_postfix": ") ",
     "delete_cmd_prefix": "rm(",
     "library": "var_list.r",
     "varRefreshCmd": "cat(var_dic_list()) "
    }
   },
   "types_to_exclude": [
    "module",
    "function",
    "builtin_function_or_method",
    "instance",
    "_Feature"
   ],
   "window_display": false
  }
 },
 "nbformat": 4,
 "nbformat_minor": 4
}
