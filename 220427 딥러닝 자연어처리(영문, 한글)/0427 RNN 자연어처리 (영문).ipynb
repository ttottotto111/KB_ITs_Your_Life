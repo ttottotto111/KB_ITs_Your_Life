{
 "cells": [
  {
   "cell_type": "markdown",
   "id": "4a7c9081",
   "metadata": {},
   "source": [
    "# 자연어 처리"
   ]
  },
  {
   "cell_type": "code",
   "execution_count": 5,
   "id": "f836c3f3",
   "metadata": {},
   "outputs": [
    {
     "name": "stdout",
     "output_type": "stream",
     "text": [
      "sentence: hihello\n",
      "char2idx:{'l': 0, 'e': 1, 'i': 2, 'h': 3, 'o': 4}, idx2char:{0: 'l', 1: 'e', 2: 'i', 3: 'h', 4: 'o'}\n",
      "x:hihell, y:ihello\n",
      "x_idx:[3, 2, 3, 1, 0, 0], y_idx:[2, 3, 1, 0, 0, 4]\n",
      "x_end :  [[[0. 0. 0. 1. 0.]\n",
      "  [0. 0. 1. 0. 0.]\n",
      "  [0. 0. 0. 1. 0.]\n",
      "  [0. 1. 0. 0. 0.]\n",
      "  [1. 0. 0. 0. 0.]\n",
      "  [1. 0. 0. 0. 0.]]] (1, 6, 5)\n",
      "y_enc :  [[[0. 0. 1. 0. 0.]\n",
      "  [0. 0. 0. 1. 0.]\n",
      "  [0. 1. 0. 0. 0.]\n",
      "  [1. 0. 0. 0. 0.]\n",
      "  [1. 0. 0. 0. 0.]\n",
      "  [0. 0. 0. 0. 1.]]] (1, 6, 5)\n"
     ]
    }
   ],
   "source": [
    "import tensorflow as tf\n",
    "import numpy as np\n",
    "\n",
    "sentence = \"hihello\"\n",
    "\n",
    "voca = set(sentence)\n",
    "char2idx = {c:i for i, c in enumerate(voca)}\n",
    "idx2char = {i:c for i, c in enumerate(voca)}\n",
    "print(f'sentence: {sentence}')\n",
    "print(f'char2idx:{char2idx}, idx2char:{idx2char}')\n",
    "\n",
    "x = sentence[:-1]\n",
    "y = sentence[1:]\n",
    "print(f'x:{x}, y:{y}')\n",
    "\n",
    "n_class= len(voca)\n",
    "n_time_steps = len(x)\n",
    "hidden_size = n_class\n",
    "\n",
    "''' 문자열을 정수로 변경 '''\n",
    "x_idx = [char2idx[c] for c in x]\n",
    "y_idx = [char2idx[c] for c in y]\n",
    "print(f'x_idx:{x_idx}, y_idx:{y_idx}')\n",
    "\n",
    "''' 원핫 인코딩 '''\n",
    "x_enc = tf.keras.utils.to_categorical(x_idx, num_classes=n_class)\n",
    "x_enc = np.expand_dims(x_enc, axis=0)\n",
    "y_enc = tf.keras.utils.to_categorical(y_idx, num_classes=n_class)\n",
    "y_enc = np.expand_dims(y_enc, axis=0)\n",
    "print(\"x_end : \", x_enc, x_enc.shape)\n",
    "print(\"y_enc : \", y_enc, y_enc.shape)"
   ]
  },
  {
   "cell_type": "code",
   "execution_count": 7,
   "id": "8bb5375d",
   "metadata": {},
   "outputs": [
    {
     "name": "stdout",
     "output_type": "stream",
     "text": [
      "Model: \"sequential_1\"\n",
      "_________________________________________________________________\n",
      " Layer (type)                Output Shape              Param #   \n",
      "=================================================================\n",
      " lstm (LSTM)                 (None, 6, 5)              220       \n",
      "                                                                 \n",
      " dense (Dense)               (None, 6, 5)              30        \n",
      "                                                                 \n",
      " activation (Activation)     (None, 6, 5)              0         \n",
      "                                                                 \n",
      "=================================================================\n",
      "Total params: 250\n",
      "Trainable params: 250\n",
      "Non-trainable params: 0\n",
      "_________________________________________________________________\n",
      "[[[3.46875861e-02 4.69757691e-02 8.08113277e-01 8.86284038e-02\n",
      "   2.15949267e-02]\n",
      "  [1.53215686e-02 8.77117142e-02 7.02990741e-02 8.19050491e-01\n",
      "   7.61712436e-03]\n",
      "  [3.30859497e-02 8.32960844e-01 4.11692485e-02 9.18781981e-02\n",
      "   9.05672787e-04]\n",
      "  [9.23814893e-01 4.89191152e-02 4.73511079e-03 8.29215720e-03\n",
      "   1.42386500e-02]\n",
      "  [9.10454988e-01 6.26653060e-03 3.11672362e-03 1.67888997e-03\n",
      "   7.84829110e-02]\n",
      "  [1.05240926e-01 2.63385125e-04 1.30017241e-03 2.11947644e-03\n",
      "   8.91076088e-01]]] [2 3 1 0 0 4]\n",
      "['i', 'h', 'e', 'l', 'l', 'o']\n"
     ]
    }
   ],
   "source": [
    "''' LSTM을 이용한 모델 학습 '''\n",
    "model = tf.keras.Sequential()\n",
    "model.add(tf.keras.layers.LSTM(hidden_size, input_shape=(n_time_steps, n_class), return_sequences= True))\n",
    "model.add(tf.keras.layers.Dense(hidden_size))\n",
    "model.add(tf.keras.layers.Activation('softmax'))\n",
    "model.summary()\n",
    "\n",
    "model.compile(optimizer ='adam', loss='sparse_categorical_crossentropy')\n",
    "\n",
    "n_epochs=1000\n",
    "hist = model.fit(x_enc, np.reshape(y_idx, (1,6,1)), epochs=n_epochs, verbose=0)\n",
    "\n",
    "pred = model.predict(x_enc)\n",
    "print(pred, np.squeeze(np.argmax(pred, axis=2)))\n",
    "print([idx2char[i] for i in np.squeeze(np.argmax(pred, axis=2))])"
   ]
  },
  {
   "cell_type": "markdown",
   "id": "1302eb43",
   "metadata": {},
   "source": [
    "# Token Embedding\n",
    "- One hot encoding의 단점 보완\n",
    "- 밀집 벡터\n",
    "- 방법론"
   ]
  },
  {
   "cell_type": "markdown",
   "id": "b0f87d28",
   "metadata": {},
   "source": [
    "## 영문 분류\n",
    "- 긍정/부정 어휘 분류"
   ]
  },
  {
   "cell_type": "code",
   "execution_count": 16,
   "id": "801617dc",
   "metadata": {},
   "outputs": [
    {
     "name": "stdout",
     "output_type": "stream",
     "text": [
      "t.word_index : {'nice': 1, 'very': 2, 'good': 3, 'quality': 4, 'stop': 5, 'lies': 6, 'ugly': 7, 'terrible': 8, 'excellent': 9, 'work': 10, 'adorable': 11, 'lovely': 12, 'bad': 13, 'grate': 14}\n",
      "vocab_size : 15\n",
      "integer encoded: [[2, 3, 1, 4], [5, 6], [7, 8], [9, 10], [11, 12], [13], [14, 1]]\n",
      "max_len: 4\n"
     ]
    }
   ],
   "source": [
    "# 긍정 부정 어휘 분류\n",
    "\n",
    "import tensorflow as tf\n",
    "\n",
    "corpus = ['very good nice quality',\n",
    "         'stop lies',\n",
    "         'ugly terrible',\n",
    "         'excellent work',\n",
    "         'adorable lovely',\n",
    "         'bad',\n",
    "         'grate nice']\n",
    "y_tr = [1,0,0,1,1,0,1]\n",
    "\n",
    "t = tf.keras.preprocessing.text.Tokenizer()\n",
    "t.fit_on_texts(corpus)\n",
    "vocab_size = len(t.word_index)+1\n",
    "print('t.word_index :',t.word_index)\n",
    "print(f'vocab_size : {vocab_size}')\n",
    "\n",
    "X_encoded = t.texts_to_sequences(corpus)\n",
    "print(f'integer encoded: {X_encoded}')\n",
    "\n",
    "max_len = max(len(l) for l in X_encoded)\n",
    "print(f'max_len: {max_len}')"
   ]
  },
  {
   "cell_type": "code",
   "execution_count": 18,
   "id": "64e36a3c",
   "metadata": {},
   "outputs": [
    {
     "name": "stdout",
     "output_type": "stream",
     "text": [
      "embedding init : [[[ 0.02976885 -0.02677418]\n",
      "  [ 0.0018677   0.01708687]\n",
      "  [-0.01192241  0.03716968]\n",
      "  [ 0.00165765  0.02346356]]\n",
      "\n",
      " [[-0.02216829 -0.02273486]\n",
      "  [ 0.01486084  0.04852592]\n",
      "  [ 0.02038335  0.0223459 ]\n",
      "  [ 0.02038335  0.0223459 ]]\n",
      "\n",
      " [[-0.02332535  0.00857754]\n",
      "  [-0.03201717 -0.00971905]\n",
      "  [ 0.02038335  0.0223459 ]\n",
      "  [ 0.02038335  0.0223459 ]]]\n",
      "Model: \"sequential_2\"\n",
      "_________________________________________________________________\n",
      " Layer (type)                Output Shape              Param #   \n",
      "=================================================================\n",
      " embedding (Embedding)       (None, 4, 2)              30        \n",
      "                                                                 \n",
      " flatten (Flatten)           (None, 8)                 0         \n",
      "                                                                 \n",
      " dense_1 (Dense)             (None, 1)                 9         \n",
      "                                                                 \n",
      "=================================================================\n",
      "Total params: 39\n",
      "Trainable params: 39\n",
      "Non-trainable params: 0\n",
      "_________________________________________________________________\n",
      "embedding last : [[[-0.32423067  0.48227698]\n",
      "  [ 0.3743294   0.5487778 ]\n",
      "  [ 0.40549308  0.40750372]\n",
      "  [ 0.36318108  0.3564992 ]]\n",
      "\n",
      " [[ 0.41098294 -0.6082907 ]\n",
      "  [-0.43790978 -0.5578862 ]\n",
      "  [-0.20679438 -0.57748985]\n",
      "  [-0.20679438 -0.57748985]]\n",
      "\n",
      " [[ 0.40573618 -0.57307684]\n",
      "  [-0.48065835 -0.61234057]\n",
      "  [-0.20679438 -0.57748985]\n",
      "  [-0.20679438 -0.57748985]]]\n"
     ]
    }
   ],
   "source": [
    "''' 빈값을 채워 넣는것 => padding '''\n",
    "X_train = tf.keras.preprocessing.sequence.pad_sequences(X_encoded, maxlen=max_len, padding='post')\n",
    "y_tr = np.array(y_tr)\n",
    "\n",
    "embd = tf.keras.layers.Embedding(vocab_size, 2, input_length=max_len)\n",
    "print(f'embedding init : {embd(X_train)[:3]}')\n",
    "\n",
    "model = tf.keras.Sequential()\n",
    "model.add(embd)\n",
    "model.add(tf.keras.layers.Flatten())\n",
    "model.add(tf.keras.layers.Dense(1,activation='sigmoid'))\n",
    "model.summary()\n",
    "\n",
    "model.compile(optimizer = 'adam', loss='binary_crossentropy', metrics=['acc'])\n",
    "model.fit(X_train, y_tr, epochs=500, verbose=0)\n",
    "\n",
    "print(f'embedding last : {embd(X_train)[:3]}')"
   ]
  },
  {
   "cell_type": "code",
   "execution_count": 24,
   "id": "2fe4e79d",
   "metadata": {},
   "outputs": [
    {
     "name": "stdout",
     "output_type": "stream",
     "text": [
      "[[-0.20679438 -0.57748985]\n",
      " [ 0.40549308  0.40750372]\n",
      " [-0.32423067  0.48227698]\n",
      " [ 0.3743294   0.5487778 ]\n",
      " [ 0.36318108  0.3564992 ]\n",
      " [ 0.41098294 -0.6082907 ]\n",
      " [-0.43790978 -0.5578862 ]\n",
      " [ 0.40573618 -0.57307684]\n",
      " [-0.48065835 -0.61234057]\n",
      " [-0.47141197  0.6373071 ]\n",
      " [ 0.48496047  0.5728398 ]\n",
      " [-0.45924726  0.6431271 ]\n",
      " [ 0.4428635   0.5921874 ]\n",
      " [ 0.422699   -0.58599305]\n",
      " [-0.472609    0.6280977 ]]\n"
     ]
    },
    {
     "data": {
      "image/png": "[encoded data removed]",
      "text/plain": [
       "<Figure size 720x360 with 1 Axes>"
      ]
     },
     "metadata": {
      "needs_background": "light"
     },
     "output_type": "display_data"
    }
   ],
   "source": [
    "''' 가중치를 이용한 글자 시각화 '''\n",
    "import matplotlib.pyplot as plt\n",
    "\n",
    "embd_matrix = embd.get_weights()[0]\n",
    "print(embd_matrix)\n",
    "plt.figure(figsize=(10,5))\n",
    "for idx, (x1,x2) in enumerate(embd_matrix):\n",
    "    if idx==0: continue\n",
    "    plt.plot(x1,x2,'b.')\n",
    "    plt.annotate(t.index_word[idx],(x1,x2))"
   ]
  }
 ],
 "metadata": {
  "kernelspec": {
   "display_name": "Python 3 (ipykernel)",
   "language": "python",
   "name": "python3"
  },
  "language_info": {
   "codemirror_mode": {
    "name": "ipython",
    "version": 3
   },
   "file_extension": ".py",
   "mimetype": "text/x-python",
   "name": "python",
   "nbconvert_exporter": "python",
   "pygments_lexer": "ipython3",
   "version": "3.9.7"
  }
 },
 "nbformat": 4,
 "nbformat_minor": 5
}
