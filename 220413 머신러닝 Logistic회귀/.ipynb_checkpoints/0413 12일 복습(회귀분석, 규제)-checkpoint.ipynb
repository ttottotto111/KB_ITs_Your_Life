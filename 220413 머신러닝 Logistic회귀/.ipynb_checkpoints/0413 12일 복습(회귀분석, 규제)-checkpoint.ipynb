{
 "cells": [
  {
   "cell_type": "code",
   "execution_count": 98,
   "id": "04290912",
   "metadata": {},
   "outputs": [],
   "source": [
    "from sklearn.preprocessing import PolynomialFeatures\n",
    "import numpy as np\n",
    "import pandas as pd\n",
    "from sklearn.datasets import load_boston\n",
    "from sklearn.linear_model import LinearRegression\n",
    "from sklearn.model_selection import train_test_split\n",
    "from sklearn.linear_model import Ridge"
   ]
  },
  {
   "cell_type": "code",
   "execution_count": 89,
   "id": "8cd653af",
   "metadata": {
    "scrolled": true
   },
   "outputs": [
    {
     "data": {
      "text/html": [
       "<div>\n",
       "<style scoped>\n",
       "    .dataframe tbody tr th:only-of-type {\n",
       "        vertical-align: middle;\n",
       "    }\n",
       "\n",
       "    .dataframe tbody tr th {\n",
       "        vertical-align: top;\n",
       "    }\n",
       "\n",
       "    .dataframe thead th {\n",
       "        text-align: right;\n",
       "    }\n",
       "</style>\n",
       "<table border=\"1\" class=\"dataframe\">\n",
       "  <thead>\n",
       "    <tr style=\"text-align: right;\">\n",
       "      <th></th>\n",
       "      <th>x0</th>\n",
       "      <th>x1</th>\n",
       "      <th>x0^2</th>\n",
       "      <th>x0 x1</th>\n",
       "      <th>x1^2</th>\n",
       "    </tr>\n",
       "  </thead>\n",
       "  <tbody>\n",
       "    <tr>\n",
       "      <th>0</th>\n",
       "      <td>0.0</td>\n",
       "      <td>1.0</td>\n",
       "      <td>0.0</td>\n",
       "      <td>0.0</td>\n",
       "      <td>1.0</td>\n",
       "    </tr>\n",
       "    <tr>\n",
       "      <th>1</th>\n",
       "      <td>2.0</td>\n",
       "      <td>3.0</td>\n",
       "      <td>4.0</td>\n",
       "      <td>6.0</td>\n",
       "      <td>9.0</td>\n",
       "    </tr>\n",
       "    <tr>\n",
       "      <th>2</th>\n",
       "      <td>4.0</td>\n",
       "      <td>5.0</td>\n",
       "      <td>16.0</td>\n",
       "      <td>20.0</td>\n",
       "      <td>25.0</td>\n",
       "    </tr>\n",
       "  </tbody>\n",
       "</table>\n",
       "</div>"
      ],
      "text/plain": [
       "    x0   x1  x0^2  x0 x1  x1^2\n",
       "0  0.0  1.0   0.0    0.0   1.0\n",
       "1  2.0  3.0   4.0    6.0   9.0\n",
       "2  4.0  5.0  16.0   20.0  25.0"
      ]
     },
     "execution_count": 89,
     "metadata": {},
     "output_type": "execute_result"
    }
   ],
   "source": [
    "# PolynomialFeatures 다항회귀\n",
    "# 2차항\n",
    "P = PolynomialFeatures(degree=2, include_bias=False)\n",
    "# 2차원 배열로 저장\n",
    "x = np.arange(6).reshape(-1,2)\n",
    "\n",
    "pd.DataFrame(P.fit_transform(x), columns=P.get_feature_names())"
   ]
  },
  {
   "cell_type": "markdown",
   "id": "dfc6a296",
   "metadata": {},
   "source": [
    "## boston에 적용\n",
    "### 2개의 열만 사용"
   ]
  },
  {
   "cell_type": "code",
   "execution_count": 90,
   "id": "0b53425a",
   "metadata": {},
   "outputs": [],
   "source": [
    "boston = load_boston()\n",
    "bostondf = pd.DataFrame(boston.data,\n",
    "                     columns=boston.feature_names)\n",
    "bostondf[\"PRICE\"] = boston.target\n",
    "bostondf\n",
    "x = bostondf.loc[:,[\"RM\",\"AGE\"]]\n",
    "y = bostondf.iloc[:,-1]"
   ]
  },
  {
   "cell_type": "code",
   "execution_count": 91,
   "id": "a5fd021b",
   "metadata": {
    "scrolled": true
   },
   "outputs": [
    {
     "data": {
      "text/plain": [
       "(0.5465325626978874, 0.4812640964706031)"
      ]
     },
     "execution_count": 91,
     "metadata": {},
     "output_type": "execute_result"
    }
   ],
   "source": [
    "x_tr, x_te, y_tr, y_te = train_test_split(x,y, random_state=20220413, test_size=0.25)\n",
    "\n",
    "model = LinearRegression().fit(x_tr,y_tr)\n",
    "model.score(x_tr, y_tr), model.score(x_te, y_te)"
   ]
  },
  {
   "cell_type": "code",
   "execution_count": 92,
   "id": "93d93263",
   "metadata": {},
   "outputs": [],
   "source": [
    "# 다항으로 변환\n",
    "P = PolynomialFeatures(degree=7, include_bias=False)\n",
    "x_poly = P.fit_transform(x)"
   ]
  },
  {
   "cell_type": "code",
   "execution_count": 93,
   "id": "e1679f0b",
   "metadata": {},
   "outputs": [
    {
     "data": {
      "text/plain": [
       "(0.6851121432704147, 0.6011711850202867)"
      ]
     },
     "execution_count": 93,
     "metadata": {},
     "output_type": "execute_result"
    }
   ],
   "source": [
    "x_tr, x_te, y_tr, y_te = train_test_split(x_poly,y, random_state=20220413, test_size=0.25)\n",
    "\n",
    "model = LinearRegression().fit(x_tr,y_tr)\n",
    "model.score(x_tr, y_tr), model.score(x_te, y_te)"
   ]
  },
  {
   "cell_type": "markdown",
   "id": "69351ea0",
   "metadata": {},
   "source": [
    "## boston에 적용\n",
    "### 모든 열 사용"
   ]
  },
  {
   "cell_type": "code",
   "execution_count": 94,
   "id": "711f71fc",
   "metadata": {},
   "outputs": [],
   "source": [
    "boston = load_boston()\n",
    "bostondf = pd.DataFrame(boston.data,\n",
    "                     columns=boston.feature_names)\n",
    "bostondf[\"PRICE\"] = boston.target\n",
    "bostondf\n",
    "x = bostondf.iloc[:,:-1]\n",
    "y = bostondf.iloc[:,-1]"
   ]
  },
  {
   "cell_type": "code",
   "execution_count": 95,
   "id": "a1deaa12",
   "metadata": {
    "scrolled": true
   },
   "outputs": [
    {
     "data": {
      "text/plain": [
       "(0.7429621464500521, 0.726643572700421)"
      ]
     },
     "execution_count": 95,
     "metadata": {},
     "output_type": "execute_result"
    }
   ],
   "source": [
    "x_tr, x_te, y_tr, y_te = train_test_split(x,y, random_state=20220413, test_size=0.25)\n",
    "\n",
    "model = LinearRegression().fit(x_tr,y_tr)\n",
    "model.score(x_tr, y_tr), model.score(x_te, y_te)"
   ]
  },
  {
   "cell_type": "code",
   "execution_count": 96,
   "id": "58969f87",
   "metadata": {},
   "outputs": [],
   "source": [
    "# 다항으로 변환\n",
    "P = PolynomialFeatures(degree=2, include_bias=False)\n",
    "x_poly = P.fit_transform(x)"
   ]
  },
  {
   "cell_type": "code",
   "execution_count": 97,
   "id": "9a23b2d6",
   "metadata": {
    "scrolled": false
   },
   "outputs": [
    {
     "data": {
      "text/plain": [
       "(0.9520519609032729, 0.6074721959700633)"
      ]
     },
     "execution_count": 97,
     "metadata": {},
     "output_type": "execute_result"
    }
   ],
   "source": [
    "# 과대적합(트레인이 높고 테스트가 낮음)\n",
    "x_tr, x_te, y_tr, y_te = train_test_split(x_poly,y, random_state=0, test_size=0.25)\n",
    "\n",
    "model = LinearRegression().fit(x_tr,y_tr)\n",
    "model.score(x_tr, y_tr), model.score(x_te, y_te)"
   ]
  },
  {
   "cell_type": "markdown",
   "id": "1a6a3d15",
   "metadata": {},
   "source": [
    "### 규제 Ridge"
   ]
  },
  {
   "cell_type": "code",
   "execution_count": 108,
   "id": "4de786fd",
   "metadata": {
    "scrolled": true
   },
   "outputs": [
    {
     "data": {
      "text/plain": [
       "(0.931549811928098, 0.755476984580556)"
      ]
     },
     "execution_count": 108,
     "metadata": {},
     "output_type": "execute_result"
    }
   ],
   "source": [
    "model = Ridge(alpha=100).fit(x_tr, y_tr)\n",
    "model.score(x_tr, y_tr), model.score(x_te, y_te)"
   ]
  }
 ],
 "metadata": {
  "kernelspec": {
   "display_name": "Python 3 (ipykernel)",
   "language": "python",
   "name": "python3"
  },
  "language_info": {
   "codemirror_mode": {
    "name": "ipython",
    "version": 3
   },
   "file_extension": ".py",
   "mimetype": "text/x-python",
   "name": "python",
   "nbconvert_exporter": "python",
   "pygments_lexer": "ipython3",
   "version": "3.9.7"
  }
 },
 "nbformat": 4,
 "nbformat_minor": 5
}
