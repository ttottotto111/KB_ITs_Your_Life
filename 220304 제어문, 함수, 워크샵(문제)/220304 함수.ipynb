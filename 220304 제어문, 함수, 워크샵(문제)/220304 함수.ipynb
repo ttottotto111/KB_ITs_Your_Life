{
 "cells": [
  {
   "cell_type": "code",
   "execution_count": 2,
   "id": "8950aaf8",
   "metadata": {},
   "outputs": [
    {
     "name": "stdout",
     "output_type": "stream",
     "text": [
      "7\n"
     ]
    }
   ],
   "source": [
    "#함수 선언(작성)\n",
    "def my_add(a,b):\n",
    "    print(a+b)\n",
    "#함수실행(실행)\n",
    "my_add(3,4)"
   ]
  },
  {
   "cell_type": "markdown",
   "id": "ce85da8f",
   "metadata": {},
   "source": [
    "## 지역변수, 전역변수\n",
    "함수내에서 선언된 변수는 지역변수  \n",
    "지역변수는 선언된 함수 내에서만 접근 가능  \n",
    "한수밖에서 선언된 변수는 전역변수  \n",
    "전역변수는 모든함수에서 접근가능"
   ]
  },
  {
   "cell_type": "code",
   "execution_count": 5,
   "id": "742b6a35",
   "metadata": {},
   "outputs": [
    {
     "name": "stdout",
     "output_type": "stream",
     "text": [
      "a 100\n",
      "b 200\n",
      "bb 200\n"
     ]
    }
   ],
   "source": [
    "#지역변수 전역변수\n",
    "a = 100   # 전역변수\n",
    "b = 300\n",
    "def print1():\n",
    "    global b #b는 전역변수 (전역변수를 불러옴)\n",
    "    print(\"a\", a)\n",
    "    b = 200\n",
    "    print(\"b\", b) #지역변수\n",
    "\n",
    "print1()\n",
    "print(\"bb\", b) #전역변수 b가 300이기때문에 300이 출력"
   ]
  },
  {
   "cell_type": "code",
   "execution_count": 6,
   "id": "98ce1db7",
   "metadata": {},
   "outputs": [
    {
     "name": "stdout",
     "output_type": "stream",
     "text": [
      "Variable   Type        Data/Info\n",
      "--------------------------------\n",
      "a          int         100\n",
      "b          int         200\n",
      "my_add     function    <function my_add at 0x000002217970A1F0>\n",
      "print1     function    <function print1 at 0x0000022179618E50>\n"
     ]
    }
   ],
   "source": [
    "%whos"
   ]
  },
  {
   "cell_type": "code",
   "execution_count": 9,
   "id": "3bdbd75d",
   "metadata": {},
   "outputs": [
    {
     "name": "stdout",
     "output_type": "stream",
     "text": [
      "a 100\n",
      "b 200\n"
     ]
    }
   ],
   "source": [
    "#함수 복사\n",
    "p1 = print1 #print1이 가지고있는 주소 복사\n",
    "p1()"
   ]
  },
  {
   "cell_type": "code",
   "execution_count": 20,
   "id": "11465b47",
   "metadata": {},
   "outputs": [
    {
     "name": "stdout",
     "output_type": "stream",
     "text": [
      "3 6 9 12 15 18 21 24 27 \n",
      "4 8 12 16 20 24 28 32 36 \n",
      "5 10 15 20 25 30 35 40 45 \n",
      "6 12 18 24 30 36 42 48 54 \n",
      "7 14 21 28 35 42 49 56 63 \n",
      "2 4 6 8 10 12 14 16 18 \n",
      "3 6 9 12 15 18 21 24 27 \n",
      "4 8 12 16 20 24 28 32 36 \n",
      "5 10 15 20 25 30 35 40 45 \n",
      "6 12 18 24 30 36 42 48 54 \n",
      "7 14 21 28 35 42 49 56 63 \n",
      "8 16 24 32 40 48 56 64 72 \n",
      "9 18 27 36 45 54 63 72 81 \n",
      "1 2 3 4 5 6 7 8 9 \n",
      "2 4 6 8 10 12 14 16 18 \n",
      "3 6 9 12 15 18 21 24 27 \n",
      "4 8 12 16 20 24 28 32 36 \n",
      "5 10 15 20 25 30 35 40 45 \n"
     ]
    }
   ],
   "source": [
    "#구구단 출력 함수\n",
    "def gugudan(starts, ends=9): #dan => 위치인수 : 필수입력 사항\n",
    "    \"\"\"\n",
    "    구구단 출력함수\n",
    "    starts : 시작구구단 번호\n",
    "    ends : 끝 구구단 번호\n",
    "    \"\"\"\n",
    "    for i in range(starts, ends+1):\n",
    "        for j in range(1,10):\n",
    "            print(i*j, end = \" \")\n",
    "        print()\n",
    "gugudan(ends = 7, starts = 3) #순서상관없이 이름에 따라 결정\n",
    "gugudan(2)\n",
    "gugudan(1,5)"
   ]
  },
  {
   "cell_type": "code",
   "execution_count": 24,
   "id": "b470a805",
   "metadata": {},
   "outputs": [
    {
     "name": "stdout",
     "output_type": "stream",
     "text": [
      "전달된 단 번호는 (4, 5, 7)\n",
      "4 8 12 16 20 24 28 32 36 \n",
      "5 10 15 20 25 30 35 40 45 \n",
      "7 14 21 28 35 42 49 56 63 \n"
     ]
    }
   ],
   "source": [
    "#구구단 출력함수 2\n",
    "def gugudan2(*dan_arr): #4단 5단 7단\n",
    "    print(\"전달된 단 번호는\", dan_arr)\n",
    "    for i in dan_arr:\n",
    "        for j in range(1,10):\n",
    "            print(i*j, end= \" \")\n",
    "        print()\n",
    "    \n",
    "gugudan2(4,5,7)"
   ]
  },
  {
   "cell_type": "code",
   "execution_count": 31,
   "id": "6b7a5fdb",
   "metadata": {},
   "outputs": [
    {
     "data": {
      "text/plain": [
       "15"
      ]
     },
     "execution_count": 31,
     "metadata": {},
     "output_type": "execute_result"
    }
   ],
   "source": [
    "#예제\n",
    "def calc_many(choice, *args):\n",
    "    if choice ==\"sum\":\n",
    "        result =0\n",
    "        for i in args:\n",
    "            result += i\n",
    "    if choice ==\"mul\":\n",
    "        result =1\n",
    "        for i in args:\n",
    "            result = result*i\n",
    "    return result\n",
    "calc_many(\"mul\", 1,3,5)"
   ]
  },
  {
   "cell_type": "code",
   "execution_count": 39,
   "id": "bb5ef97e",
   "metadata": {},
   "outputs": [
    {
     "name": "stdout",
     "output_type": "stream",
     "text": [
      "10\n",
      "10\n"
     ]
    }
   ],
   "source": [
    "#람다함수\n",
    "\n",
    "result = lambda x : x*2\n",
    "print(result(5))\n",
    "\n",
    "#같은역할의 함수\n",
    "def sumresult(a):\n",
    "    return a*2\n",
    "print(sumresult(5))"
   ]
  },
  {
   "cell_type": "code",
   "execution_count": 41,
   "id": "6f12118f",
   "metadata": {},
   "outputs": [
    {
     "name": "stdout",
     "output_type": "stream",
     "text": [
      "홍\n",
      "김\n",
      "박\n",
      "0번째 홍\n",
      "1번째 김\n",
      "2번째 박\n"
     ]
    }
   ],
   "source": [
    "#enumerate\n",
    "전체회원 = [\"홍\", \"김\", \"박\"]\n",
    "for m in 전체회원:\n",
    "    print(m)  #값은 보여주지만 순번은 보여주지 않음\n",
    "    \n",
    "#순번을 보여주기위한 함수 enumerate\n",
    "for idx, m in enumerate(전체회원):\n",
    "    print(f\"{idx}번째 {m}\")"
   ]
  },
  {
   "cell_type": "code",
   "execution_count": 47,
   "id": "8be37dcb",
   "metadata": {},
   "outputs": [
    {
     "name": "stdout",
     "output_type": "stream",
     "text": [
      "홍의 회비는 100\n",
      "김의 회비는 50\n",
      "박의 회비는 200\n",
      "홍의 회비100\n",
      "김의 회비50\n",
      "박의 회비200\n"
     ]
    }
   ],
   "source": [
    "#zip 함수\n",
    "전체회원 = [\"홍\",\"김\", \"박\"]\n",
    "회비납부금액 = [100,50,200]\n",
    "\n",
    "for i in range(len(전체회원)):\n",
    "    print(f\"{전체회원[i]}의 회비는 {회비납부금액[i]}\")\n",
    "    \n",
    "for name, money in zip(전체회원,회비납부금액):\n",
    "    print(f\"{name}의 회비{money}\")"
   ]
  }
 ],
 "metadata": {
  "kernelspec": {
   "display_name": "Python 3 (ipykernel)",
   "language": "python",
   "name": "python3"
  },
  "language_info": {
   "codemirror_mode": {
    "name": "ipython",
    "version": 3
   },
   "file_extension": ".py",
   "mimetype": "text/x-python",
   "name": "python",
   "nbconvert_exporter": "python",
   "pygments_lexer": "ipython3",
   "version": "3.9.7"
  }
 },
 "nbformat": 4,
 "nbformat_minor": 5
}
