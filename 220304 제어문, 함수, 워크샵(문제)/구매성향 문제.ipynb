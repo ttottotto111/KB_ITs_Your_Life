{
 "cells": [
  {
   "cell_type": "markdown",
   "metadata": {},
   "source": [
    "### Q1) 입력한 단어의 모음 개수(A,E,I,O,U,a,e,i,o,u) 찾기\n",
    "- 키보드로 단어를 입력받아 모음의 개수를 출력하는 코드를 작성하세요.\n",
    "    - 키보드 입력 : HeLLO\n",
    "    - 결과출력 : 2개"
   ]
  },
  {
   "cell_type": "code",
   "execution_count": 38,
   "metadata": {
    "ExecuteTime": {
     "end_time": "2022-02-19T07:04:19.819553Z",
     "start_time": "2022-02-19T07:04:16.751277Z"
    }
   },
   "outputs": [
    {
     "name": "stdout",
     "output_type": "stream",
     "text": [
      "키보드 입력 : HeLLO\n",
      "결과 출력 : 2\n"
     ]
    }
   ],
   "source": [
    "a = input(\"키보드 입력 : \")\n",
    "count = 0\n",
    "ss = \"AEIOUaeiou\"\n",
    "\n",
    "for i in a:\n",
    "    if i in ss:\n",
    "        count += 1\n",
    "print(f\"결과 출력 : {count}\")\n",
    "\n",
    "\n",
    "\n",
    "\n",
    "\n",
    "\n",
    "\n",
    "\n",
    "\n"
   ]
  },
  {
   "cell_type": "markdown",
   "metadata": {},
   "source": [
    "<br/>\n",
    "<br/>\n",
    "<br/>\n",
    "<br/>"
   ]
  },
  {
   "cell_type": "markdown",
   "metadata": {},
   "source": [
    "### Q2) 'A' 와 구매 성향이 가장 비슷한 사람 찾기\n",
    "- purchase 리스트는 편의점에서 구매 리스트입니다.\n",
    "    - 즉, 'A'는 초콜렛 1개, 콜라 2개, 맥주 8개, 커피 4개, 요플레 0개, 빵 1개를 구입\n",
    "- 다음 규칙에 따라 'A'와 구매 성향이 가장 비슷한 사람을 찾으세요.\n",
    "    - 두 명의 구매 리스트에서 같은 품목의 개수의 차의 제곱을 모두 더한 값을 error라고 정의\n",
    "        - ex) 'A'와 'B'의 error는 `(1-3)^2 + (2-3)^2 + (8-0)^2 + (4-2)^2 + (0-1)^2 + (1-2)^2 = 4 + 1 + 64 + 4 + 1 + 1 = 75`\n",
    "    - error가 작을수록 구매 성향이 비슷하다고 정의\n",
    "    - 두 명의 구매 리스트를 매개변수로 받아 error를 반환하는 함수를 정의\n",
    "    - 'A'와 한 명씩 비교하여 errors 리스트에 [누구, error] 형태의 리스트를 하나씩 추가하세요.\n",
    "        - 결과 : [['B', 75], ['C', 34], ['D', 7], ['E', 102]]\n",
    "    - error가 가장 작은 사람을 `min_who`, 해당 error를 `min_error`에 저장하세요."
   ]
  },
  {
   "cell_type": "code",
   "execution_count": 12,
   "metadata": {
    "ExecuteTime": {
     "end_time": "2022-02-19T06:47:24.529039Z",
     "start_time": "2022-02-19T06:47:24.505026Z"
    }
   },
   "outputs": [],
   "source": [
    "# 순서대로 초콜렛, 콜라, 맥주, 커피, 요플레, 빵의 구매 개수\n",
    "purchase = [['A', 1, 2, 8, 4, 0, 1],\n",
    "            ['B', 3, 3, 0, 2, 1, 2],\n",
    "            ['C', 2, 2, 4, 0, 0, 0],\n",
    "            ['D', 0, 0, 8, 3, 0, 0],\n",
    "            ['E', 8, 3, 4, 2, 4, 5]]"
   ]
  },
  {
   "cell_type": "code",
   "execution_count": 27,
   "metadata": {
    "ExecuteTime": {
     "end_time": "2022-02-19T06:47:26.475175Z",
     "start_time": "2022-02-19T06:47:26.458491Z"
    }
   },
   "outputs": [],
   "source": [
    "# 두 명의구매 리스트를 매개변수로 받아 error를 반환하는 함수를 작성하세요.\n",
    "def error(a,b):\n",
    "    result =0\n",
    "    num = 0\n",
    "    i=1\n",
    "    while i<len(a):\n",
    "        num = (int(a[i])-int(b[i]))**2\n",
    "        result += num\n",
    "        i += 1\n",
    "    return result\n",
    "\n",
    "\n",
    "\n",
    "\n"
   ]
  },
  {
   "cell_type": "code",
   "execution_count": 28,
   "metadata": {
    "ExecuteTime": {
     "end_time": "2022-02-19T06:47:28.385818Z",
     "start_time": "2022-02-19T06:47:28.378202Z"
    }
   },
   "outputs": [
    {
     "name": "stdout",
     "output_type": "stream",
     "text": [
      "[['B', 75], ['C', 34], ['D', 7], ['E', 102]]\n"
     ]
    }
   ],
   "source": [
    "# error 리스트\n",
    "errors = []\n",
    "\n",
    "# 한 명씩 'A'와 구매 리스트를 비교하여 error를 구한 뒤 errors 리스트에 결과를 저장하세요.\n",
    "i = 1\n",
    "while i<len(purchase):\n",
    "    a = []\n",
    "    a.append(purchase[i][0])\n",
    "    b = error(purchase[0],purchase[i])\n",
    "    a.append(b)\n",
    "    errors.append(a)\n",
    "    i+=1\n",
    "\n",
    "# errors 결과 : [['B', 75], ['C', 34], ['D', 7], ['E', 102]]\n",
    "print(errors)\n",
    "\n",
    "\n",
    "\n",
    "\n",
    "\n",
    "\n"
   ]
  },
  {
   "cell_type": "code",
   "execution_count": 33,
   "metadata": {
    "ExecuteTime": {
     "end_time": "2022-02-19T06:51:19.086565Z",
     "start_time": "2022-02-19T06:51:19.075858Z"
    }
   },
   "outputs": [
    {
     "name": "stdout",
     "output_type": "stream",
     "text": [
      "A와 D가 가장 가깝습니다. (에러 : 7)\n"
     ]
    }
   ],
   "source": [
    "# error가 가장 작은 사람을 min_who, 해당 error를 min_error에 저장하세요.\n",
    "min_error = float('inf') # 무한대\n",
    "min_who = ''\n",
    "\n",
    "err = errors[0][1]\n",
    "i=1\n",
    "while i<len(errors):\n",
    "    if err>errors[i][1]:\n",
    "        min_error = errors[i][1]\n",
    "        min_who = errors[i][0]\n",
    "        err = errors[i][1]\n",
    "    i+=1\n",
    "\n",
    "\n",
    "\n",
    "\n",
    "\n",
    "\n",
    "print(f'A와 {min_who}가 가장 가깝습니다. (에러 : {min_error})')"
   ]
  }
 ],
 "metadata": {
  "kernelspec": {
   "display_name": "Python 3 (ipykernel)",
   "language": "python",
   "name": "python3"
  },
  "language_info": {
   "codemirror_mode": {
    "name": "ipython",
    "version": 3
   },
   "file_extension": ".py",
   "mimetype": "text/x-python",
   "name": "python",
   "nbconvert_exporter": "python",
   "pygments_lexer": "ipython3",
   "version": "3.9.7"
  },
  "toc": {
   "base_numbering": 1,
   "nav_menu": {},
   "number_sections": true,
   "sideBar": true,
   "skip_h1_title": false,
   "title_cell": "Table of Contents",
   "title_sidebar": "Contents",
   "toc_cell": false,
   "toc_position": {},
   "toc_section_display": true,
   "toc_window_display": false
  },
  "varInspector": {
   "cols": {
    "lenName": 16,
    "lenType": 16,
    "lenVar": 40
   },
   "kernels_config": {
    "python": {
     "delete_cmd_postfix": "",
     "delete_cmd_prefix": "del ",
     "library": "var_list.py",
     "varRefreshCmd": "print(var_dic_list())"
    },
    "r": {
     "delete_cmd_postfix": ") ",
     "delete_cmd_prefix": "rm(",
     "library": "var_list.r",
     "varRefreshCmd": "cat(var_dic_list()) "
    }
   },
   "types_to_exclude": [
    "module",
    "function",
    "builtin_function_or_method",
    "instance",
    "_Feature"
   ],
   "window_display": false
  }
 },
 "nbformat": 4,
 "nbformat_minor": 4
}
