{
 "cells": [
  {
   "cell_type": "code",
   "execution_count": 2,
   "id": "60ac88fb",
   "metadata": {},
   "outputs": [
    {
     "name": "stdout",
     "output_type": "stream",
     "text": [
      "count = 1\n",
      "count = 2\n",
      "count = 3\n",
      "count = 4\n",
      "count = 5\n"
     ]
    }
   ],
   "source": [
    "#while문\n",
    "#1~5까지 출력\n",
    "count = 1\n",
    "while count<=5:\n",
    "    print(f\"count = {count}\")\n",
    "    count +=1"
   ]
  },
  {
   "cell_type": "code",
   "execution_count": 11,
   "id": "ca76568b",
   "metadata": {},
   "outputs": [
    {
     "name": "stdout",
     "output_type": "stream",
     "text": [
      "2550\n"
     ]
    }
   ],
   "source": [
    "#예제 1~100까지 짝수의 합\n",
    "a = 1\n",
    "sum = 0\n",
    "while a<=100:\n",
    "    if a % 2 == 0:\n",
    "        sum += a\n",
    "    a+=1\n",
    "print(sum)"
   ]
  },
  {
   "cell_type": "code",
   "execution_count": 12,
   "id": "9537aa1a",
   "metadata": {},
   "outputs": [
    {
     "name": "stdout",
     "output_type": "stream",
     "text": [
      "*\n",
      "**\n",
      "***\n",
      "****\n",
      "*****\n"
     ]
    }
   ],
   "source": [
    "#예제 별찍기\n",
    "s = \"*\"\n",
    "count = 1\n",
    "while count <=5:\n",
    "    print(s*count)\n",
    "    count+=1"
   ]
  },
  {
   "cell_type": "code",
   "execution_count": 14,
   "id": "ca1f184d",
   "metadata": {},
   "outputs": [
    {
     "name": "stdout",
     "output_type": "stream",
     "text": [
      "1\n",
      "3\n",
      "5\n"
     ]
    }
   ],
   "source": [
    "#for문\n",
    "nums = [1,3,5]\n",
    "for i in nums:\n",
    "    print(i)"
   ]
  },
  {
   "cell_type": "code",
   "execution_count": 17,
   "id": "584f4c49",
   "metadata": {},
   "outputs": [
    {
     "name": "stdout",
     "output_type": "stream",
     "text": [
      "5050\n"
     ]
    }
   ],
   "source": [
    "#예제 range를 사용해 1~100까지 합\n",
    "num = 0\n",
    "for i in range(1,101):  # 1이상 101미만인 숫자 생성\n",
    "    num +=i\n",
    "print(num)"
   ]
  },
  {
   "cell_type": "code",
   "execution_count": 19,
   "id": "eeb2acc5",
   "metadata": {},
   "outputs": [
    {
     "name": "stdout",
     "output_type": "stream",
     "text": [
      "2 4 6 8 10 12 14 16 18 \n",
      "\n",
      "3 6 9 12 15 18 21 24 27 \n",
      "\n",
      "4 8 12 16 20 24 28 32 36 \n",
      "\n",
      "5 10 15 20 25 30 35 40 45 \n",
      "\n",
      "6 12 18 24 30 36 42 48 54 \n",
      "\n",
      "7 14 21 28 35 42 49 56 63 \n",
      "\n",
      "8 16 24 32 40 48 56 64 72 \n",
      "\n",
      "9 18 27 36 45 54 63 72 81 \n",
      "\n"
     ]
    }
   ],
   "source": [
    "#예제 구구단 출력\n",
    "for i in range(2,10):\n",
    "    for j in range(1,10):\n",
    "        print(i*j, end = \" \")\n",
    "    print(\"\\n\")"
   ]
  },
  {
   "cell_type": "code",
   "execution_count": 25,
   "id": "ee506f48",
   "metadata": {},
   "outputs": [
    {
     "data": {
      "text/plain": [
       "1"
      ]
     },
     "execution_count": 25,
     "metadata": {},
     "output_type": "execute_result"
    }
   ],
   "source": [
    "#2차원\n",
    "t2 = [[1,2,3],[4,5,6],[7,8,9,10]]\n",
    "type(t2)\n",
    "t2[0][0]"
   ]
  },
  {
   "cell_type": "code",
   "execution_count": 34,
   "id": "0d1379ba",
   "metadata": {},
   "outputs": [
    {
     "name": "stdout",
     "output_type": "stream",
     "text": [
      "[1, 2, 3]\n",
      "1 2 3 \n",
      "[4, 5, 6]\n",
      "4 5 6 \n",
      "[7, 8, 9, 10]\n",
      "7 8 9 10 \n"
     ]
    }
   ],
   "source": [
    "#전체 요소에 접근\n",
    "for v1 in t2:\n",
    "    print(v1)\n",
    "    for v2 in v1:\n",
    "        print(v2, end=\" \")\n",
    "    print()"
   ]
  },
  {
   "cell_type": "markdown",
   "id": "fd74c33a",
   "metadata": {},
   "source": [
    "### 숫자맞추기 게임\n",
    "1~100사이 컴퓨터가 정한 난수를 맞추기  \n",
    "1. 컴퓨터가 난수를 정함(1~100) 랜덤함수 random.randint(1,100)\n",
    "2. 1~100사이 숫자르 입력받음\n",
    "3. 입력숫자가 난수와 같으면 정답입니다 출력 게임종료\n",
    "4. 입력숫자가 난수보다 작으면 올려주세요 크면 내려주세요 출력"
   ]
  },
  {
   "cell_type": "code",
   "execution_count": 41,
   "id": "ddc11ca3",
   "metadata": {},
   "outputs": [
    {
     "name": "stdout",
     "output_type": "stream",
     "text": [
      "***숫자맞추기게임 (NumberGuess)***\n",
      "1~100사이 숫자를 입력하세요 : 50\n",
      "올려주세요\n",
      "1~100사이 숫자를 입력하세요 : 60\n",
      "올려주세요\n",
      "1~100사이 숫자를 입력하세요 : 70\n",
      "내려주세요\n",
      "1~100사이 숫자를 입력하세요 : 65\n",
      "올려주세요\n",
      "1~100사이 숫자를 입력하세요 : 66\n",
      "올려주세요\n",
      "1~100사이 숫자를 입력하세요 : 67\n",
      "올려주세요\n",
      "1~100사이 숫자를 입력하세요 : 68\n",
      "정답입니다\n"
     ]
    }
   ],
   "source": [
    "#숫자맞추기 게임\n",
    "print(\"***숫자맞추기게임 (NumberGuess)***\")\n",
    "import random\n",
    "num  = random.randint(1,100)\n",
    "a = 0\n",
    "\n",
    "while True:\n",
    "    a = input(\"1~100사이 숫자를 입력하세요 : \")\n",
    "    #숫자 아니면 다시 입력\n",
    "    if not a.isdecimal():\n",
    "        print(\"1~100사이 숫자만 입력하세요\")\n",
    "        continue\n",
    "    if int(a) == num:\n",
    "        print(\"정답입니다\")\n",
    "        break\n",
    "    elif int(a)<num:\n",
    "        print(\"올려주세요\")\n",
    "    else:\n",
    "        print(\"내려주세요\")"
   ]
  },
  {
   "cell_type": "code",
   "execution_count": 50,
   "id": "c0ae294a",
   "metadata": {},
   "outputs": [
    {
     "name": "stdout",
     "output_type": "stream",
     "text": [
      "단어를 입력하세요 : hello\n",
      "2\n"
     ]
    }
   ],
   "source": [
    "#입력한 단어의 모음개수 찾기\n",
    "s = input(\"단어를 입력하세요 : \")\n",
    "sum = 0\n",
    "ss = \"AEIOUaeiou\"\n",
    "for a in s:\n",
    "    if a in ss:\n",
    "        sum+=1\n",
    "print(sum)"
   ]
  },
  {
   "cell_type": "code",
   "execution_count": 53,
   "id": "b403be57",
   "metadata": {},
   "outputs": [
    {
     "data": {
      "text/plain": [
       "[11, 13, 15]"
      ]
     },
     "execution_count": 53,
     "metadata": {},
     "output_type": "execute_result"
    }
   ],
   "source": [
    "# 리스트를 새로운 리스트로 복사 => 타입변환시 많이 사용\n",
    "nums = [1,3,5]\n",
    "nums2 = [i+10 for i in nums] # 복사시 연산이 가능\n",
    "nums2"
   ]
  },
  {
   "cell_type": "code",
   "execution_count": 56,
   "id": "6c286733",
   "metadata": {},
   "outputs": [
    {
     "data": {
      "text/plain": [
       "'1-3-5'"
      ]
     },
     "execution_count": 56,
     "metadata": {},
     "output_type": "execute_result"
    }
   ],
   "source": [
    "# 숫자형의 리스트를 문자열로 바꾼뒤 join적용\n",
    "nums = [1,3,5]\n",
    "\"-\".join([str(i) for i in nums])"
   ]
  },
  {
   "cell_type": "code",
   "execution_count": 59,
   "id": "95f397c8",
   "metadata": {},
   "outputs": [
    {
     "name": "stdout",
     "output_type": "stream",
     "text": [
      "단어를 입력하세요 : hello\n",
      "2\n"
     ]
    }
   ],
   "source": [
    "#입력한 단어의 모음개수 찾기 => 컴프레션사용\n",
    "s = input(\"단어를 입력하세요 : \")\n",
    "sum = 0\n",
    "ss = [x for x in s if x in \"AEIOUaeiou\"]\n",
    "    \n",
    "print(len(ss))"
   ]
  },
  {
   "cell_type": "code",
   "execution_count": 62,
   "id": "b8816381",
   "metadata": {},
   "outputs": [
    {
     "name": "stdout",
     "output_type": "stream",
     "text": [
      "10 20\n"
     ]
    }
   ],
   "source": [
    "#언패킹\n",
    "a,b = (10,20) # 변수와 값의 개수는 같아야한다\n",
    "print(a,b)"
   ]
  },
  {
   "cell_type": "code",
   "execution_count": 65,
   "id": "f54885d5",
   "metadata": {},
   "outputs": [
    {
     "name": "stdout",
     "output_type": "stream",
     "text": [
      "10 20 30\n",
      "10 20 30\n"
     ]
    }
   ],
   "source": [
    "# 자료구조의 언패킹\n",
    "a,b,c = 10,20,30 # => 튜플\n",
    "a,b,c = (10,20,30) #튜플\n",
    "a,b,c = [10,20,30] #리스트\n",
    "x,y,z = {10,20,30} #집합\n",
    "\n",
    "print(a,b,c)\n",
    "print(x,y,z)"
   ]
  },
  {
   "cell_type": "code",
   "execution_count": 67,
   "id": "7d6b7bac",
   "metadata": {},
   "outputs": [
    {
     "name": "stdout",
     "output_type": "stream",
     "text": [
      "10 20\n"
     ]
    }
   ],
   "source": [
    "# 값 맞교환\n",
    "b,a = a,b\n",
    "print(a,b)"
   ]
  },
  {
   "cell_type": "markdown",
   "id": "27c0112a",
   "metadata": {},
   "source": [
    "### 로또번호 생성기"
   ]
  },
  {
   "cell_type": "code",
   "execution_count": 75,
   "id": "56d8eddd",
   "metadata": {},
   "outputs": [
    {
     "name": "stdout",
     "output_type": "stream",
     "text": [
      "로또 번호 :  [38, 26, 37, 9, 41, 35]\n"
     ]
    }
   ],
   "source": [
    "#리스트에 로또번호 생성\n",
    "import random\n",
    "\n",
    "mylist = [] #바로 저장시 중복저장이 일어남\n",
    "while len(mylist)<6:\n",
    "    r = random.randint(1,45)\n",
    "    if r in mylist:\n",
    "        continue\n",
    "    mylist.append(r)\n",
    "print(\"로또 번호 : \",mylist)"
   ]
  },
  {
   "cell_type": "code",
   "execution_count": 86,
   "id": "1de00d13",
   "metadata": {},
   "outputs": [
    {
     "name": "stdout",
     "output_type": "stream",
     "text": [
      "로또 번호 :  {32, 34, 36, 38, 17, 29}\n"
     ]
    }
   ],
   "source": [
    "#집합에 로또번호 생성 => 자동 중복 배제\n",
    "import random\n",
    "\n",
    "myset = set()\n",
    "while len(myset)<6:\n",
    "    r = random.randint(1,45)\n",
    "    myset.add(r)\n",
    "print(\"로또 번호 : \",myset)"
   ]
  },
  {
   "cell_type": "code",
   "execution_count": 93,
   "id": "741dbceb",
   "metadata": {},
   "outputs": [
    {
     "name": "stdout",
     "output_type": "stream",
     "text": [
      "로또 번호 :  dict_values([30, 42, 34, 35, 19, 4])\n"
     ]
    }
   ],
   "source": [
    "#사전에 로또번호 생성 => 키, 값 저장\n",
    "import random\n",
    "i = 0\n",
    "mydic = {}\n",
    "while len(mydic)<6:\n",
    "    r = random.randint(1,45)\n",
    "    mydic[r] = r\n",
    "     \n",
    "print(\"로또 번호 : \",mydic.values())"
   ]
  }
 ],
 "metadata": {
  "kernelspec": {
   "display_name": "Python 3 (ipykernel)",
   "language": "python",
   "name": "python3"
  },
  "language_info": {
   "codemirror_mode": {
    "name": "ipython",
    "version": 3
   },
   "file_extension": ".py",
   "mimetype": "text/x-python",
   "name": "python",
   "nbconvert_exporter": "python",
   "pygments_lexer": "ipython3",
   "version": "3.9.7"
  }
 },
 "nbformat": 4,
 "nbformat_minor": 5
}
