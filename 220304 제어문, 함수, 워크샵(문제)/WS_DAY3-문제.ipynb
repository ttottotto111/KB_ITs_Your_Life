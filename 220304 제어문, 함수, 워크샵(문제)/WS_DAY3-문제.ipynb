{
 "cells": [
  {
   "cell_type": "markdown",
   "metadata": {},
   "source": [
    "### Q1. 넒이 계산기\n",
    "- 도형의 모양과 정보를 입력받아 넓이를 출력하는 함수를 작성하세요.\n",
    "- 매개변수 : width = 0, height = 0, radius = 0, pi = 3.14, shape = '' (모두 디폴트 매개변수로 설정)\n",
    "- shape가 'circle' 이면 원의 넓이, 'triangle' 이면 삼각형의 넓이, 'rectangle' 이면 사각형의 넓이를 출력하세요."
   ]
  },
  {
   "cell_type": "code",
   "execution_count": 24,
   "metadata": {
    "ExecuteTime": {
     "end_time": "2022-02-17T08:30:50.493788Z",
     "start_time": "2022-02-17T08:30:50.470424Z"
    }
   },
   "outputs": [],
   "source": [
    "# 위에 정의한 내용을 참고하여 getArea() 함수를 정의하세요\n",
    "def getArea(width = 0, height = 0,radius = 0,pi = 3.14, shape = \" \"):\n",
    "    if shape == \"rectangle\":\n",
    "        print(width * height)\n",
    "        return\n",
    "    if shape == \"triangle\":\n",
    "        print(int((width * height)/2))\n",
    "        return\n",
    "    if shape == \"circle\":\n",
    "        print((radius**2)*pi)\n",
    "        return\n",
    "\n",
    "\n",
    "\n",
    "\n"
   ]
  },
  {
   "cell_type": "code",
   "execution_count": 25,
   "metadata": {
    "ExecuteTime": {
     "end_time": "2022-02-17T08:30:50.611060Z",
     "start_time": "2022-02-17T08:30:50.595058Z"
    }
   },
   "outputs": [
    {
     "name": "stdout",
     "output_type": "stream",
     "text": [
      "200\n",
      "100\n",
      "314.0\n",
      "314.1592\n"
     ]
    }
   ],
   "source": [
    "# width 10, height 20 인 직사각형의 넓이를 구하세요.\n",
    "getArea(10, 20, shape = 'rectangle')\n",
    "\n",
    "# width 10, height 20 인 삼각형의 넓이를 구하세요.\n",
    "getArea(10, 20, shape = 'triangle')\n",
    "\n",
    "# radius 10 인 원의 넓이를 구하세요.\n",
    "getArea(radius = 10, shape = 'circle')\n",
    "\n",
    "# radius 10, pi 3.141592 인 원의 넓이를 구하세요.\n",
    "getArea(radius = 10, pi = 3.141592, shape = 'circle')"
   ]
  },
  {
   "cell_type": "markdown",
   "metadata": {},
   "source": [
    "<br/>\n",
    "<br/>\n",
    "<br/>\n",
    "<br/>"
   ]
  },
  {
   "cell_type": "markdown",
   "metadata": {},
   "source": [
    "### Q2. 학점 계산기\n",
    "- 학점을 입력받아 평균 점수를 반환하는 함수를 작성하세요.\n",
    "- 매개변수 : grades (학점이 ','로 구분되어있는 문자열)\n",
    "    - ex) \"A+,B,D,B+,C\"\n",
    "- 다음 점수 변환 규칙에 따라 계산하여 평균 점수를 리턴\n",
    "    - 'A+' : 4.5, 'A' : 4.0, 'B+' : 3.5, 'B': 3.0, 'C' : 2.0, 'D' : 1.0"
   ]
  },
  {
   "cell_type": "code",
   "execution_count": 85,
   "metadata": {
    "ExecuteTime": {
     "end_time": "2022-02-17T08:35:18.674040Z",
     "start_time": "2022-02-17T08:35:18.650695Z"
    }
   },
   "outputs": [],
   "source": [
    "# getMeanScore() 함수를 정의하세요\n",
    "def getMeanScore(grades):\n",
    "    result = 0.0\n",
    "    gradedic = {'A+':4.5, 'A': 4.0, 'B+':3.5, 'B':3.0, 'C': 2.0, 'D':1.0}\n",
    "    grade = grades.split(',')\n",
    "    \n",
    "    for m in grade:\n",
    "        result = result+gradedic.get(m)\n",
    "    return result/len(grade)\n",
    "\n",
    "\n",
    "\n",
    "\n",
    "\n"
   ]
  },
  {
   "cell_type": "code",
   "execution_count": 86,
   "metadata": {
    "ExecuteTime": {
     "end_time": "2022-02-17T08:35:22.585550Z",
     "start_time": "2022-02-17T08:35:18.800880Z"
    }
   },
   "outputs": [
    {
     "name": "stdout",
     "output_type": "stream",
     "text": [
      "학점을 입력하세요.(ex. A+,B,D,B+,C) : A+,B,B,C,D\n"
     ]
    },
    {
     "data": {
      "text/plain": [
       "2.7"
      ]
     },
     "execution_count": 86,
     "metadata": {},
     "output_type": "execute_result"
    }
   ],
   "source": [
    "# 코드를 실행하세요.\n",
    "grades = input('학점을 입력하세요.(ex. A+,B,D,B+,C) : ')\n",
    "getMeanScore(grades)"
   ]
  },
  {
   "cell_type": "markdown",
   "metadata": {},
   "source": [
    "<br/>\n",
    "<br/>\n",
    "<br/>\n",
    "<br/>"
   ]
  },
  {
   "cell_type": "markdown",
   "metadata": {},
   "source": [
    "### Q3. 인형 옮기기\n",
    "- 인형 뽑기 기계를 이용하여 인형의 위치를 한 곳에서 다른 한 곳으로 옮길 수 있습니다.\n",
    "- 인형은 중력의 영향을 받아 아래로 떨어지며, 인형을 집을 때는 해당 위치의 가장 위에 있는 인형만 선택 가능합니다.\n",
    "- 위아래로 있는 인형의 종류가 같다면 뽑기에 성공하여 빈 공간으로 채워집니다.\n",
    "- 인형의 배열은 2차원 리스트로 이루어져 있으며 0은 빈 공간, 1, 2, 3은 인형의 종류를 의미합니다.\n",
    "- start 위치에서 end 위치로 인형을 옮기는 함수를 작성하세요.\n",
    "    - 매개변수 : start(출발), end(도착)\n",
    "    - start 위치의 맨 위 인형의 종류와 end 위치의 맨 위 인형의 종류가 같다면 두 위치의 값을 0으로 수정하세요.\n",
    "    - 다르다면 start 위치의 맨 위 인형을 end 위치의 맨 위 위에 위치시키고, 기존 위치의 값을 0으로 수정하세요.\n",
    "    - 천장을 뚫거나 같은 위치로의 이동이나 인형이 없는 위치를 선택하는 등의 예외는 없다고 가정  "
   ]
  },
  {
   "cell_type": "markdown",
   "metadata": {},
   "source": [
    "![이미지](성공실패.png)"
   ]
  },
  {
   "cell_type": "code",
   "execution_count": 74,
   "metadata": {
    "ExecuteTime": {
     "end_time": "2022-02-17T09:03:08.497002Z",
     "start_time": "2022-02-17T09:03:08.480967Z"
    }
   },
   "outputs": [],
   "source": [
    "def doll(start, end):\n",
    "    p=0\n",
    "    q=0\n",
    "    start_doll = 0\n",
    "    end_doll = 0\n",
    "    \n",
    "    #시작지점에 가장위 인형 확인\n",
    "    while p<5:\n",
    "        if b[p][start] !=0:\n",
    "            start_doll = b[p][start]\n",
    "            break\n",
    "        p = p+1\n",
    "        \n",
    "    #종료지점에 가장위 인형 확인\n",
    "    while q<5:\n",
    "        if b[q][end]!=0:\n",
    "            end_doll = b[q][end]\n",
    "            break\n",
    "        q = q+1\n",
    "        \n",
    "    #시작지점과 종료지점의 인형이 같을경우\n",
    "    if start_doll == end_doll:\n",
    "        b[p][start] = 0\n",
    "        b[q][end]=0\n",
    "        for k in b:\n",
    "            print(k)\n",
    "        print(\"인형의 종류가 같습니다!\")\n",
    "        \n",
    "    #시작지점과 종료지점의 인형이 다를경우\n",
    "    else:\n",
    "        b[q][end+1]= b[p][start]\n",
    "        b[p][start] = 0\n",
    "        for k in b:\n",
    "            print(k)"
   ]
  },
  {
   "cell_type": "code",
   "execution_count": 75,
   "metadata": {
    "ExecuteTime": {
     "end_time": "2022-02-17T09:04:13.308489Z",
     "start_time": "2022-02-17T09:03:55.123378Z"
    }
   },
   "outputs": [
    {
     "name": "stdout",
     "output_type": "stream",
     "text": [
      "[0, 0, 0, 0, 0]\n",
      "[0, 0, 0, 0, 0]\n",
      "[0, 0, 0, 0, 0]\n",
      "[0, 0, 0, 0, 0]\n",
      "[1, 0, 1, 1, 0]\n",
      "인형의 종류가 같습니다!\n"
     ]
    }
   ],
   "source": [
    "a = [0,0,0,0,0]\n",
    "c = [1,1,1,1,1]\n",
    "b = []\n",
    "i=0\n",
    "j=0\n",
    "count = 0\n",
    "\n",
    "# 배열 초기화\n",
    "while i<4:\n",
    "    b.append(a)\n",
    "    i=i+1\n",
    "b.append(c)\n",
    "\n",
    "# 인형이 모두 뽑혔는지 확인\n",
    "while i < len(b):\n",
    "    while j < len(b[i]):\n",
    "        if b[i][j] != 0:\n",
    "            count = count+1\n",
    "        j = j+1\n",
    "    i = i+1\n",
    "    \n",
    "if count !=0:\n",
    "    doll(1,4)\n",
    "else:\n",
    "    for k in b:\n",
    "        print(k)\n",
    "    print(\"전부 뽑았습니다!\")\n",
    "\n",
    "\n",
    "\n",
    "\n",
    "\n",
    "\n",
    "\n",
    "\n",
    "\n",
    "\n",
    "\n",
    "\n",
    "\n",
    "\n",
    "\n"
   ]
  },
  {
   "cell_type": "code",
   "execution_count": null,
   "metadata": {},
   "outputs": [],
   "source": []
  }
 ],
 "metadata": {
  "kernelspec": {
   "display_name": "Python 3 (ipykernel)",
   "language": "python",
   "name": "python3"
  },
  "language_info": {
   "codemirror_mode": {
    "name": "ipython",
    "version": 3
   },
   "file_extension": ".py",
   "mimetype": "text/x-python",
   "name": "python",
   "nbconvert_exporter": "python",
   "pygments_lexer": "ipython3",
   "version": "3.9.7"
  },
  "toc": {
   "base_numbering": 1,
   "nav_menu": {},
   "number_sections": true,
   "sideBar": true,
   "skip_h1_title": false,
   "title_cell": "Table of Contents",
   "title_sidebar": "Contents",
   "toc_cell": false,
   "toc_position": {},
   "toc_section_display": true,
   "toc_window_display": false
  },
  "varInspector": {
   "cols": {
    "lenName": 16,
    "lenType": 16,
    "lenVar": 40
   },
   "kernels_config": {
    "python": {
     "delete_cmd_postfix": "",
     "delete_cmd_prefix": "del ",
     "library": "var_list.py",
     "varRefreshCmd": "print(var_dic_list())"
    },
    "r": {
     "delete_cmd_postfix": ") ",
     "delete_cmd_prefix": "rm(",
     "library": "var_list.r",
     "varRefreshCmd": "cat(var_dic_list()) "
    }
   },
   "types_to_exclude": [
    "module",
    "function",
    "builtin_function_or_method",
    "instance",
    "_Feature"
   ],
   "window_display": false
  }
 },
 "nbformat": 4,
 "nbformat_minor": 4
}
