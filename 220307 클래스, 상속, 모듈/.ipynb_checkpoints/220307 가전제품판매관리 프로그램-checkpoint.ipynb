{
 "cells": [
  {
   "cell_type": "markdown",
   "id": "66dce8d3",
   "metadata": {},
   "source": [
    "# 가전제품 판매 관리 프로그램\n",
    "- TV, 오디오, 냉장고, 세탁기 등등 판매\n",
    "- 구현기능: 관리기능 -> CRUD\n",
    "1. 제품구매(등록) - 재고 정보\n",
    "2. 제품판매\n",
    "3. 제품 재고수정\n",
    "4. 단종제품 - 삭제\n",
    "5. 제품정보 목록, 상세, 검색\n",
    "\n",
    "- 필요한 모듈(코드) :  \n",
    "    제품정보 - Product 클래스  \n",
    "    제품정보관리 - ProductManager 클래스  \n",
    "    정보 입출력(UI) - ProductUI 클래스  \n",
    "    데이터 입출력(IO) - ProductIO 클래스  "
   ]
  },
  {
   "cell_type": "code",
   "execution_count": 13,
   "id": "69ff2da2",
   "metadata": {},
   "outputs": [
    {
     "name": "stdout",
     "output_type": "stream",
     "text": [
      "100,냉장고,LG,300,5\n",
      "200,냉장고,삼성,250,3\n",
      "100,냉장고,LG,300,5\n",
      "100,냉장고,LG,300,5\n"
     ]
    }
   ],
   "source": [
    "#제품정보 클래스\n",
    "class Product:\n",
    "    \"\"\"\n",
    "    상품정보 정의용 클래스\n",
    "    이름, 제조사, 가격, 수량\n",
    "    \"\"\"\n",
    "    pass\n",
    "#생성자\n",
    "    def __init__(self,cd,name,factory,price,qty):\n",
    "        self.cd = cd\n",
    "        self.name = name\n",
    "        self.factory = factory\n",
    "        self.price = price\n",
    "        self.qty = qty\n",
    "#객체 생성용 문자열\n",
    "    def printInfo(self):\n",
    "        print(f\"{self.cd},{self.name},{self.factory},{self.price},{self.qty}\")\n",
    "        \n",
    "#순수 디버깅용\n",
    "    def __str__(self):\n",
    "        return f\"{self.cd},{self.name},{self.factory},{self.price},{self.qty}\"\n",
    "    \n",
    "p1 = Product(100,\"냉장고\", \"LG\", 300, 5)\n",
    "p2 = Product(200,\"냉장고\", \"삼성\", 250, 3)\n",
    "\n",
    "p1.printInfo() # 디버깅용 함수\n",
    "p2.printInfo() # 디버깅용 함수\n",
    "\n",
    "print( p1 ) # p1객체의 현재정보를 문자열로 변환, 출력\n",
    "print( p1.__str__() )#특수함수 - 목적에 따라 미리 만들어진 함수"
   ]
  },
  {
   "cell_type": "code",
   "execution_count": 38,
   "id": "7ae5780d",
   "metadata": {},
   "outputs": [
    {
     "name": "stdout",
     "output_type": "stream",
     "text": [
      "*** 전체출력 ***\n",
      "100 = 100,냉장고,LG,300,8\n",
      "200 = 200,세탁기,삼성,100,9\n"
     ]
    }
   ],
   "source": [
    "# 제품관리기능- 등록, 검색, 수정, 삭제기능 제공 모듈\n",
    "class ProductManager:\n",
    "    def __init__(self):\n",
    "        # 제품저장할 사전=>생성자에서 인스턴스변수로 생성\n",
    "        self.prd_dicts = dict() \n",
    "        \n",
    "    def add(self, prd): #같은 키의 경우 재고량 증가\n",
    "        if prd.cd in self.prd_dicts: #같은키가 존재하면\n",
    "            self.prd_dicts[prd.cd].qty += prd.qty #재고량 증가\n",
    "        else:\n",
    "            self.prd_dicts[prd.cd] = prd\n",
    "        \n",
    "    def printAll(self):\n",
    "        print(\"*** 전체출력 ***\")\n",
    "        for p in self.prd_dicts:\n",
    "            print(f\"{p} = {self.prd_dicts[p]}\")\n",
    "    \n",
    "p_mgr = ProductManager()\n",
    "\n",
    "p = Product(100,\"냉장고\", \"LG\", 300, 5)\n",
    "p_mgr.add( p ) # 제품등록\n",
    "p = Product(100,\"냉장고\", \"LG\", 300, 3)\n",
    "p_mgr.add( p ) # 제품등록\n",
    "\n",
    "p = Product(200,\"세탁기\", \"삼성\", 100, 3)\n",
    "p_mgr.add( p ) # 제품등록\n",
    "p = Product(200,\"세탁기\", \"삼성\", 100, 6)\n",
    "p_mgr.add( p ) # 제품등록\n",
    "\n",
    "p_mgr.printAll() # 등록제품 모두 출력"
   ]
  }
 ],
 "metadata": {
  "kernelspec": {
   "display_name": "Python 3 (ipykernel)",
   "language": "python",
   "name": "python3"
  },
  "language_info": {
   "codemirror_mode": {
    "name": "ipython",
    "version": 3
   },
   "file_extension": ".py",
   "mimetype": "text/x-python",
   "name": "python",
   "nbconvert_exporter": "python",
   "pygments_lexer": "ipython3",
   "version": "3.9.7"
  }
 },
 "nbformat": 4,
 "nbformat_minor": 5
}
