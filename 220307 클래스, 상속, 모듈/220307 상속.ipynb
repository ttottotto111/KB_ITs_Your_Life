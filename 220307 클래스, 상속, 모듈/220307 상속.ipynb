{
 "cells": [
  {
   "cell_type": "markdown",
   "id": "d5c860be",
   "metadata": {},
   "source": [
    "# 상속\n",
    "\n",
    "학교인원관리 프로그램 작성  \n",
    "관리대상 : 학생, 직원, 교수  \n",
    "- 학생 : 학번, 이름, 학과\n",
    "- 직원 : 사번, 이름, 부서\n",
    "- 교수 : 교번, 이름, 연구실 위치  \n",
    "공통 변수는 사람 클래스로 정의, 학생 직원, 교수에서는 특징적인것만 정의  \n",
    "- 사람 : 번호, 이름\n",
    "- 학생 : 학과\n",
    "- 직원 : 부서\n",
    "- 교수 : 연구실 위치"
   ]
  },
  {
   "cell_type": "code",
   "execution_count": 16,
   "id": "7b07cc6c",
   "metadata": {},
   "outputs": [
    {
     "name": "stdout",
     "output_type": "stream",
     "text": [
      "100-홍\n",
      "100-홍\n"
     ]
    }
   ],
   "source": [
    "#부모클래스\n",
    "class Person:\n",
    "    def __init__(self, no, name):\n",
    "        self.no = no\n",
    "        self.name = name\n",
    "    def __str__(self):\n",
    "        return f\"{self.no}-{self.name}\"\n",
    "\n",
    "p = Person(100, \"홍\")\n",
    "\n",
    "#출력값이 같아 짧은 위에 함수를 쓴다\n",
    "print(p)\n",
    "print(p.__str__())"
   ]
  },
  {
   "cell_type": "code",
   "execution_count": 19,
   "id": "1a02bfc8",
   "metadata": {},
   "outputs": [
    {
     "name": "stdout",
     "output_type": "stream",
     "text": [
      "200-박-컴공\n",
      "컴공\n"
     ]
    }
   ],
   "source": [
    "#학생클래스\n",
    "class Student(Person):\n",
    "    def __init__(self, no, name, major):\n",
    "        super().__init__(no,name)\n",
    "        self.major = major      \n",
    "        #부모와 중복되는 함수 제거 => 부모의 함수를 호출\n",
    "    def __str__(self):\n",
    "        return super().__str__()+f\"-{self.major}\"\n",
    "\n",
    "s=Student(200,\"박\",\"컴공\")\n",
    "print(s)\n",
    "print(s.major)"
   ]
  },
  {
   "cell_type": "code",
   "execution_count": 22,
   "id": "3ff16c57",
   "metadata": {},
   "outputs": [
    {
     "name": "stdout",
     "output_type": "stream",
     "text": [
      "300-최-영업부\n"
     ]
    }
   ],
   "source": [
    "#직원클래스\n",
    "class Emp(Person):\n",
    "    def __init__(self, no, name, dept):\n",
    "        super().__init__(no, name)\n",
    "        self.dept = dept\n",
    "    def __str__(self):\n",
    "        return super().__str__()+f\"-{self.dept}\"\n",
    "\n",
    "e = Emp(300, \"최\", \"영업부\")\n",
    "print(e)"
   ]
  },
  {
   "cell_type": "code",
   "execution_count": 23,
   "id": "540e4e39",
   "metadata": {},
   "outputs": [
    {
     "name": "stdout",
     "output_type": "stream",
     "text": [
      "200-박-컴공\n",
      "300-최-영업부\n"
     ]
    }
   ],
   "source": [
    "p_list = []\n",
    "p_list.append(Student(200,\"박\",\"컴공\"))\n",
    "p_list.append(Emp(300, \"최\", \"영업부\"))\n",
    "\n",
    "for p in p_list:\n",
    "    print(p)"
   ]
  }
 ],
 "metadata": {
  "kernelspec": {
   "display_name": "Python 3 (ipykernel)",
   "language": "python",
   "name": "python3"
  },
  "language_info": {
   "codemirror_mode": {
    "name": "ipython",
    "version": 3
   },
   "file_extension": ".py",
   "mimetype": "text/x-python",
   "name": "python",
   "nbconvert_exporter": "python",
   "pygments_lexer": "ipython3",
   "version": "3.9.7"
  }
 },
 "nbformat": 4,
 "nbformat_minor": 5
}
