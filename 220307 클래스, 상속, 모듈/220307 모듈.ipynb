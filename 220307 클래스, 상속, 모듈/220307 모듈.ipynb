{
 "cells": [
  {
   "cell_type": "code",
   "execution_count": 2,
   "id": "b82f638a",
   "metadata": {},
   "outputs": [
    {
     "name": "stdout",
     "output_type": "stream",
     "text": [
      "Overwriting person.py\n"
     ]
    }
   ],
   "source": [
    "%%writefile person.py\n",
    "#부모클래스\n",
    "class Person:\n",
    "    def __init__(self, no, name):\n",
    "        self.no = no\n",
    "        self.name = name\n",
    "    def __str__(self):\n",
    "        return f\"{self.no}-{self.name}\"\n",
    "\n",
    "#학생클래스\n",
    "class Student(Person):\n",
    "    def __init__(self, no, name, major):\n",
    "        super().__init__(no,name)\n",
    "        self.major = major      \n",
    "        #부모와 중복되는 함수 제거 => 부모의 함수를 호출\n",
    "    def __str__(self):\n",
    "        return super().__str__()+f\"-{self.major}\"\n",
    "    \n",
    "#직원클래스\n",
    "class Emp(Person):\n",
    "    def __init__(self, no, name, dept):\n",
    "        super().__init__(no, name)\n",
    "        self.dept = dept\n",
    "    def __str__(self):\n",
    "        return super().__str__()+f\"-{self.dept}\"\n",
    "\n",
    "#__name__ => 모듈명 출력\n",
    "#__name__값이 __main__인 경우에만 테스트 코드 실행, 그외엔 비활성\n",
    "if __name__ == \"__main__\":#메인상황일때 테스트 코드 활성화\n",
    "    print(\"person.__name__\", __name__)"
   ]
  },
  {
   "cell_type": "code",
   "execution_count": 2,
   "id": "931c02b6",
   "metadata": {},
   "outputs": [
    {
     "name": "stdout",
     "output_type": "stream",
     "text": [
      "110-강-수학\n",
      "__name__ :  __main__\n"
     ]
    }
   ],
   "source": [
    "# 모듈 import방법\n",
    "import person as ps\n",
    "\n",
    "s1 = ps.Student(110, \"강\", \"수학\")\n",
    "print(s1)\n",
    "\n",
    "print(\"__name__ : \", __name__)"
   ]
  },
  {
   "cell_type": "code",
   "execution_count": 4,
   "id": "4f59357b",
   "metadata": {},
   "outputs": [
    {
     "name": "stdout",
     "output_type": "stream",
     "text": [
      "110-강-수학\n",
      "__name__ :  __main__\n"
     ]
    }
   ],
   "source": [
    "# 모듈 import방법\n",
    "from person import Student\n",
    "\n",
    "s1 = Student(110, \"강\", \"수학\")\n",
    "print(s1)\n",
    "\n",
    "print(\"__name__ : \", __name__)"
   ]
  },
  {
   "cell_type": "code",
   "execution_count": 6,
   "id": "411f5ec7",
   "metadata": {},
   "outputs": [
    {
     "name": "stdout",
     "output_type": "stream",
     "text": [
      "110-강-수학\n",
      "__name__ :  __main__\n"
     ]
    }
   ],
   "source": [
    "# 모듈 import방법\n",
    "from person import Student as Std\n",
    "\n",
    "s1 = Std(110, \"강\", \"수학\")\n",
    "print(s1)\n",
    "\n",
    "print(\"__name__ : \", __name__)"
   ]
  },
  {
   "cell_type": "code",
   "execution_count": 7,
   "id": "0d93aa34",
   "metadata": {},
   "outputs": [
    {
     "name": "stdout",
     "output_type": "stream",
     "text": [
      "110-강-수학\n",
      "310-박-개발1팀\n"
     ]
    }
   ],
   "source": [
    "# 모듈 import방법\n",
    "from person import *\n",
    "\n",
    "s1 = Student(110, \"강\", \"수학\")\n",
    "print(s1)\n",
    "\n",
    "e1 = Emp(310, \"박\", \"개발1팀\")\n",
    "print(e1)"
   ]
  }
 ],
 "metadata": {
  "kernelspec": {
   "display_name": "Python 3 (ipykernel)",
   "language": "python",
   "name": "python3"
  },
  "language_info": {
   "codemirror_mode": {
    "name": "ipython",
    "version": 3
   },
   "file_extension": ".py",
   "mimetype": "text/x-python",
   "name": "python",
   "nbconvert_exporter": "python",
   "pygments_lexer": "ipython3",
   "version": "3.9.7"
  }
 },
 "nbformat": 4,
 "nbformat_minor": 5
}
