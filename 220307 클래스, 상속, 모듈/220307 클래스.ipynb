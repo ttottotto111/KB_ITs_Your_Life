{
 "cells": [
  {
   "cell_type": "markdown",
   "id": "be6b7cbe",
   "metadata": {},
   "source": [
    "# 회원 관리 프로그램\n",
    "회원::이름, 연락처, 주소  \n",
    "회원목록을 저장하는 방법  \n",
    "1. 이름, 연락처, 주소 따로 리스트에 저장 => 관리할때 상당히 불편  \n",
    "2. 3세대 프로그래밍 언어들은 타입 기반 언어 => 리스트에 같은 타입만 저장 가능\n",
    "3. c언어:: 구조체  c++, 자바::클래스"
   ]
  },
  {
   "cell_type": "code",
   "execution_count": 15,
   "id": "8b5fde68",
   "metadata": {},
   "outputs": [
    {
     "name": "stdout",
     "output_type": "stream",
     "text": [
      "name =   price = 0\n",
      "name =   price = 0\n"
     ]
    }
   ],
   "source": [
    "#클래스 선언 : 1번선언 => 객체는 여러개 생성\n",
    "class Product:\n",
    "    #생성자함수\n",
    "    def __init__(self, name=\" \", price=0): # => 관습적으로 첫번째 인수명은  self\n",
    "        pass\n",
    "        self.name = name\n",
    "        self.price = price\n",
    "        \n",
    "        #출력함수\n",
    "    def printInfo(self):\n",
    "        '''\n",
    "        객체의 현재상태 출력\n",
    "        '''\n",
    "        print(f\"name = {self.name} price = {self.price}\")\n",
    "        pass\n",
    "\n",
    "#객체 생성, 속성생성\n",
    "#생성자 함수 => 객체를 만들때 반드시 생성자 함수 호출을 해야함\n",
    "p1 = Product()\n",
    "p2 = Product(\"세탁기\", 100) #생성자 함수\n",
    "\n",
    "print(f\"name = {p1.name} price = {p1.price}\") #name속성은 인스턴스 변수 존재확인 => 클래스 변수 존재 확인\n",
    "p1.printInfo()"
   ]
  }
 ],
 "metadata": {
  "kernelspec": {
   "display_name": "Python 3 (ipykernel)",
   "language": "python",
   "name": "python3"
  },
  "language_info": {
   "codemirror_mode": {
    "name": "ipython",
    "version": 3
   },
   "file_extension": ".py",
   "mimetype": "text/x-python",
   "name": "python",
   "nbconvert_exporter": "python",
   "pygments_lexer": "ipython3",
   "version": "3.9.7"
  }
 },
 "nbformat": 4,
 "nbformat_minor": 5
}
