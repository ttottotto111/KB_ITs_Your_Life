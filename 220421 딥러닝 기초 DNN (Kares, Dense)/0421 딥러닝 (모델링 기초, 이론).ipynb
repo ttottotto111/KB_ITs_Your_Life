{
 "cells": [
  {
   "cell_type": "markdown",
   "id": "d60d6a6b",
   "metadata": {},
   "source": [
    "## Keras - Dense\n",
    "- 레이어가 두개면 add가 2번\n",
    "- 아웃풋이 2면 Dense(2), input_shape => 입력할 행의 칼럼의 갯수\n",
    "\n",
    "- 첫번째 Dence의 input_shape의 값은 X의 칼럼 갯수\n",
    "- 레이어내 모든 Dense의 activation은 relu를 지정\n",
    "\n",
    "             activatio(활성화 함수)    loss(손실함수)\n",
    "      회귀       linear                   mse (마지막 Dense의 출력값은 1)  \n",
    "      이진분류   sigmoid           binary_crossentropy\n",
    "      다중분류   softmax     sparse_categorical_crossentropy \n",
    "                           (마지막 Dense의 출력값은 분류 종류갯수)\n",
    "categorical_crossentropy -> 종속 변수는 one hot encoding 형태로 반환  \n",
    "ex) 답이 0 0 1 : 2로 해석(1이 2번에 있음)  \n",
    "sparse_categorical_crossentropy -> 종속 변수는 숫자 형태로 반환  \n",
    "답 2로 반환"
   ]
  },
  {
   "cell_type": "code",
   "execution_count": 33,
   "id": "ac090602",
   "metadata": {
    "scrolled": true
   },
   "outputs": [
    {
     "name": "stdout",
     "output_type": "stream",
     "text": [
      "Model: \"sequential_13\"\n",
      "_________________________________________________________________\n",
      " Layer (type)                Output Shape              Param #   \n",
      "=================================================================\n",
      " dense_17 (Dense)            (None, 2)                 6         \n",
      "                                                                 \n",
      " dense_18 (Dense)            (None, 1)                 3         \n",
      "                                                                 \n",
      "=================================================================\n",
      "Total params: 9\n",
      "Trainable params: 9\n",
      "Non-trainable params: 0\n",
      "_________________________________________________________________\n",
      "1/1 [==============================] - 0s 149ms/step - loss: 0.0965 - accuracy: 1.0000\n"
     ]
    },
    {
     "data": {
      "text/plain": [
       "[0.0964551493525505, 1.0]"
      ]
     },
     "execution_count": 33,
     "metadata": {},
     "output_type": "execute_result"
    }
   ],
   "source": [
    "# xor문제\n",
    "import tensorflow as tf\n",
    "import numpy as np\n",
    "tf.random.set_seed(777)\n",
    "\n",
    "# X -> 독립변수, 2차원이상\n",
    "X = np.array([[0,0],[0,1],[1,0],[1,1]], dtype=np.float32)\n",
    "y = np.array([0,1,1,0], dtype=np.float32)\n",
    "\n",
    "# 모델 구축\n",
    "model = tf.keras.Sequential()\n",
    "\n",
    "# 레이어 추가\n",
    "# Dense 밀접, 밀집한\n",
    "# 첫번째 레이어는 반드시 input_shape 파라미터 지정\n",
    "model.add(tf.keras.layers.Dense(2, activation=\"sigmoid\",input_shape=(2,))) #출력 노드수 2로 설정\n",
    "# 마지막 레이어는 1로 설정\n",
    "model.add(tf.keras.layers.Dense(1, activation=\"sigmoid\")) #출력 노드수 1로 설정\n",
    "model.summary()\n",
    "\n",
    "# 컴파일\n",
    "model.compile(loss=\"binary_crossentropy\",\n",
    "             optimizer=\"adam\",\n",
    "             metrics=[\"accuracy\"]) # 보조 측정 (정확도 증가)\n",
    "\n",
    "# 학습\n",
    "# epochs => X, y를 가지고 학습할 횟수(반복 횟수)\n",
    "model.fit(X,y,epochs=5000,verbose=0)\n",
    "model.evaluate(X,y)"
   ]
  },
  {
   "cell_type": "code",
   "execution_count": 34,
   "id": "db5151da",
   "metadata": {},
   "outputs": [],
   "source": [
    "hist = model.fit(X,y,epochs=5000,verbose=0)"
   ]
  },
  {
   "cell_type": "code",
   "execution_count": 21,
   "id": "afecfbd8",
   "metadata": {},
   "outputs": [
    {
     "name": "stdout",
     "output_type": "stream",
     "text": [
      "[[0.10165489]]\n",
      "[[0.895663]]\n",
      "[[0.9188246]]\n",
      "[[0.08035585]]\n"
     ]
    }
   ],
   "source": [
    "print(model.predict([[0,0]]))\n",
    "print(model.predict([[1,0]]))\n",
    "print(model.predict([[0,1]]))\n",
    "print(model.predict([[1,1]]))"
   ]
  },
  {
   "cell_type": "code",
   "execution_count": 35,
   "id": "42a17f1a",
   "metadata": {},
   "outputs": [
    {
     "data": {
      "text/plain": [
       "dict_keys(['loss', 'accuracy'])"
      ]
     },
     "execution_count": 35,
     "metadata": {},
     "output_type": "execute_result"
    }
   ],
   "source": [
    "hist.history.keys()"
   ]
  },
  {
   "cell_type": "code",
   "execution_count": 36,
   "id": "abd1f626",
   "metadata": {},
   "outputs": [
    {
     "data": {
      "text/plain": [
       "[0.0964551493525505,\n",
       " 0.09641598910093307,\n",
       " 0.09637684375047684,\n",
       " 0.0963377058506012,\n",
       " 0.09629857540130615,\n",
       " 0.0962594673037529,\n",
       " 0.09622041881084442,\n",
       " 0.09618133306503296,\n",
       " 0.09614230692386627,\n",
       " 0.09610329568386078]"
      ]
     },
     "execution_count": 36,
     "metadata": {},
     "output_type": "execute_result"
    }
   ],
   "source": [
    "hist.history[\"loss\"][:10]"
   ]
  },
  {
   "cell_type": "code",
   "execution_count": 37,
   "id": "9b07098f",
   "metadata": {},
   "outputs": [
    {
     "data": {
      "text/plain": [
       "<matplotlib.legend.Legend at 0x1e2a7abcaf0>"
      ]
     },
     "execution_count": 37,
     "metadata": {},
     "output_type": "execute_result"
    },
    {
     "data": {
      "image/png": "[encoded data removed]",
      "text/plain": [
       "<Figure size 432x288 with 1 Axes>"
      ]
     },
     "metadata": {
      "needs_background": "light"
     },
     "output_type": "display_data"
    }
   ],
   "source": [
    "import matplotlib.pyplot as plt\n",
    "plt.plot(hist.history[\"loss\"], label=\"loss\")\n",
    "plt.plot(hist.history[\"accuracy\"], label=\"accuracy\")\n",
    "plt.legend()"
   ]
  },
  {
   "cell_type": "markdown",
   "id": "4dc5326c",
   "metadata": {},
   "source": [
    "## iris 딥러닝"
   ]
  },
  {
   "cell_type": "code",
   "execution_count": 50,
   "id": "7532db92",
   "metadata": {},
   "outputs": [
    {
     "data": {
      "text/plain": [
       "((150, 4), (150,))"
      ]
     },
     "execution_count": 50,
     "metadata": {},
     "output_type": "execute_result"
    }
   ],
   "source": [
    "from sklearn.datasets import load_iris\n",
    "\n",
    "iris = load_iris()\n",
    "iris.data.shape, iris.target.shape"
   ]
  },
  {
   "cell_type": "code",
   "execution_count": 41,
   "id": "c4a59af2",
   "metadata": {},
   "outputs": [],
   "source": [
    "from sklearn.model_selection import train_test_split\n",
    "\n",
    "x_tr, x_te, y_tr, y_te = train_test_split(iris.data, iris.target, random_state=0, test_size=0.2)"
   ]
  },
  {
   "cell_type": "code",
   "execution_count": 51,
   "id": "175aedbd",
   "metadata": {
    "scrolled": true
   },
   "outputs": [
    {
     "name": "stdout",
     "output_type": "stream",
     "text": [
      "Model: \"sequential_16\"\n",
      "_________________________________________________________________\n",
      " Layer (type)                Output Shape              Param #   \n",
      "=================================================================\n",
      " dense_25 (Dense)            (None, 4)                 20        \n",
      "                                                                 \n",
      " dense_26 (Dense)            (None, 4)                 20        \n",
      "                                                                 \n",
      " dense_27 (Dense)            (None, 3)                 15        \n",
      "                                                                 \n",
      "=================================================================\n",
      "Total params: 55\n",
      "Trainable params: 55\n",
      "Non-trainable params: 0\n",
      "_________________________________________________________________\n",
      "1/1 [==============================] - 0s 124ms/step - loss: 0.0165 - accuracy: 1.0000\n"
     ]
    },
    {
     "data": {
      "text/plain": [
       "[0.016504140570759773, 1.0]"
      ]
     },
     "execution_count": 51,
     "metadata": {},
     "output_type": "execute_result"
    }
   ],
   "source": [
    "# NN 다중분류 모델 구축\n",
    "import tensorflow as tf\n",
    "\n",
    "model = tf.keras.Sequential()\n",
    "\n",
    "model.add(tf.keras.layers.Dense(4, activation=\"relu\", input_shape=(4,)))\n",
    "model.add(tf.keras.layers.Dense(4, activation=\"relu\"))\n",
    "# 종류 횟수\n",
    "model.add(tf.keras.layers.Dense(3, activation=\"softmax\"))\n",
    "model.summary()\n",
    "\n",
    "model.compile(loss=\"sparse_categorical_crossentropy\",\n",
    "             optimizer = \"adam\",\n",
    "             metrics=[\"accuracy\"])\n",
    "\n",
    "hist = model.fit(x_tr, y_tr, epochs=3000, verbose=0)\n",
    "model.evaluate(x_te, y_te)"
   ]
  },
  {
   "cell_type": "code",
   "execution_count": 52,
   "id": "6212f352",
   "metadata": {},
   "outputs": [
    {
     "data": {
      "text/plain": [
       "<matplotlib.legend.Legend at 0x1e2aa736d60>"
      ]
     },
     "execution_count": 52,
     "metadata": {},
     "output_type": "execute_result"
    },
    {
     "data": {
      "image/png": "[encoded data removed]",
      "text/plain": [
       "<Figure size 432x288 with 1 Axes>"
      ]
     },
     "metadata": {
      "needs_background": "light"
     },
     "output_type": "display_data"
    }
   ],
   "source": [
    "import matplotlib.pyplot as plt\n",
    "plt.plot(hist.history[\"loss\"], label=\"loss\")\n",
    "plt.plot(hist.history[\"accuracy\"], label=\"accuracy\")\n",
    "plt.legend()"
   ]
  },
  {
   "cell_type": "code",
   "execution_count": 65,
   "id": "9ade0a33",
   "metadata": {},
   "outputs": [
    {
     "name": "stdout",
     "output_type": "stream",
     "text": [
      "4/4 [==============================] - 0s 2ms/step - loss: 24.1971 - mae: 3.1940\n"
     ]
    },
    {
     "data": {
      "text/plain": [
       "[24.197113037109375, 3.1940436363220215]"
      ]
     },
     "execution_count": 65,
     "metadata": {},
     "output_type": "execute_result"
    }
   ],
   "source": [
    "from tensorflow.keras.datasets import boston_housing\n",
    "from tensorflow.keras import models, layers\n",
    "\n",
    "(x_tr, y_tr),(x_te, y_te)= boston_housing.load_data()\n",
    "\n",
    "# 표준화\n",
    "mean = x_tr.mean(axis=0)\n",
    "x_tr -= mean\n",
    "std = x_tr.std(axis=0)\n",
    "x_tr/=std\n",
    "\n",
    "x_te -=mean\n",
    "x_te /= std\n",
    "\n",
    "model= models.Sequential()\n",
    "model.add(layers.Dense(64,activation=\"relu\",input_shape=(x_tr.shape[1],)))\n",
    "model.add(layers.Dense(64,activation=\"relu\"))\n",
    "model.add(layers.Dense(1))\n",
    "\n",
    "model.compile(optimizer=\"rmsprop\", loss=\"mse\", metrics=[\"mae\"])\n",
    "\n",
    "# validation 훈련데이터의 일부분을 테스트 데이터로 사용하는 배율\n",
    "hist = model.fit(x_tr, y_tr, epochs=50, batch_size=50,validation_split=0.2,\n",
    "                verbose=0)\n",
    "model.evaluate(x_te, y_te)"
   ]
  }
 ],
 "metadata": {
  "kernelspec": {
   "display_name": "Python 3 (ipykernel)",
   "language": "python",
   "name": "python3"
  },
  "language_info": {
   "codemirror_mode": {
    "name": "ipython",
    "version": 3
   },
   "file_extension": ".py",
   "mimetype": "text/x-python",
   "name": "python",
   "nbconvert_exporter": "python",
   "pygments_lexer": "ipython3",
   "version": "3.9.7"
  }
 },
 "nbformat": 4,
 "nbformat_minor": 5
}
