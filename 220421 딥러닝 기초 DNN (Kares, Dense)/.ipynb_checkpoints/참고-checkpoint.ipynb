{
 "cells": [
  {
   "cell_type": "markdown",
   "id": "CEAqQ6B16yls",
   "metadata": {
    "id": "CEAqQ6B16yls",
    "papermill": {
     "duration": 0.030473,
     "end_time": "2021-05-10T20:06:00.178332",
     "exception": false,
     "start_time": "2021-05-10T20:06:00.147859",
     "status": "completed"
    },
    "tags": []
   },
   "source": [
    "# 캘리포니아 주택 가격 예측\n",
    "| 변수명 | 설명 | 데이터타입 |\n",
    "|----------|------------|-----|\n",
    "| longitude| 경도\t| Continuous |\n",
    "| latitude | 위도   | Continuous |\n",
    "| housingmedianage | 주택나이(중앙값) | Continuous |\n",
    "| total_rooms | 전체 방 수 | Continuous |\n",
    "| total_bedrooms | 전체 침실 수 | Continuous |\n",
    "| population | 인구 | Continuous |\n",
    "| households | 세대 수 | Continuous |\n",
    "| median_income | 소득(중앙값) | Continuous |\n",
    "| **medianhousevalue** | 주택 가치(중앙값) | Continuous |\n",
    "| ocean_proximity | 바다 근접도 | Categorical |"
   ]
  },
  {
   "cell_type": "code",
   "execution_count": null,
   "id": "9eJWYPYX6ylu",
   "metadata": {
    "id": "9eJWYPYX6ylu"
   },
   "outputs": [],
   "source": [
    "# 모듈 불러오기\n",
    "import numpy as np\n",
    "import pandas as pd\n",
    "import matplotlib.pyplot as plt\n",
    "import seaborn as sns\n",
    "import warnings\n",
    "warnings.filterwarnings('ignore') # 경고창 무시"
   ]
  },
  {
   "cell_type": "code",
   "execution_count": null,
   "id": "-9l2ogqV6ylu",
   "metadata": {
    "_kg_hide-input": true,
    "colab": {
     "base_uri": "https://localhost:8080/",
     "height": 487
    },
    "execution": {
     "iopub.execute_input": "2021-05-10T20:06:02.203911Z",
     "iopub.status.busy": "2021-05-10T20:06:02.203130Z",
     "iopub.status.idle": "2021-05-10T20:06:02.275488Z",
     "shell.execute_reply": "2021-05-10T20:06:02.275965Z"
    },
    "executionInfo": {
     "elapsed": 540,
     "status": "ok",
     "timestamp": 1648013521356,
     "user": {
      "displayName": "­박건우",
      "photoUrl": "https://lh3.googleusercontent.com/a-/AOh14GgkzHxU40PT8D263sWDJkdWREc2VjfSWthm9fa_=s64",
      "userId": "05168116895659168000"
     },
     "user_tz": -540
    },
    "id": "-9l2ogqV6ylu",
    "jupyter": {
     "outputs_hidden": false
    },
    "outputId": "a6c262ef-20c5-4e24-82b1-9cca7c893013",
    "papermill": {
     "duration": 0.109409,
     "end_time": "2021-05-10T20:06:02.276149",
     "exception": false,
     "start_time": "2021-05-10T20:06:02.166740",
     "status": "completed"
    },
    "pycharm": {
     "name": "#%%\n"
    },
    "tags": []
   },
   "outputs": [
    {
     "data": {
      "text/html": [
       "\n",
       "  <div id=\"df-9c1eb23f-c2af-4d56-9247-154784cf3075\">\n",
       "    <div class=\"colab-df-container\">\n",
       "      <div>\n",
       "<style scoped>\n",
       "    .dataframe tbody tr th:only-of-type {\n",
       "        vertical-align: middle;\n",
       "    }\n",
       "\n",
       "    .dataframe tbody tr th {\n",
       "        vertical-align: top;\n",
       "    }\n",
       "\n",
       "    .dataframe thead th {\n",
       "        text-align: right;\n",
       "    }\n",
       "</style>\n",
       "<table border=\"1\" class=\"dataframe\">\n",
       "  <thead>\n",
       "    <tr style=\"text-align: right;\">\n",
       "      <th></th>\n",
       "      <th>longitude</th>\n",
       "      <th>latitude</th>\n",
       "      <th>housing_median_age</th>\n",
       "      <th>total_rooms</th>\n",
       "      <th>total_bedrooms</th>\n",
       "      <th>population</th>\n",
       "      <th>households</th>\n",
       "      <th>median_income</th>\n",
       "      <th>median_house_value</th>\n",
       "      <th>ocean_proximity</th>\n",
       "    </tr>\n",
       "  </thead>\n",
       "  <tbody>\n",
       "    <tr>\n",
       "      <th>0</th>\n",
       "      <td>-122.23</td>\n",
       "      <td>37.88</td>\n",
       "      <td>41.0</td>\n",
       "      <td>880.0</td>\n",
       "      <td>129.0</td>\n",
       "      <td>322.0</td>\n",
       "      <td>126.0</td>\n",
       "      <td>8.3252</td>\n",
       "      <td>452600.0</td>\n",
       "      <td>NEAR BAY</td>\n",
       "    </tr>\n",
       "    <tr>\n",
       "      <th>1</th>\n",
       "      <td>-122.22</td>\n",
       "      <td>37.86</td>\n",
       "      <td>21.0</td>\n",
       "      <td>7099.0</td>\n",
       "      <td>1106.0</td>\n",
       "      <td>2401.0</td>\n",
       "      <td>1138.0</td>\n",
       "      <td>8.3014</td>\n",
       "      <td>358500.0</td>\n",
       "      <td>NEAR BAY</td>\n",
       "    </tr>\n",
       "    <tr>\n",
       "      <th>2</th>\n",
       "      <td>-122.24</td>\n",
       "      <td>37.85</td>\n",
       "      <td>52.0</td>\n",
       "      <td>1467.0</td>\n",
       "      <td>190.0</td>\n",
       "      <td>496.0</td>\n",
       "      <td>177.0</td>\n",
       "      <td>7.2574</td>\n",
       "      <td>352100.0</td>\n",
       "      <td>NEAR BAY</td>\n",
       "    </tr>\n",
       "    <tr>\n",
       "      <th>3</th>\n",
       "      <td>-122.25</td>\n",
       "      <td>37.85</td>\n",
       "      <td>52.0</td>\n",
       "      <td>1274.0</td>\n",
       "      <td>235.0</td>\n",
       "      <td>558.0</td>\n",
       "      <td>219.0</td>\n",
       "      <td>5.6431</td>\n",
       "      <td>341300.0</td>\n",
       "      <td>NEAR BAY</td>\n",
       "    </tr>\n",
       "    <tr>\n",
       "      <th>4</th>\n",
       "      <td>-122.25</td>\n",
       "      <td>37.85</td>\n",
       "      <td>52.0</td>\n",
       "      <td>1627.0</td>\n",
       "      <td>280.0</td>\n",
       "      <td>565.0</td>\n",
       "      <td>259.0</td>\n",
       "      <td>3.8462</td>\n",
       "      <td>342200.0</td>\n",
       "      <td>NEAR BAY</td>\n",
       "    </tr>\n",
       "    <tr>\n",
       "      <th>...</th>\n",
       "      <td>...</td>\n",
       "      <td>...</td>\n",
       "      <td>...</td>\n",
       "      <td>...</td>\n",
       "      <td>...</td>\n",
       "      <td>...</td>\n",
       "      <td>...</td>\n",
       "      <td>...</td>\n",
       "      <td>...</td>\n",
       "      <td>...</td>\n",
       "    </tr>\n",
       "    <tr>\n",
       "      <th>20635</th>\n",
       "      <td>-121.09</td>\n",
       "      <td>39.48</td>\n",
       "      <td>25.0</td>\n",
       "      <td>1665.0</td>\n",
       "      <td>374.0</td>\n",
       "      <td>845.0</td>\n",
       "      <td>330.0</td>\n",
       "      <td>1.5603</td>\n",
       "      <td>78100.0</td>\n",
       "      <td>INLAND</td>\n",
       "    </tr>\n",
       "    <tr>\n",
       "      <th>20636</th>\n",
       "      <td>-121.21</td>\n",
       "      <td>39.49</td>\n",
       "      <td>18.0</td>\n",
       "      <td>697.0</td>\n",
       "      <td>150.0</td>\n",
       "      <td>356.0</td>\n",
       "      <td>114.0</td>\n",
       "      <td>2.5568</td>\n",
       "      <td>77100.0</td>\n",
       "      <td>INLAND</td>\n",
       "    </tr>\n",
       "    <tr>\n",
       "      <th>20637</th>\n",
       "      <td>-121.22</td>\n",
       "      <td>39.43</td>\n",
       "      <td>17.0</td>\n",
       "      <td>2254.0</td>\n",
       "      <td>485.0</td>\n",
       "      <td>1007.0</td>\n",
       "      <td>433.0</td>\n",
       "      <td>1.7000</td>\n",
       "      <td>92300.0</td>\n",
       "      <td>INLAND</td>\n",
       "    </tr>\n",
       "    <tr>\n",
       "      <th>20638</th>\n",
       "      <td>-121.32</td>\n",
       "      <td>39.43</td>\n",
       "      <td>18.0</td>\n",
       "      <td>1860.0</td>\n",
       "      <td>409.0</td>\n",
       "      <td>741.0</td>\n",
       "      <td>349.0</td>\n",
       "      <td>1.8672</td>\n",
       "      <td>84700.0</td>\n",
       "      <td>INLAND</td>\n",
       "    </tr>\n",
       "    <tr>\n",
       "      <th>20639</th>\n",
       "      <td>-121.24</td>\n",
       "      <td>39.37</td>\n",
       "      <td>16.0</td>\n",
       "      <td>2785.0</td>\n",
       "      <td>616.0</td>\n",
       "      <td>1387.0</td>\n",
       "      <td>530.0</td>\n",
       "      <td>2.3886</td>\n",
       "      <td>89400.0</td>\n",
       "      <td>INLAND</td>\n",
       "    </tr>\n",
       "  </tbody>\n",
       "</table>\n",
       "<p>20640 rows × 10 columns</p>\n",
       "</div>\n",
       "      <button class=\"colab-df-convert\" onclick=\"convertToInteractive('df-9c1eb23f-c2af-4d56-9247-154784cf3075')\"\n",
       "              title=\"Convert this dataframe to an interactive table.\"\n",
       "              style=\"display:none;\">\n",
       "        \n",
       "  <svg xmlns=\"http://www.w3.org/2000/svg\" height=\"24px\"viewBox=\"0 0 24 24\"\n",
       "       width=\"24px\">\n",
       "    <path d=\"M0 0h24v24H0V0z\" fill=\"none\"/>\n",
       "    <path d=\"M18.56 5.44l.94 2.06.94-2.06 2.06-.94-2.06-.94-.94-2.06-.94 2.06-2.06.94zm-11 1L8.5 8.5l.94-2.06 2.06-.94-2.06-.94L8.5 2.5l-.94 2.06-2.06.94zm10 10l.94 2.06.94-2.06 2.06-.94-2.06-.94-.94-2.06-.94 2.06-2.06.94z\"/><path d=\"M17.41 7.96l-1.37-1.37c-.4-.4-.92-.59-1.43-.59-.52 0-1.04.2-1.43.59L10.3 9.45l-7.72 7.72c-.78.78-.78 2.05 0 2.83L4 21.41c.39.39.9.59 1.41.59.51 0 1.02-.2 1.41-.59l7.78-7.78 2.81-2.81c.8-.78.8-2.07 0-2.86zM5.41 20L4 18.59l7.72-7.72 1.47 1.35L5.41 20z\"/>\n",
       "  </svg>\n",
       "      </button>\n",
       "      \n",
       "  <style>\n",
       "    .colab-df-container {\n",
       "      display:flex;\n",
       "      flex-wrap:wrap;\n",
       "      gap: 12px;\n",
       "    }\n",
       "\n",
       "    .colab-df-convert {\n",
       "      background-color: #E8F0FE;\n",
       "      border: none;\n",
       "      border-radius: 50%;\n",
       "      cursor: pointer;\n",
       "      display: none;\n",
       "      fill: #1967D2;\n",
       "      height: 32px;\n",
       "      padding: 0 0 0 0;\n",
       "      width: 32px;\n",
       "    }\n",
       "\n",
       "    .colab-df-convert:hover {\n",
       "      background-color: #E2EBFA;\n",
       "      box-shadow: 0px 1px 2px rgba(60, 64, 67, 0.3), 0px 1px 3px 1px rgba(60, 64, 67, 0.15);\n",
       "      fill: #174EA6;\n",
       "    }\n",
       "\n",
       "    [theme=dark] .colab-df-convert {\n",
       "      background-color: #3B4455;\n",
       "      fill: #D2E3FC;\n",
       "    }\n",
       "\n",
       "    [theme=dark] .colab-df-convert:hover {\n",
       "      background-color: #434B5C;\n",
       "      box-shadow: 0px 1px 3px 1px rgba(0, 0, 0, 0.15);\n",
       "      filter: drop-shadow(0px 1px 2px rgba(0, 0, 0, 0.3));\n",
       "      fill: #FFFFFF;\n",
       "    }\n",
       "  </style>\n",
       "\n",
       "      <script>\n",
       "        const buttonEl =\n",
       "          document.querySelector('#df-9c1eb23f-c2af-4d56-9247-154784cf3075 button.colab-df-convert');\n",
       "        buttonEl.style.display =\n",
       "          google.colab.kernel.accessAllowed ? 'block' : 'none';\n",
       "\n",
       "        async function convertToInteractive(key) {\n",
       "          const element = document.querySelector('#df-9c1eb23f-c2af-4d56-9247-154784cf3075');\n",
       "          const dataTable =\n",
       "            await google.colab.kernel.invokeFunction('convertToInteractive',\n",
       "                                                     [key], {});\n",
       "          if (!dataTable) return;\n",
       "\n",
       "          const docLinkHtml = 'Like what you see? Visit the ' +\n",
       "            '<a target=\"_blank\" href=https://colab.research.google.com/notebooks/data_table.ipynb>data table notebook</a>'\n",
       "            + ' to learn more about interactive tables.';\n",
       "          element.innerHTML = '';\n",
       "          dataTable['output_type'] = 'display_data';\n",
       "          await google.colab.output.renderOutput(dataTable, element);\n",
       "          const docLink = document.createElement('div');\n",
       "          docLink.innerHTML = docLinkHtml;\n",
       "          element.appendChild(docLink);\n",
       "        }\n",
       "      </script>\n",
       "    </div>\n",
       "  </div>\n",
       "  "
      ],
      "text/plain": [
       "       longitude  latitude  housing_median_age  total_rooms  total_bedrooms  \\\n",
       "0        -122.23     37.88                41.0        880.0           129.0   \n",
       "1        -122.22     37.86                21.0       7099.0          1106.0   \n",
       "2        -122.24     37.85                52.0       1467.0           190.0   \n",
       "3        -122.25     37.85                52.0       1274.0           235.0   \n",
       "4        -122.25     37.85                52.0       1627.0           280.0   \n",
       "...          ...       ...                 ...          ...             ...   \n",
       "20635    -121.09     39.48                25.0       1665.0           374.0   \n",
       "20636    -121.21     39.49                18.0        697.0           150.0   \n",
       "20637    -121.22     39.43                17.0       2254.0           485.0   \n",
       "20638    -121.32     39.43                18.0       1860.0           409.0   \n",
       "20639    -121.24     39.37                16.0       2785.0           616.0   \n",
       "\n",
       "       population  households  median_income  median_house_value  \\\n",
       "0           322.0       126.0         8.3252            452600.0   \n",
       "1          2401.0      1138.0         8.3014            358500.0   \n",
       "2           496.0       177.0         7.2574            352100.0   \n",
       "3           558.0       219.0         5.6431            341300.0   \n",
       "4           565.0       259.0         3.8462            342200.0   \n",
       "...           ...         ...            ...                 ...   \n",
       "20635       845.0       330.0         1.5603             78100.0   \n",
       "20636       356.0       114.0         2.5568             77100.0   \n",
       "20637      1007.0       433.0         1.7000             92300.0   \n",
       "20638       741.0       349.0         1.8672             84700.0   \n",
       "20639      1387.0       530.0         2.3886             89400.0   \n",
       "\n",
       "      ocean_proximity  \n",
       "0            NEAR BAY  \n",
       "1            NEAR BAY  \n",
       "2            NEAR BAY  \n",
       "3            NEAR BAY  \n",
       "4            NEAR BAY  \n",
       "...               ...  \n",
       "20635          INLAND  \n",
       "20636          INLAND  \n",
       "20637          INLAND  \n",
       "20638          INLAND  \n",
       "20639          INLAND  \n",
       "\n",
       "[20640 rows x 10 columns]"
      ]
     },
     "execution_count": 2,
     "metadata": {},
     "output_type": "execute_result"
    }
   ],
   "source": [
    "# housing.csv를 읽어 df에 저장하세요.\n",
    "df = \n",
    "df"
   ]
  },
  {
   "cell_type": "code",
   "execution_count": null,
   "id": "TZ2E7Nrk6ylu",
   "metadata": {
    "_kg_hide-input": true,
    "colab": {
     "base_uri": "https://localhost:8080/",
     "height": 741
    },
    "execution": {
     "iopub.execute_input": "2021-05-10T20:06:02.413739Z",
     "iopub.status.busy": "2021-05-10T20:06:02.412941Z",
     "iopub.status.idle": "2021-05-10T20:06:02.560640Z",
     "shell.execute_reply": "2021-05-10T20:06:02.561147Z"
    },
    "executionInfo": {
     "elapsed": 33,
     "status": "ok",
     "timestamp": 1648013521361,
     "user": {
      "displayName": "­박건우",
      "photoUrl": "https://lh3.googleusercontent.com/a-/AOh14GgkzHxU40PT8D263sWDJkdWREc2VjfSWthm9fa_=s64",
      "userId": "05168116895659168000"
     },
     "user_tz": -540
    },
    "id": "TZ2E7Nrk6ylu",
    "jupyter": {
     "outputs_hidden": false
    },
    "outputId": "c7a1df76-f1c3-4c88-9f6b-50a4d34b44b9",
    "papermill": {
     "duration": 0.190501,
     "end_time": "2021-05-10T20:06:02.561311",
     "exception": false,
     "start_time": "2021-05-10T20:06:02.370810",
     "status": "completed"
    },
    "pycharm": {
     "name": "#%%\n"
    },
    "tags": []
   },
   "outputs": [
    {
     "data": {
      "text/html": [
       "\n",
       "  <div id=\"df-3b0ea731-f01c-43c9-a8b7-3cb760b69ce8\">\n",
       "    <div class=\"colab-df-container\">\n",
       "      <div>\n",
       "<style scoped>\n",
       "    .dataframe tbody tr th:only-of-type {\n",
       "        vertical-align: middle;\n",
       "    }\n",
       "\n",
       "    .dataframe tbody tr th {\n",
       "        vertical-align: top;\n",
       "    }\n",
       "\n",
       "    .dataframe thead th {\n",
       "        text-align: right;\n",
       "    }\n",
       "</style>\n",
       "<table border=\"1\" class=\"dataframe\">\n",
       "  <thead>\n",
       "    <tr style=\"text-align: right;\">\n",
       "      <th></th>\n",
       "      <th>longitude</th>\n",
       "      <th>latitude</th>\n",
       "      <th>housing_median_age</th>\n",
       "      <th>total_rooms</th>\n",
       "      <th>total_bedrooms</th>\n",
       "      <th>population</th>\n",
       "      <th>households</th>\n",
       "      <th>median_income</th>\n",
       "      <th>median_house_value</th>\n",
       "      <th>ocean_proximity</th>\n",
       "    </tr>\n",
       "  </thead>\n",
       "  <tbody>\n",
       "    <tr>\n",
       "      <th>0</th>\n",
       "      <td>-122.23</td>\n",
       "      <td>37.88</td>\n",
       "      <td>41.0</td>\n",
       "      <td>880.0</td>\n",
       "      <td>129.0</td>\n",
       "      <td>322.0</td>\n",
       "      <td>126.0</td>\n",
       "      <td>8.3252</td>\n",
       "      <td>452600.0</td>\n",
       "      <td>NEAR BAY</td>\n",
       "    </tr>\n",
       "    <tr>\n",
       "      <th>1</th>\n",
       "      <td>-122.22</td>\n",
       "      <td>37.86</td>\n",
       "      <td>21.0</td>\n",
       "      <td>7099.0</td>\n",
       "      <td>1106.0</td>\n",
       "      <td>2401.0</td>\n",
       "      <td>1138.0</td>\n",
       "      <td>8.3014</td>\n",
       "      <td>358500.0</td>\n",
       "      <td>NEAR BAY</td>\n",
       "    </tr>\n",
       "    <tr>\n",
       "      <th>2</th>\n",
       "      <td>-122.24</td>\n",
       "      <td>37.85</td>\n",
       "      <td>52.0</td>\n",
       "      <td>1467.0</td>\n",
       "      <td>190.0</td>\n",
       "      <td>496.0</td>\n",
       "      <td>177.0</td>\n",
       "      <td>7.2574</td>\n",
       "      <td>352100.0</td>\n",
       "      <td>NEAR BAY</td>\n",
       "    </tr>\n",
       "    <tr>\n",
       "      <th>3</th>\n",
       "      <td>-122.25</td>\n",
       "      <td>37.85</td>\n",
       "      <td>52.0</td>\n",
       "      <td>1274.0</td>\n",
       "      <td>235.0</td>\n",
       "      <td>558.0</td>\n",
       "      <td>219.0</td>\n",
       "      <td>5.6431</td>\n",
       "      <td>341300.0</td>\n",
       "      <td>NEAR BAY</td>\n",
       "    </tr>\n",
       "    <tr>\n",
       "      <th>4</th>\n",
       "      <td>-122.25</td>\n",
       "      <td>37.85</td>\n",
       "      <td>52.0</td>\n",
       "      <td>1627.0</td>\n",
       "      <td>280.0</td>\n",
       "      <td>565.0</td>\n",
       "      <td>259.0</td>\n",
       "      <td>3.8462</td>\n",
       "      <td>342200.0</td>\n",
       "      <td>NEAR BAY</td>\n",
       "    </tr>\n",
       "    <tr>\n",
       "      <th>5</th>\n",
       "      <td>-122.25</td>\n",
       "      <td>37.85</td>\n",
       "      <td>52.0</td>\n",
       "      <td>919.0</td>\n",
       "      <td>213.0</td>\n",
       "      <td>413.0</td>\n",
       "      <td>193.0</td>\n",
       "      <td>4.0368</td>\n",
       "      <td>269700.0</td>\n",
       "      <td>NEAR BAY</td>\n",
       "    </tr>\n",
       "    <tr>\n",
       "      <th>6</th>\n",
       "      <td>-122.25</td>\n",
       "      <td>37.84</td>\n",
       "      <td>52.0</td>\n",
       "      <td>2535.0</td>\n",
       "      <td>489.0</td>\n",
       "      <td>1094.0</td>\n",
       "      <td>514.0</td>\n",
       "      <td>3.6591</td>\n",
       "      <td>299200.0</td>\n",
       "      <td>NEAR BAY</td>\n",
       "    </tr>\n",
       "    <tr>\n",
       "      <th>7</th>\n",
       "      <td>-122.25</td>\n",
       "      <td>37.84</td>\n",
       "      <td>52.0</td>\n",
       "      <td>3104.0</td>\n",
       "      <td>687.0</td>\n",
       "      <td>1157.0</td>\n",
       "      <td>647.0</td>\n",
       "      <td>3.1200</td>\n",
       "      <td>241400.0</td>\n",
       "      <td>NEAR BAY</td>\n",
       "    </tr>\n",
       "    <tr>\n",
       "      <th>8</th>\n",
       "      <td>-122.26</td>\n",
       "      <td>37.84</td>\n",
       "      <td>42.0</td>\n",
       "      <td>2555.0</td>\n",
       "      <td>665.0</td>\n",
       "      <td>1206.0</td>\n",
       "      <td>595.0</td>\n",
       "      <td>2.0804</td>\n",
       "      <td>226700.0</td>\n",
       "      <td>NEAR BAY</td>\n",
       "    </tr>\n",
       "    <tr>\n",
       "      <th>9</th>\n",
       "      <td>-122.25</td>\n",
       "      <td>37.84</td>\n",
       "      <td>52.0</td>\n",
       "      <td>3549.0</td>\n",
       "      <td>707.0</td>\n",
       "      <td>1551.0</td>\n",
       "      <td>714.0</td>\n",
       "      <td>3.6912</td>\n",
       "      <td>261100.0</td>\n",
       "      <td>NEAR BAY</td>\n",
       "    </tr>\n",
       "    <tr>\n",
       "      <th>10</th>\n",
       "      <td>-122.26</td>\n",
       "      <td>37.85</td>\n",
       "      <td>52.0</td>\n",
       "      <td>2202.0</td>\n",
       "      <td>434.0</td>\n",
       "      <td>910.0</td>\n",
       "      <td>402.0</td>\n",
       "      <td>3.2031</td>\n",
       "      <td>281500.0</td>\n",
       "      <td>NEAR BAY</td>\n",
       "    </tr>\n",
       "    <tr>\n",
       "      <th>11</th>\n",
       "      <td>-122.26</td>\n",
       "      <td>37.85</td>\n",
       "      <td>52.0</td>\n",
       "      <td>3503.0</td>\n",
       "      <td>752.0</td>\n",
       "      <td>1504.0</td>\n",
       "      <td>734.0</td>\n",
       "      <td>3.2705</td>\n",
       "      <td>241800.0</td>\n",
       "      <td>NEAR BAY</td>\n",
       "    </tr>\n",
       "    <tr>\n",
       "      <th>12</th>\n",
       "      <td>-122.26</td>\n",
       "      <td>37.85</td>\n",
       "      <td>52.0</td>\n",
       "      <td>2491.0</td>\n",
       "      <td>474.0</td>\n",
       "      <td>1098.0</td>\n",
       "      <td>468.0</td>\n",
       "      <td>3.0750</td>\n",
       "      <td>213500.0</td>\n",
       "      <td>NEAR BAY</td>\n",
       "    </tr>\n",
       "    <tr>\n",
       "      <th>13</th>\n",
       "      <td>-122.26</td>\n",
       "      <td>37.84</td>\n",
       "      <td>52.0</td>\n",
       "      <td>696.0</td>\n",
       "      <td>191.0</td>\n",
       "      <td>345.0</td>\n",
       "      <td>174.0</td>\n",
       "      <td>2.6736</td>\n",
       "      <td>191300.0</td>\n",
       "      <td>NEAR BAY</td>\n",
       "    </tr>\n",
       "    <tr>\n",
       "      <th>14</th>\n",
       "      <td>-122.26</td>\n",
       "      <td>37.85</td>\n",
       "      <td>52.0</td>\n",
       "      <td>2643.0</td>\n",
       "      <td>626.0</td>\n",
       "      <td>1212.0</td>\n",
       "      <td>620.0</td>\n",
       "      <td>1.9167</td>\n",
       "      <td>159200.0</td>\n",
       "      <td>NEAR BAY</td>\n",
       "    </tr>\n",
       "    <tr>\n",
       "      <th>15</th>\n",
       "      <td>-122.26</td>\n",
       "      <td>37.85</td>\n",
       "      <td>50.0</td>\n",
       "      <td>1120.0</td>\n",
       "      <td>283.0</td>\n",
       "      <td>697.0</td>\n",
       "      <td>264.0</td>\n",
       "      <td>2.1250</td>\n",
       "      <td>140000.0</td>\n",
       "      <td>NEAR BAY</td>\n",
       "    </tr>\n",
       "    <tr>\n",
       "      <th>16</th>\n",
       "      <td>-122.27</td>\n",
       "      <td>37.85</td>\n",
       "      <td>52.0</td>\n",
       "      <td>1966.0</td>\n",
       "      <td>347.0</td>\n",
       "      <td>793.0</td>\n",
       "      <td>331.0</td>\n",
       "      <td>2.7750</td>\n",
       "      <td>152500.0</td>\n",
       "      <td>NEAR BAY</td>\n",
       "    </tr>\n",
       "    <tr>\n",
       "      <th>17</th>\n",
       "      <td>-122.27</td>\n",
       "      <td>37.85</td>\n",
       "      <td>52.0</td>\n",
       "      <td>1228.0</td>\n",
       "      <td>293.0</td>\n",
       "      <td>648.0</td>\n",
       "      <td>303.0</td>\n",
       "      <td>2.1202</td>\n",
       "      <td>155500.0</td>\n",
       "      <td>NEAR BAY</td>\n",
       "    </tr>\n",
       "    <tr>\n",
       "      <th>18</th>\n",
       "      <td>-122.26</td>\n",
       "      <td>37.84</td>\n",
       "      <td>50.0</td>\n",
       "      <td>2239.0</td>\n",
       "      <td>455.0</td>\n",
       "      <td>990.0</td>\n",
       "      <td>419.0</td>\n",
       "      <td>1.9911</td>\n",
       "      <td>158700.0</td>\n",
       "      <td>NEAR BAY</td>\n",
       "    </tr>\n",
       "    <tr>\n",
       "      <th>19</th>\n",
       "      <td>-122.27</td>\n",
       "      <td>37.84</td>\n",
       "      <td>52.0</td>\n",
       "      <td>1503.0</td>\n",
       "      <td>298.0</td>\n",
       "      <td>690.0</td>\n",
       "      <td>275.0</td>\n",
       "      <td>2.6033</td>\n",
       "      <td>162900.0</td>\n",
       "      <td>NEAR BAY</td>\n",
       "    </tr>\n",
       "  </tbody>\n",
       "</table>\n",
       "</div>\n",
       "      <button class=\"colab-df-convert\" onclick=\"convertToInteractive('df-3b0ea731-f01c-43c9-a8b7-3cb760b69ce8')\"\n",
       "              title=\"Convert this dataframe to an interactive table.\"\n",
       "              style=\"display:none;\">\n",
       "        \n",
       "  <svg xmlns=\"http://www.w3.org/2000/svg\" height=\"24px\"viewBox=\"0 0 24 24\"\n",
       "       width=\"24px\">\n",
       "    <path d=\"M0 0h24v24H0V0z\" fill=\"none\"/>\n",
       "    <path d=\"M18.56 5.44l.94 2.06.94-2.06 2.06-.94-2.06-.94-.94-2.06-.94 2.06-2.06.94zm-11 1L8.5 8.5l.94-2.06 2.06-.94-2.06-.94L8.5 2.5l-.94 2.06-2.06.94zm10 10l.94 2.06.94-2.06 2.06-.94-2.06-.94-.94-2.06-.94 2.06-2.06.94z\"/><path d=\"M17.41 7.96l-1.37-1.37c-.4-.4-.92-.59-1.43-.59-.52 0-1.04.2-1.43.59L10.3 9.45l-7.72 7.72c-.78.78-.78 2.05 0 2.83L4 21.41c.39.39.9.59 1.41.59.51 0 1.02-.2 1.41-.59l7.78-7.78 2.81-2.81c.8-.78.8-2.07 0-2.86zM5.41 20L4 18.59l7.72-7.72 1.47 1.35L5.41 20z\"/>\n",
       "  </svg>\n",
       "      </button>\n",
       "      \n",
       "  <style>\n",
       "    .colab-df-container {\n",
       "      display:flex;\n",
       "      flex-wrap:wrap;\n",
       "      gap: 12px;\n",
       "    }\n",
       "\n",
       "    .colab-df-convert {\n",
       "      background-color: #E8F0FE;\n",
       "      border: none;\n",
       "      border-radius: 50%;\n",
       "      cursor: pointer;\n",
       "      display: none;\n",
       "      fill: #1967D2;\n",
       "      height: 32px;\n",
       "      padding: 0 0 0 0;\n",
       "      width: 32px;\n",
       "    }\n",
       "\n",
       "    .colab-df-convert:hover {\n",
       "      background-color: #E2EBFA;\n",
       "      box-shadow: 0px 1px 2px rgba(60, 64, 67, 0.3), 0px 1px 3px 1px rgba(60, 64, 67, 0.15);\n",
       "      fill: #174EA6;\n",
       "    }\n",
       "\n",
       "    [theme=dark] .colab-df-convert {\n",
       "      background-color: #3B4455;\n",
       "      fill: #D2E3FC;\n",
       "    }\n",
       "\n",
       "    [theme=dark] .colab-df-convert:hover {\n",
       "      background-color: #434B5C;\n",
       "      box-shadow: 0px 1px 3px 1px rgba(0, 0, 0, 0.15);\n",
       "      filter: drop-shadow(0px 1px 2px rgba(0, 0, 0, 0.3));\n",
       "      fill: #FFFFFF;\n",
       "    }\n",
       "  </style>\n",
       "\n",
       "      <script>\n",
       "        const buttonEl =\n",
       "          document.querySelector('#df-3b0ea731-f01c-43c9-a8b7-3cb760b69ce8 button.colab-df-convert');\n",
       "        buttonEl.style.display =\n",
       "          google.colab.kernel.accessAllowed ? 'block' : 'none';\n",
       "\n",
       "        async function convertToInteractive(key) {\n",
       "          const element = document.querySelector('#df-3b0ea731-f01c-43c9-a8b7-3cb760b69ce8');\n",
       "          const dataTable =\n",
       "            await google.colab.kernel.invokeFunction('convertToInteractive',\n",
       "                                                     [key], {});\n",
       "          if (!dataTable) return;\n",
       "\n",
       "          const docLinkHtml = 'Like what you see? Visit the ' +\n",
       "            '<a target=\"_blank\" href=https://colab.research.google.com/notebooks/data_table.ipynb>data table notebook</a>'\n",
       "            + ' to learn more about interactive tables.';\n",
       "          element.innerHTML = '';\n",
       "          dataTable['output_type'] = 'display_data';\n",
       "          await google.colab.output.renderOutput(dataTable, element);\n",
       "          const docLink = document.createElement('div');\n",
       "          docLink.innerHTML = docLinkHtml;\n",
       "          element.appendChild(docLink);\n",
       "        }\n",
       "      </script>\n",
       "    </div>\n",
       "  </div>\n",
       "  "
      ],
      "text/plain": [
       "    longitude  latitude  housing_median_age  total_rooms  total_bedrooms  \\\n",
       "0     -122.23     37.88                41.0        880.0           129.0   \n",
       "1     -122.22     37.86                21.0       7099.0          1106.0   \n",
       "2     -122.24     37.85                52.0       1467.0           190.0   \n",
       "3     -122.25     37.85                52.0       1274.0           235.0   \n",
       "4     -122.25     37.85                52.0       1627.0           280.0   \n",
       "5     -122.25     37.85                52.0        919.0           213.0   \n",
       "6     -122.25     37.84                52.0       2535.0           489.0   \n",
       "7     -122.25     37.84                52.0       3104.0           687.0   \n",
       "8     -122.26     37.84                42.0       2555.0           665.0   \n",
       "9     -122.25     37.84                52.0       3549.0           707.0   \n",
       "10    -122.26     37.85                52.0       2202.0           434.0   \n",
       "11    -122.26     37.85                52.0       3503.0           752.0   \n",
       "12    -122.26     37.85                52.0       2491.0           474.0   \n",
       "13    -122.26     37.84                52.0        696.0           191.0   \n",
       "14    -122.26     37.85                52.0       2643.0           626.0   \n",
       "15    -122.26     37.85                50.0       1120.0           283.0   \n",
       "16    -122.27     37.85                52.0       1966.0           347.0   \n",
       "17    -122.27     37.85                52.0       1228.0           293.0   \n",
       "18    -122.26     37.84                50.0       2239.0           455.0   \n",
       "19    -122.27     37.84                52.0       1503.0           298.0   \n",
       "\n",
       "    population  households  median_income  median_house_value ocean_proximity  \n",
       "0        322.0       126.0         8.3252            452600.0        NEAR BAY  \n",
       "1       2401.0      1138.0         8.3014            358500.0        NEAR BAY  \n",
       "2        496.0       177.0         7.2574            352100.0        NEAR BAY  \n",
       "3        558.0       219.0         5.6431            341300.0        NEAR BAY  \n",
       "4        565.0       259.0         3.8462            342200.0        NEAR BAY  \n",
       "5        413.0       193.0         4.0368            269700.0        NEAR BAY  \n",
       "6       1094.0       514.0         3.6591            299200.0        NEAR BAY  \n",
       "7       1157.0       647.0         3.1200            241400.0        NEAR BAY  \n",
       "8       1206.0       595.0         2.0804            226700.0        NEAR BAY  \n",
       "9       1551.0       714.0         3.6912            261100.0        NEAR BAY  \n",
       "10       910.0       402.0         3.2031            281500.0        NEAR BAY  \n",
       "11      1504.0       734.0         3.2705            241800.0        NEAR BAY  \n",
       "12      1098.0       468.0         3.0750            213500.0        NEAR BAY  \n",
       "13       345.0       174.0         2.6736            191300.0        NEAR BAY  \n",
       "14      1212.0       620.0         1.9167            159200.0        NEAR BAY  \n",
       "15       697.0       264.0         2.1250            140000.0        NEAR BAY  \n",
       "16       793.0       331.0         2.7750            152500.0        NEAR BAY  \n",
       "17       648.0       303.0         2.1202            155500.0        NEAR BAY  \n",
       "18       990.0       419.0         1.9911            158700.0        NEAR BAY  \n",
       "19       690.0       275.0         2.6033            162900.0        NEAR BAY  "
      ]
     },
     "execution_count": 3,
     "metadata": {},
     "output_type": "execute_result"
    }
   ],
   "source": [
    "# 데이터 프레임의 상위 20개를 조회하세요.\n"
   ]
  },
  {
   "cell_type": "code",
   "execution_count": null,
   "id": "GR2BOn5i6ylv",
   "metadata": {
    "colab": {
     "base_uri": "https://localhost:8080/"
    },
    "executionInfo": {
     "elapsed": 32,
     "status": "ok",
     "timestamp": 1648013521363,
     "user": {
      "displayName": "­박건우",
      "photoUrl": "https://lh3.googleusercontent.com/a-/AOh14GgkzHxU40PT8D263sWDJkdWREc2VjfSWthm9fa_=s64",
      "userId": "05168116895659168000"
     },
     "user_tz": -540
    },
    "id": "GR2BOn5i6ylv",
    "outputId": "d4a39efc-124a-41f1-a6ae-458db1da5fcb"
   },
   "outputs": [
    {
     "data": {
      "text/plain": [
       "(20640, 10)"
      ]
     },
     "execution_count": 4,
     "metadata": {},
     "output_type": "execute_result"
    }
   ],
   "source": [
    "# 데이터 프레임의 shape을 확인하세요.\n"
   ]
  },
  {
   "cell_type": "code",
   "execution_count": null,
   "id": "adG9vVtY6ylv",
   "metadata": {
    "colab": {
     "base_uri": "https://localhost:8080/"
    },
    "executionInfo": {
     "elapsed": 30,
     "status": "ok",
     "timestamp": 1648013521365,
     "user": {
      "displayName": "­박건우",
      "photoUrl": "https://lh3.googleusercontent.com/a-/AOh14GgkzHxU40PT8D263sWDJkdWREc2VjfSWthm9fa_=s64",
      "userId": "05168116895659168000"
     },
     "user_tz": -540
    },
    "id": "adG9vVtY6ylv",
    "outputId": "6b3210d1-b9fd-4b7a-a4df-4156bd2418d1"
   },
   "outputs": [
    {
     "name": "stdout",
     "output_type": "stream",
     "text": [
      "<class 'pandas.core.frame.DataFrame'>\n",
      "RangeIndex: 20640 entries, 0 to 20639\n",
      "Data columns (total 10 columns):\n",
      " #   Column              Non-Null Count  Dtype  \n",
      "---  ------              --------------  -----  \n",
      " 0   longitude           20640 non-null  float64\n",
      " 1   latitude            20640 non-null  float64\n",
      " 2   housing_median_age  20640 non-null  float64\n",
      " 3   total_rooms         20640 non-null  float64\n",
      " 4   total_bedrooms      20433 non-null  float64\n",
      " 5   population          20640 non-null  float64\n",
      " 6   households          20640 non-null  float64\n",
      " 7   median_income       20640 non-null  float64\n",
      " 8   median_house_value  20640 non-null  float64\n",
      " 9   ocean_proximity     20640 non-null  object \n",
      "dtypes: float64(9), object(1)\n",
      "memory usage: 1.6+ MB\n"
     ]
    }
   ],
   "source": [
    "# 데이터 프레임의 정보를 확인하세요.\n"
   ]
  },
  {
   "cell_type": "code",
   "execution_count": null,
   "id": "ERt0lwaB6ylv",
   "metadata": {
    "_kg_hide-input": true,
    "colab": {
     "base_uri": "https://localhost:8080/"
    },
    "execution": {
     "iopub.execute_input": "2021-05-10T20:06:02.830255Z",
     "iopub.status.busy": "2021-05-10T20:06:02.829552Z",
     "iopub.status.idle": "2021-05-10T20:06:02.854457Z",
     "shell.execute_reply": "2021-05-10T20:06:02.853927Z"
    },
    "executionInfo": {
     "elapsed": 26,
     "status": "ok",
     "timestamp": 1648013521366,
     "user": {
      "displayName": "­박건우",
      "photoUrl": "https://lh3.googleusercontent.com/a-/AOh14GgkzHxU40PT8D263sWDJkdWREc2VjfSWthm9fa_=s64",
      "userId": "05168116895659168000"
     },
     "user_tz": -540
    },
    "id": "ERt0lwaB6ylv",
    "jupyter": {
     "outputs_hidden": false
    },
    "outputId": "c20c45fc-8da2-4d5b-82fb-7e8a4003104e",
    "papermill": {
     "duration": 0.066156,
     "end_time": "2021-05-10T20:06:02.854599",
     "exception": false,
     "start_time": "2021-05-10T20:06:02.788443",
     "status": "completed"
    },
    "pycharm": {
     "name": "#%%\n"
    },
    "tags": []
   },
   "outputs": [
    {
     "data": {
      "text/plain": [
       "longitude               0\n",
       "latitude                0\n",
       "housing_median_age      0\n",
       "total_rooms             0\n",
       "total_bedrooms        207\n",
       "population              0\n",
       "households              0\n",
       "median_income           0\n",
       "median_house_value      0\n",
       "ocean_proximity         0\n",
       "dtype: int64"
      ]
     },
     "execution_count": 6,
     "metadata": {},
     "output_type": "execute_result"
    }
   ],
   "source": [
    "# 각 컬럼별 결측치의 개수를 조회하세요.\n"
   ]
  },
  {
   "cell_type": "code",
   "execution_count": null,
   "id": "cEEfnwUJ6ylv",
   "metadata": {
    "colab": {
     "base_uri": "https://localhost:8080/"
    },
    "executionInfo": {
     "elapsed": 23,
     "status": "ok",
     "timestamp": 1648013521367,
     "user": {
      "displayName": "­박건우",
      "photoUrl": "https://lh3.googleusercontent.com/a-/AOh14GgkzHxU40PT8D263sWDJkdWREc2VjfSWthm9fa_=s64",
      "userId": "05168116895659168000"
     },
     "user_tz": -540
    },
    "id": "cEEfnwUJ6ylv",
    "outputId": "bad936ac-e63e-441f-c5ad-a5863e5651e6"
   },
   "outputs": [
    {
     "data": {
      "text/plain": [
       "longitude             0.000000\n",
       "latitude              0.000000\n",
       "housing_median_age    0.000000\n",
       "total_rooms           0.000000\n",
       "total_bedrooms        0.010029\n",
       "population            0.000000\n",
       "households            0.000000\n",
       "median_income         0.000000\n",
       "median_house_value    0.000000\n",
       "ocean_proximity       0.000000\n",
       "dtype: float64"
      ]
     },
     "execution_count": 7,
     "metadata": {},
     "output_type": "execute_result"
    }
   ],
   "source": [
    "# 각 컬럼별 결측치의 비율를 조회하세요.\n",
    "# 비율 = 결측치 / 전체 데이터\n"
   ]
  },
  {
   "cell_type": "code",
   "execution_count": null,
   "id": "Aerh6omD6ylw",
   "metadata": {
    "_kg_hide-input": true,
    "colab": {
     "base_uri": "https://localhost:8080/",
     "height": 487
    },
    "execution": {
     "iopub.execute_input": "2021-05-10T20:06:02.994392Z",
     "iopub.status.busy": "2021-05-10T20:06:02.993607Z",
     "iopub.status.idle": "2021-05-10T20:06:03.019963Z",
     "shell.execute_reply": "2021-05-10T20:06:03.020557Z"
    },
    "executionInfo": {
     "elapsed": 20,
     "status": "ok",
     "timestamp": 1648013521368,
     "user": {
      "displayName": "­박건우",
      "photoUrl": "https://lh3.googleusercontent.com/a-/AOh14GgkzHxU40PT8D263sWDJkdWREc2VjfSWthm9fa_=s64",
      "userId": "05168116895659168000"
     },
     "user_tz": -540
    },
    "id": "Aerh6omD6ylw",
    "jupyter": {
     "outputs_hidden": false
    },
    "outputId": "6d8eba63-b8ef-44c7-f3ae-44a68e35da2c",
    "papermill": {
     "duration": 0.067161,
     "end_time": "2021-05-10T20:06:03.020725",
     "exception": false,
     "start_time": "2021-05-10T20:06:02.953564",
     "status": "completed"
    },
    "pycharm": {
     "name": "#%%\n"
    },
    "tags": []
   },
   "outputs": [
    {
     "data": {
      "text/html": [
       "\n",
       "  <div id=\"df-33e5f692-84a4-4394-9cdc-53b55661bc1d\">\n",
       "    <div class=\"colab-df-container\">\n",
       "      <div>\n",
       "<style scoped>\n",
       "    .dataframe tbody tr th:only-of-type {\n",
       "        vertical-align: middle;\n",
       "    }\n",
       "\n",
       "    .dataframe tbody tr th {\n",
       "        vertical-align: top;\n",
       "    }\n",
       "\n",
       "    .dataframe thead th {\n",
       "        text-align: right;\n",
       "    }\n",
       "</style>\n",
       "<table border=\"1\" class=\"dataframe\">\n",
       "  <thead>\n",
       "    <tr style=\"text-align: right;\">\n",
       "      <th></th>\n",
       "      <th>longitude</th>\n",
       "      <th>latitude</th>\n",
       "      <th>housing_median_age</th>\n",
       "      <th>total_rooms</th>\n",
       "      <th>total_bedrooms</th>\n",
       "      <th>population</th>\n",
       "      <th>households</th>\n",
       "      <th>median_income</th>\n",
       "      <th>median_house_value</th>\n",
       "      <th>ocean_proximity</th>\n",
       "    </tr>\n",
       "  </thead>\n",
       "  <tbody>\n",
       "    <tr>\n",
       "      <th>290</th>\n",
       "      <td>-122.16</td>\n",
       "      <td>37.77</td>\n",
       "      <td>47.0</td>\n",
       "      <td>1256.0</td>\n",
       "      <td>NaN</td>\n",
       "      <td>570.0</td>\n",
       "      <td>218.0</td>\n",
       "      <td>4.3750</td>\n",
       "      <td>161900.0</td>\n",
       "      <td>NEAR BAY</td>\n",
       "    </tr>\n",
       "    <tr>\n",
       "      <th>341</th>\n",
       "      <td>-122.17</td>\n",
       "      <td>37.75</td>\n",
       "      <td>38.0</td>\n",
       "      <td>992.0</td>\n",
       "      <td>NaN</td>\n",
       "      <td>732.0</td>\n",
       "      <td>259.0</td>\n",
       "      <td>1.6196</td>\n",
       "      <td>85100.0</td>\n",
       "      <td>NEAR BAY</td>\n",
       "    </tr>\n",
       "    <tr>\n",
       "      <th>538</th>\n",
       "      <td>-122.28</td>\n",
       "      <td>37.78</td>\n",
       "      <td>29.0</td>\n",
       "      <td>5154.0</td>\n",
       "      <td>NaN</td>\n",
       "      <td>3741.0</td>\n",
       "      <td>1273.0</td>\n",
       "      <td>2.5762</td>\n",
       "      <td>173400.0</td>\n",
       "      <td>NEAR BAY</td>\n",
       "    </tr>\n",
       "    <tr>\n",
       "      <th>563</th>\n",
       "      <td>-122.24</td>\n",
       "      <td>37.75</td>\n",
       "      <td>45.0</td>\n",
       "      <td>891.0</td>\n",
       "      <td>NaN</td>\n",
       "      <td>384.0</td>\n",
       "      <td>146.0</td>\n",
       "      <td>4.9489</td>\n",
       "      <td>247100.0</td>\n",
       "      <td>NEAR BAY</td>\n",
       "    </tr>\n",
       "    <tr>\n",
       "      <th>696</th>\n",
       "      <td>-122.10</td>\n",
       "      <td>37.69</td>\n",
       "      <td>41.0</td>\n",
       "      <td>746.0</td>\n",
       "      <td>NaN</td>\n",
       "      <td>387.0</td>\n",
       "      <td>161.0</td>\n",
       "      <td>3.9063</td>\n",
       "      <td>178400.0</td>\n",
       "      <td>NEAR BAY</td>\n",
       "    </tr>\n",
       "    <tr>\n",
       "      <th>...</th>\n",
       "      <td>...</td>\n",
       "      <td>...</td>\n",
       "      <td>...</td>\n",
       "      <td>...</td>\n",
       "      <td>...</td>\n",
       "      <td>...</td>\n",
       "      <td>...</td>\n",
       "      <td>...</td>\n",
       "      <td>...</td>\n",
       "      <td>...</td>\n",
       "    </tr>\n",
       "    <tr>\n",
       "      <th>20267</th>\n",
       "      <td>-119.19</td>\n",
       "      <td>34.20</td>\n",
       "      <td>18.0</td>\n",
       "      <td>3620.0</td>\n",
       "      <td>NaN</td>\n",
       "      <td>3171.0</td>\n",
       "      <td>779.0</td>\n",
       "      <td>3.3409</td>\n",
       "      <td>220500.0</td>\n",
       "      <td>NEAR OCEAN</td>\n",
       "    </tr>\n",
       "    <tr>\n",
       "      <th>20268</th>\n",
       "      <td>-119.18</td>\n",
       "      <td>34.19</td>\n",
       "      <td>19.0</td>\n",
       "      <td>2393.0</td>\n",
       "      <td>NaN</td>\n",
       "      <td>1938.0</td>\n",
       "      <td>762.0</td>\n",
       "      <td>1.6953</td>\n",
       "      <td>167400.0</td>\n",
       "      <td>NEAR OCEAN</td>\n",
       "    </tr>\n",
       "    <tr>\n",
       "      <th>20372</th>\n",
       "      <td>-118.88</td>\n",
       "      <td>34.17</td>\n",
       "      <td>15.0</td>\n",
       "      <td>4260.0</td>\n",
       "      <td>NaN</td>\n",
       "      <td>1701.0</td>\n",
       "      <td>669.0</td>\n",
       "      <td>5.1033</td>\n",
       "      <td>410700.0</td>\n",
       "      <td>&lt;1H OCEAN</td>\n",
       "    </tr>\n",
       "    <tr>\n",
       "      <th>20460</th>\n",
       "      <td>-118.75</td>\n",
       "      <td>34.29</td>\n",
       "      <td>17.0</td>\n",
       "      <td>5512.0</td>\n",
       "      <td>NaN</td>\n",
       "      <td>2734.0</td>\n",
       "      <td>814.0</td>\n",
       "      <td>6.6073</td>\n",
       "      <td>258100.0</td>\n",
       "      <td>&lt;1H OCEAN</td>\n",
       "    </tr>\n",
       "    <tr>\n",
       "      <th>20484</th>\n",
       "      <td>-118.72</td>\n",
       "      <td>34.28</td>\n",
       "      <td>17.0</td>\n",
       "      <td>3051.0</td>\n",
       "      <td>NaN</td>\n",
       "      <td>1705.0</td>\n",
       "      <td>495.0</td>\n",
       "      <td>5.7376</td>\n",
       "      <td>218600.0</td>\n",
       "      <td>&lt;1H OCEAN</td>\n",
       "    </tr>\n",
       "  </tbody>\n",
       "</table>\n",
       "<p>207 rows × 10 columns</p>\n",
       "</div>\n",
       "      <button class=\"colab-df-convert\" onclick=\"convertToInteractive('df-33e5f692-84a4-4394-9cdc-53b55661bc1d')\"\n",
       "              title=\"Convert this dataframe to an interactive table.\"\n",
       "              style=\"display:none;\">\n",
       "        \n",
       "  <svg xmlns=\"http://www.w3.org/2000/svg\" height=\"24px\"viewBox=\"0 0 24 24\"\n",
       "       width=\"24px\">\n",
       "    <path d=\"M0 0h24v24H0V0z\" fill=\"none\"/>\n",
       "    <path d=\"M18.56 5.44l.94 2.06.94-2.06 2.06-.94-2.06-.94-.94-2.06-.94 2.06-2.06.94zm-11 1L8.5 8.5l.94-2.06 2.06-.94-2.06-.94L8.5 2.5l-.94 2.06-2.06.94zm10 10l.94 2.06.94-2.06 2.06-.94-2.06-.94-.94-2.06-.94 2.06-2.06.94z\"/><path d=\"M17.41 7.96l-1.37-1.37c-.4-.4-.92-.59-1.43-.59-.52 0-1.04.2-1.43.59L10.3 9.45l-7.72 7.72c-.78.78-.78 2.05 0 2.83L4 21.41c.39.39.9.59 1.41.59.51 0 1.02-.2 1.41-.59l7.78-7.78 2.81-2.81c.8-.78.8-2.07 0-2.86zM5.41 20L4 18.59l7.72-7.72 1.47 1.35L5.41 20z\"/>\n",
       "  </svg>\n",
       "      </button>\n",
       "      \n",
       "  <style>\n",
       "    .colab-df-container {\n",
       "      display:flex;\n",
       "      flex-wrap:wrap;\n",
       "      gap: 12px;\n",
       "    }\n",
       "\n",
       "    .colab-df-convert {\n",
       "      background-color: #E8F0FE;\n",
       "      border: none;\n",
       "      border-radius: 50%;\n",
       "      cursor: pointer;\n",
       "      display: none;\n",
       "      fill: #1967D2;\n",
       "      height: 32px;\n",
       "      padding: 0 0 0 0;\n",
       "      width: 32px;\n",
       "    }\n",
       "\n",
       "    .colab-df-convert:hover {\n",
       "      background-color: #E2EBFA;\n",
       "      box-shadow: 0px 1px 2px rgba(60, 64, 67, 0.3), 0px 1px 3px 1px rgba(60, 64, 67, 0.15);\n",
       "      fill: #174EA6;\n",
       "    }\n",
       "\n",
       "    [theme=dark] .colab-df-convert {\n",
       "      background-color: #3B4455;\n",
       "      fill: #D2E3FC;\n",
       "    }\n",
       "\n",
       "    [theme=dark] .colab-df-convert:hover {\n",
       "      background-color: #434B5C;\n",
       "      box-shadow: 0px 1px 3px 1px rgba(0, 0, 0, 0.15);\n",
       "      filter: drop-shadow(0px 1px 2px rgba(0, 0, 0, 0.3));\n",
       "      fill: #FFFFFF;\n",
       "    }\n",
       "  </style>\n",
       "\n",
       "      <script>\n",
       "        const buttonEl =\n",
       "          document.querySelector('#df-33e5f692-84a4-4394-9cdc-53b55661bc1d button.colab-df-convert');\n",
       "        buttonEl.style.display =\n",
       "          google.colab.kernel.accessAllowed ? 'block' : 'none';\n",
       "\n",
       "        async function convertToInteractive(key) {\n",
       "          const element = document.querySelector('#df-33e5f692-84a4-4394-9cdc-53b55661bc1d');\n",
       "          const dataTable =\n",
       "            await google.colab.kernel.invokeFunction('convertToInteractive',\n",
       "                                                     [key], {});\n",
       "          if (!dataTable) return;\n",
       "\n",
       "          const docLinkHtml = 'Like what you see? Visit the ' +\n",
       "            '<a target=\"_blank\" href=https://colab.research.google.com/notebooks/data_table.ipynb>data table notebook</a>'\n",
       "            + ' to learn more about interactive tables.';\n",
       "          element.innerHTML = '';\n",
       "          dataTable['output_type'] = 'display_data';\n",
       "          await google.colab.output.renderOutput(dataTable, element);\n",
       "          const docLink = document.createElement('div');\n",
       "          docLink.innerHTML = docLinkHtml;\n",
       "          element.appendChild(docLink);\n",
       "        }\n",
       "      </script>\n",
       "    </div>\n",
       "  </div>\n",
       "  "
      ],
      "text/plain": [
       "       longitude  latitude  housing_median_age  total_rooms  total_bedrooms  \\\n",
       "290      -122.16     37.77                47.0       1256.0             NaN   \n",
       "341      -122.17     37.75                38.0        992.0             NaN   \n",
       "538      -122.28     37.78                29.0       5154.0             NaN   \n",
       "563      -122.24     37.75                45.0        891.0             NaN   \n",
       "696      -122.10     37.69                41.0        746.0             NaN   \n",
       "...          ...       ...                 ...          ...             ...   \n",
       "20267    -119.19     34.20                18.0       3620.0             NaN   \n",
       "20268    -119.18     34.19                19.0       2393.0             NaN   \n",
       "20372    -118.88     34.17                15.0       4260.0             NaN   \n",
       "20460    -118.75     34.29                17.0       5512.0             NaN   \n",
       "20484    -118.72     34.28                17.0       3051.0             NaN   \n",
       "\n",
       "       population  households  median_income  median_house_value  \\\n",
       "290         570.0       218.0         4.3750            161900.0   \n",
       "341         732.0       259.0         1.6196             85100.0   \n",
       "538        3741.0      1273.0         2.5762            173400.0   \n",
       "563         384.0       146.0         4.9489            247100.0   \n",
       "696         387.0       161.0         3.9063            178400.0   \n",
       "...           ...         ...            ...                 ...   \n",
       "20267      3171.0       779.0         3.3409            220500.0   \n",
       "20268      1938.0       762.0         1.6953            167400.0   \n",
       "20372      1701.0       669.0         5.1033            410700.0   \n",
       "20460      2734.0       814.0         6.6073            258100.0   \n",
       "20484      1705.0       495.0         5.7376            218600.0   \n",
       "\n",
       "      ocean_proximity  \n",
       "290          NEAR BAY  \n",
       "341          NEAR BAY  \n",
       "538          NEAR BAY  \n",
       "563          NEAR BAY  \n",
       "696          NEAR BAY  \n",
       "...               ...  \n",
       "20267      NEAR OCEAN  \n",
       "20268      NEAR OCEAN  \n",
       "20372       <1H OCEAN  \n",
       "20460       <1H OCEAN  \n",
       "20484       <1H OCEAN  \n",
       "\n",
       "[207 rows x 10 columns]"
      ]
     },
     "execution_count": 8,
     "metadata": {},
     "output_type": "execute_result"
    }
   ],
   "source": [
    "# 결측치가 존재하는 행 정보를 확인하세요.\n"
   ]
  },
  {
   "cell_type": "code",
   "execution_count": null,
   "id": "maA3BGZC6ylw",
   "metadata": {
    "_kg_hide-input": true,
    "colab": {
     "base_uri": "https://localhost:8080/",
     "height": 964
    },
    "execution": {
     "iopub.execute_input": "2021-05-10T20:06:03.161862Z",
     "iopub.status.busy": "2021-05-10T20:06:03.161191Z",
     "iopub.status.idle": "2021-05-10T20:06:04.452141Z",
     "shell.execute_reply": "2021-05-10T20:06:04.451440Z"
    },
    "executionInfo": {
     "elapsed": 2432,
     "status": "ok",
     "timestamp": 1648013523782,
     "user": {
      "displayName": "­박건우",
      "photoUrl": "https://lh3.googleusercontent.com/a-/AOh14GgkzHxU40PT8D263sWDJkdWREc2VjfSWthm9fa_=s64",
      "userId": "05168116895659168000"
     },
     "user_tz": -540
    },
    "id": "maA3BGZC6ylw",
    "jupyter": {
     "outputs_hidden": false
    },
    "outputId": "49f71a05-dd60-416b-867d-cbda0f9df12c",
    "papermill": {
     "duration": 1.327804,
     "end_time": "2021-05-10T20:06:04.452309",
     "exception": false,
     "start_time": "2021-05-10T20:06:03.124505",
     "status": "completed"
    },
    "pycharm": {
     "name": "#%%\n"
    },
    "tags": []
   },
   "outputs": [
    {
     "data": {
      "image/png": "[encoded data removed]",
      "text/plain": [
       "<Figure size 1080x1080 with 2 Axes>"
      ]
     },
     "metadata": {
      "needs_background": "light"
     },
     "output_type": "display_data"
    }
   ],
   "source": [
    "# 결측치 위치 시각화 > isna() 함수를 적용 후 해당 결과를 seaborn heatmap으로 시각화\n",
    "# cmap='gray'\n",
    "\n",
    "plt.figure(figsize=(15,15))\n",
    "# code here\n",
    "\n",
    "plt.show()"
   ]
  },
  {
   "cell_type": "code",
   "execution_count": null,
   "id": "M7UO3BD76ylx",
   "metadata": {
    "_kg_hide-input": true,
    "colab": {
     "base_uri": "https://localhost:8080/"
    },
    "execution": {
     "iopub.execute_input": "2021-05-10T20:06:05.295706Z",
     "iopub.status.busy": "2021-05-10T20:06:05.295015Z",
     "iopub.status.idle": "2021-05-10T20:06:05.303265Z",
     "shell.execute_reply": "2021-05-10T20:06:05.302763Z"
    },
    "executionInfo": {
     "elapsed": 24,
     "status": "ok",
     "timestamp": 1648013523784,
     "user": {
      "displayName": "­박건우",
      "photoUrl": "https://lh3.googleusercontent.com/a-/AOh14GgkzHxU40PT8D263sWDJkdWREc2VjfSWthm9fa_=s64",
      "userId": "05168116895659168000"
     },
     "user_tz": -540
    },
    "id": "M7UO3BD76ylx",
    "jupyter": {
     "outputs_hidden": false
    },
    "outputId": "547ccbef-8639-432f-f8a4-572e1e61cedc",
    "papermill": {
     "duration": 0.050999,
     "end_time": "2021-05-10T20:06:05.303432",
     "exception": false,
     "start_time": "2021-05-10T20:06:05.252433",
     "status": "completed"
    },
    "pycharm": {
     "name": "#%%\n"
    },
    "tags": []
   },
   "outputs": [
    {
     "data": {
      "text/plain": [
       "longitude             0\n",
       "latitude              0\n",
       "housing_median_age    0\n",
       "total_rooms           0\n",
       "total_bedrooms        0\n",
       "population            0\n",
       "households            0\n",
       "median_income         0\n",
       "median_house_value    0\n",
       "ocean_proximity       0\n",
       "dtype: int64"
      ]
     },
     "execution_count": 10,
     "metadata": {},
     "output_type": "execute_result"
    }
   ],
   "source": [
    "# total_bedrooms의 중앙값으로 결측치를 대체하세요.\n",
    "\n",
    "\n",
    "# 결측치가 존재하는지 확인하세요.\n",
    "\n"
   ]
  },
  {
   "cell_type": "code",
   "execution_count": null,
   "id": "PGTG3RvskDb6",
   "metadata": {
    "colab": {
     "base_uri": "https://localhost:8080/",
     "height": 279
    },
    "executionInfo": {
     "elapsed": 24,
     "status": "ok",
     "timestamp": 1648013523787,
     "user": {
      "displayName": "­박건우",
      "photoUrl": "https://lh3.googleusercontent.com/a-/AOh14GgkzHxU40PT8D263sWDJkdWREc2VjfSWthm9fa_=s64",
      "userId": "05168116895659168000"
     },
     "user_tz": -540
    },
    "id": "PGTG3RvskDb6",
    "outputId": "ed37d9ea-1aeb-448d-8e94-7da442e86c5d"
   },
   "outputs": [
    {
     "data": {
      "image/png": "[encoded data removed]",
      "text/plain": [
       "<Figure size 432x288 with 1 Axes>"
      ]
     },
     "metadata": {
      "needs_background": "light"
     },
     "output_type": "display_data"
    }
   ],
   "source": [
    "# sns.scatterplot 함수를 사용하여 위도, 경도를 시각화하세요.\n",
    "# alpha = 0.1\n",
    "\n",
    "\n",
    "plt.show()"
   ]
  },
  {
   "cell_type": "code",
   "execution_count": null,
   "id": "fFM4yRPllMHY",
   "metadata": {
    "colab": {
     "base_uri": "https://localhost:8080/",
     "height": 279
    },
    "executionInfo": {
     "elapsed": 23,
     "status": "ok",
     "timestamp": 1648013523788,
     "user": {
      "displayName": "­박건우",
      "photoUrl": "https://lh3.googleusercontent.com/a-/AOh14GgkzHxU40PT8D263sWDJkdWREc2VjfSWthm9fa_=s64",
      "userId": "05168116895659168000"
     },
     "user_tz": -540
    },
    "id": "fFM4yRPllMHY",
    "outputId": "9a6a9670-ed36-4d44-ea38-696cc10a89a5"
   },
   "outputs": [
    {
     "data": {
      "image/png": "[encoded data removed]",
      "text/plain": [
       "<Figure size 432x288 with 1 Axes>"
      ]
     },
     "metadata": {
      "needs_background": "light"
     },
     "output_type": "display_data"
    }
   ],
   "source": [
    "# 위의 그래프에 median_house_value 별 색깔을 지정하세요.\n",
    "# alpha = 0.5, hue = 'median_house_value', palette = plt.get_cmap('jet'), s = 15, legend = False\n",
    "\n",
    "\n",
    "\n",
    "plt.show()"
   ]
  },
  {
   "cell_type": "code",
   "execution_count": null,
   "id": "Li6OYbcF6ylw",
   "metadata": {
    "colab": {
     "base_uri": "https://localhost:8080/",
     "height": 280
    },
    "executionInfo": {
     "elapsed": 691,
     "status": "ok",
     "timestamp": 1648013524459,
     "user": {
      "displayName": "­박건우",
      "photoUrl": "https://lh3.googleusercontent.com/a-/AOh14GgkzHxU40PT8D263sWDJkdWREc2VjfSWthm9fa_=s64",
      "userId": "05168116895659168000"
     },
     "user_tz": -540
    },
    "id": "Li6OYbcF6ylw",
    "outputId": "0a2e23e5-e3f5-4ee3-a890-d2da92afe95f"
   },
   "outputs": [
    {
     "data": {
      "image/png": "[encoded data removed]",
      "text/plain": [
       "<Figure size 432x288 with 1 Axes>"
      ]
     },
     "metadata": {
      "needs_background": "light"
     },
     "output_type": "display_data"
    }
   ],
   "source": [
    "# sns.histplot 함수를 사용하여 median_house_value 컬럼을 시각화하세요.\n",
    "# kde=True, bins=40\n",
    "\n",
    "\n",
    "plt.show()"
   ]
  },
  {
   "cell_type": "code",
   "execution_count": null,
   "id": "1ztNbwKs6yly",
   "metadata": {
    "_kg_hide-input": true,
    "execution": {
     "iopub.execute_input": "2021-05-10T20:06:05.792757Z",
     "iopub.status.busy": "2021-05-10T20:06:05.792067Z",
     "iopub.status.idle": "2021-05-10T20:06:05.795580Z",
     "shell.execute_reply": "2021-05-10T20:06:05.796028Z"
    },
    "id": "1ztNbwKs6yly",
    "jupyter": {
     "outputs_hidden": false
    },
    "papermill": {
     "duration": 0.047811,
     "end_time": "2021-05-10T20:06:05.796199",
     "exception": false,
     "start_time": "2021-05-10T20:06:05.748388",
     "status": "completed"
    },
    "pycharm": {
     "name": "#%%\n"
    },
    "tags": []
   },
   "outputs": [],
   "source": [
    "# 코드를 실행하세요.\n",
    "## continuous 변수와 categorical 변수를 생성하세요.\n",
    "# continuous : continuous type의 컬럼명이 담긴 리스트\n",
    "# categorical : categorical type의 컬럼명이 담긴 리스트\n",
    "continuous = ['longitude', 'latitude', 'housing_median_age', 'total_rooms',\n",
    "       'total_bedrooms', 'population', 'households', 'median_income',\n",
    "       'median_house_value']\n",
    "categorical = ['ocean_proximity']"
   ]
  },
  {
   "cell_type": "code",
   "execution_count": null,
   "id": "7vq5V1yo6yly",
   "metadata": {
    "colab": {
     "base_uri": "https://localhost:8080/"
    },
    "executionInfo": {
     "elapsed": 37,
     "status": "ok",
     "timestamp": 1648013528024,
     "user": {
      "displayName": "­박건우",
      "photoUrl": "https://lh3.googleusercontent.com/a-/AOh14GgkzHxU40PT8D263sWDJkdWREc2VjfSWthm9fa_=s64",
      "userId": "05168116895659168000"
     },
     "user_tz": -540
    },
    "id": "7vq5V1yo6yly",
    "outputId": "ba0aaf3d-55f4-4763-91be-a592efa890d2"
   },
   "outputs": [
    {
     "data": {
      "text/plain": [
       "<1H OCEAN     9136\n",
       "INLAND        6551\n",
       "NEAR OCEAN    2658\n",
       "NEAR BAY      2290\n",
       "ISLAND           5\n",
       "Name: ocean_proximity, dtype: int64"
      ]
     },
     "execution_count": 16,
     "metadata": {},
     "output_type": "execute_result"
    }
   ],
   "source": [
    "# 범주형 컬럼인 ocean_proximity의 범주별 개수를 계산하세요.\n"
   ]
  },
  {
   "cell_type": "code",
   "execution_count": null,
   "id": "W_8cDIRk6yly",
   "metadata": {
    "colab": {
     "base_uri": "https://localhost:8080/"
    },
    "executionInfo": {
     "elapsed": 36,
     "status": "ok",
     "timestamp": 1648013528026,
     "user": {
      "displayName": "­박건우",
      "photoUrl": "https://lh3.googleusercontent.com/a-/AOh14GgkzHxU40PT8D263sWDJkdWREc2VjfSWthm9fa_=s64",
      "userId": "05168116895659168000"
     },
     "user_tz": -540
    },
    "id": "W_8cDIRk6yly",
    "outputId": "d636e2df-1057-4e0b-81e7-30bfdf0b60da"
   },
   "outputs": [
    {
     "data": {
      "text/plain": [
       "<1H OCEAN     0.442636\n",
       "INLAND        0.317393\n",
       "NEAR OCEAN    0.128779\n",
       "NEAR BAY      0.110950\n",
       "ISLAND        0.000242\n",
       "Name: ocean_proximity, dtype: float64"
      ]
     },
     "execution_count": 17,
     "metadata": {},
     "output_type": "execute_result"
    }
   ],
   "source": [
    "# 범주형 컬럼인 ocean_proximity의 범주별 비율을 계산하세요.\n"
   ]
  },
  {
   "cell_type": "code",
   "execution_count": null,
   "id": "oX-7Tl006yly",
   "metadata": {
    "_kg_hide-input": true,
    "colab": {
     "base_uri": "https://localhost:8080/",
     "height": 340
    },
    "execution": {
     "iopub.execute_input": "2021-05-10T20:06:09.423155Z",
     "iopub.status.busy": "2021-05-10T20:06:09.422526Z",
     "iopub.status.idle": "2021-05-10T20:06:09.564981Z",
     "shell.execute_reply": "2021-05-10T20:06:09.564399Z"
    },
    "executionInfo": {
     "elapsed": 31,
     "status": "ok",
     "timestamp": 1648013528027,
     "user": {
      "displayName": "­박건우",
      "photoUrl": "https://lh3.googleusercontent.com/a-/AOh14GgkzHxU40PT8D263sWDJkdWREc2VjfSWthm9fa_=s64",
      "userId": "05168116895659168000"
     },
     "user_tz": -540
    },
    "id": "oX-7Tl006yly",
    "jupyter": {
     "outputs_hidden": false
    },
    "outputId": "0722f525-5dde-4175-eac3-6013cdb1e518",
    "papermill": {
     "duration": 0.186153,
     "end_time": "2021-05-10T20:06:09.565129",
     "exception": false,
     "start_time": "2021-05-10T20:06:09.378976",
     "status": "completed"
    },
    "pycharm": {
     "name": "#%%\n"
    },
    "tags": []
   },
   "outputs": [
    {
     "data": {
      "text/plain": [
       "<matplotlib.axes._subplots.AxesSubplot at 0x7f5228041f10>"
      ]
     },
     "execution_count": 18,
     "metadata": {},
     "output_type": "execute_result"
    },
    {
     "data": {
      "image/png": "[encoded data removed]",
      "text/plain": [
       "<Figure size 432x288 with 1 Axes>"
      ]
     },
     "metadata": {
      "needs_background": "light"
     },
     "output_type": "display_data"
    }
   ],
   "source": [
    "# 해당 결과를 bar plot으로 시각화 해보세요.\n"
   ]
  },
  {
   "cell_type": "code",
   "execution_count": null,
   "id": "9oPYM7ZJ6yly",
   "metadata": {
    "id": "9oPYM7ZJ6yly"
   },
   "outputs": [],
   "source": [
    "# ocean_proximity 컬럼의 <1H OCEAN 값을 1H OCEAN으로 수정하세요\n",
    "# < 기호를 제거합니다.\n",
    "\n",
    "\n"
   ]
  },
  {
   "cell_type": "code",
   "execution_count": null,
   "id": "-7WPIecS6yly",
   "metadata": {
    "colab": {
     "base_uri": "https://localhost:8080/"
    },
    "executionInfo": {
     "elapsed": 27,
     "status": "ok",
     "timestamp": 1648013528031,
     "user": {
      "displayName": "­박건우",
      "photoUrl": "https://lh3.googleusercontent.com/a-/AOh14GgkzHxU40PT8D263sWDJkdWREc2VjfSWthm9fa_=s64",
      "userId": "05168116895659168000"
     },
     "user_tz": -540
    },
    "id": "-7WPIecS6yly",
    "outputId": "4b37ef89-55f0-469c-ff75-303639a6474a"
   },
   "outputs": [
    {
     "data": {
      "text/plain": [
       "1H OCEAN      0.442636\n",
       "INLAND        0.317393\n",
       "NEAR OCEAN    0.128779\n",
       "NEAR BAY      0.110950\n",
       "ISLAND        0.000242\n",
       "Name: ocean_proximity, dtype: float64"
      ]
     },
     "execution_count": 20,
     "metadata": {},
     "output_type": "execute_result"
    }
   ],
   "source": [
    "# 범주형 컬럼인 ocean_proximity의 범주별 비율을 재계산하세요.\n"
   ]
  },
  {
   "cell_type": "code",
   "execution_count": null,
   "id": "KeIv0xUUQTSs",
   "metadata": {
    "colab": {
     "base_uri": "https://localhost:8080/",
     "height": 873
    },
    "executionInfo": {
     "elapsed": 4295,
     "status": "ok",
     "timestamp": 1648013637099,
     "user": {
      "displayName": "­박건우",
      "photoUrl": "https://lh3.googleusercontent.com/a-/AOh14GgkzHxU40PT8D263sWDJkdWREc2VjfSWthm9fa_=s64",
      "userId": "05168116895659168000"
     },
     "user_tz": -540
    },
    "id": "KeIv0xUUQTSs",
    "outputId": "e09e012b-89a9-4fa1-f735-5eefa7bf0ff9"
   },
   "outputs": [
    {
     "data": {
      "image/png": "[encoded data removed]",
      "text/plain": [
       "<Figure size 1440x1080 with 9 Axes>"
      ]
     },
     "metadata": {
      "needs_background": "light"
     },
     "output_type": "display_data"
    }
   ],
   "source": [
    "# 데이터 프레임의 hist 함수를 사용하여 continuous컬럼의 분포를 확인하세요.\n",
    "# bins=50, figsize=(20,15)를 적용하세요.\n",
    "\n",
    "\n",
    "plt.show()"
   ]
  },
  {
   "cell_type": "code",
   "execution_count": null,
   "id": "SMMTWEVU6yl2",
   "metadata": {
    "id": "SMMTWEVU6yl2"
   },
   "outputs": [],
   "source": [
    "# 코드를 실행하세요.\n",
    "## 아래 컬럼은 log 변환을 적용해주세요.\n",
    "# total_rooms, total_bedrooms, population, households, median_income, median_house_value\n",
    "target_col = 'total_rooms, total_bedrooms, population, households, median_income, median_house_value'.split(', ')\n",
    "for col_name in target_col:\n",
    "    df[col_name] = np.log1p(df[col_name])"
   ]
  },
  {
   "cell_type": "code",
   "execution_count": null,
   "id": "oUErCj-F6yl3",
   "metadata": {
    "colab": {
     "base_uri": "https://localhost:8080/",
     "height": 876
    },
    "executionInfo": {
     "elapsed": 5269,
     "status": "ok",
     "timestamp": 1648013797140,
     "user": {
      "displayName": "­박건우",
      "photoUrl": "https://lh3.googleusercontent.com/a-/AOh14GgkzHxU40PT8D263sWDJkdWREc2VjfSWthm9fa_=s64",
      "userId": "05168116895659168000"
     },
     "user_tz": -540
    },
    "id": "oUErCj-F6yl3",
    "outputId": "2f41b44a-7cc9-4cb4-faf8-e32aebdb70d1"
   },
   "outputs": [
    {
     "data": {
      "image/png": "[encoded data removed]",
      "text/plain": [
       "<Figure size 1440x1080 with 9 Axes>"
      ]
     },
     "metadata": {
      "needs_background": "light"
     },
     "output_type": "display_data"
    }
   ],
   "source": [
    "# 데이터 프레임의 hist 함수를 사용하여 continuous컬럼의 분포를 재확인하세요.\n",
    "# bins=50, figsize=(20,15)를 적용하세요.\n",
    "\n",
    "\n",
    "plt.show()"
   ]
  },
  {
   "cell_type": "code",
   "execution_count": null,
   "id": "Uou5f0TLTnCu",
   "metadata": {
    "colab": {
     "base_uri": "https://localhost:8080/",
     "height": 270
    },
    "executionInfo": {
     "elapsed": 458,
     "status": "ok",
     "timestamp": 1648014421857,
     "user": {
      "displayName": "­박건우",
      "photoUrl": "https://lh3.googleusercontent.com/a-/AOh14GgkzHxU40PT8D263sWDJkdWREc2VjfSWthm9fa_=s64",
      "userId": "05168116895659168000"
     },
     "user_tz": -540
    },
    "id": "Uou5f0TLTnCu",
    "outputId": "2d95aaa2-cc9a-471a-f681-66a4d47ac2fe"
   },
   "outputs": [
    {
     "data": {
      "text/html": [
       "\n",
       "  <div id=\"df-20e42608-c45b-49da-8fb1-93ba64a877c3\">\n",
       "    <div class=\"colab-df-container\">\n",
       "      <div>\n",
       "<style scoped>\n",
       "    .dataframe tbody tr th:only-of-type {\n",
       "        vertical-align: middle;\n",
       "    }\n",
       "\n",
       "    .dataframe tbody tr th {\n",
       "        vertical-align: top;\n",
       "    }\n",
       "\n",
       "    .dataframe thead th {\n",
       "        text-align: right;\n",
       "    }\n",
       "</style>\n",
       "<table border=\"1\" class=\"dataframe\">\n",
       "  <thead>\n",
       "    <tr style=\"text-align: right;\">\n",
       "      <th></th>\n",
       "      <th>longitude</th>\n",
       "      <th>latitude</th>\n",
       "      <th>housing_median_age</th>\n",
       "      <th>total_rooms</th>\n",
       "      <th>total_bedrooms</th>\n",
       "      <th>population</th>\n",
       "      <th>households</th>\n",
       "      <th>median_income</th>\n",
       "      <th>median_house_value</th>\n",
       "      <th>ocean_proximity</th>\n",
       "    </tr>\n",
       "  </thead>\n",
       "  <tbody>\n",
       "    <tr>\n",
       "      <th>0</th>\n",
       "      <td>-1.327835</td>\n",
       "      <td>1.052548</td>\n",
       "      <td>0.982143</td>\n",
       "      <td>-1.131133</td>\n",
       "      <td>-1.642192</td>\n",
       "      <td>-1.694943</td>\n",
       "      <td>-1.569395</td>\n",
       "      <td>1.995505</td>\n",
       "      <td>1.647949</td>\n",
       "      <td>NEAR BAY</td>\n",
       "    </tr>\n",
       "    <tr>\n",
       "      <th>1</th>\n",
       "      <td>-1.322844</td>\n",
       "      <td>1.043185</td>\n",
       "      <td>-0.607019</td>\n",
       "      <td>1.651357</td>\n",
       "      <td>1.320043</td>\n",
       "      <td>1.030337</td>\n",
       "      <td>1.449251</td>\n",
       "      <td>1.988380</td>\n",
       "      <td>1.238403</td>\n",
       "      <td>NEAR BAY</td>\n",
       "    </tr>\n",
       "    <tr>\n",
       "      <th>2</th>\n",
       "      <td>-1.332827</td>\n",
       "      <td>1.038503</td>\n",
       "      <td>1.856182</td>\n",
       "      <td>-0.450310</td>\n",
       "      <td>-1.110094</td>\n",
       "      <td>-1.109604</td>\n",
       "      <td>-1.104849</td>\n",
       "      <td>1.656444</td>\n",
       "      <td>1.206751</td>\n",
       "      <td>NEAR BAY</td>\n",
       "    </tr>\n",
       "    <tr>\n",
       "      <th>3</th>\n",
       "      <td>-1.337818</td>\n",
       "      <td>1.038503</td>\n",
       "      <td>1.856182</td>\n",
       "      <td>-0.638257</td>\n",
       "      <td>-0.817506</td>\n",
       "      <td>-0.949925</td>\n",
       "      <td>-0.813343</td>\n",
       "      <td>1.049948</td>\n",
       "      <td>1.152012</td>\n",
       "      <td>NEAR BAY</td>\n",
       "    </tr>\n",
       "    <tr>\n",
       "      <th>4</th>\n",
       "      <td>-1.337818</td>\n",
       "      <td>1.038503</td>\n",
       "      <td>1.856182</td>\n",
       "      <td>-0.312370</td>\n",
       "      <td>-0.576140</td>\n",
       "      <td>-0.933021</td>\n",
       "      <td>-0.583469</td>\n",
       "      <td>0.170631</td>\n",
       "      <td>1.156639</td>\n",
       "      <td>NEAR BAY</td>\n",
       "    </tr>\n",
       "  </tbody>\n",
       "</table>\n",
       "</div>\n",
       "      <button class=\"colab-df-convert\" onclick=\"convertToInteractive('df-20e42608-c45b-49da-8fb1-93ba64a877c3')\"\n",
       "              title=\"Convert this dataframe to an interactive table.\"\n",
       "              style=\"display:none;\">\n",
       "        \n",
       "  <svg xmlns=\"http://www.w3.org/2000/svg\" height=\"24px\"viewBox=\"0 0 24 24\"\n",
       "       width=\"24px\">\n",
       "    <path d=\"M0 0h24v24H0V0z\" fill=\"none\"/>\n",
       "    <path d=\"M18.56 5.44l.94 2.06.94-2.06 2.06-.94-2.06-.94-.94-2.06-.94 2.06-2.06.94zm-11 1L8.5 8.5l.94-2.06 2.06-.94-2.06-.94L8.5 2.5l-.94 2.06-2.06.94zm10 10l.94 2.06.94-2.06 2.06-.94-2.06-.94-.94-2.06-.94 2.06-2.06.94z\"/><path d=\"M17.41 7.96l-1.37-1.37c-.4-.4-.92-.59-1.43-.59-.52 0-1.04.2-1.43.59L10.3 9.45l-7.72 7.72c-.78.78-.78 2.05 0 2.83L4 21.41c.39.39.9.59 1.41.59.51 0 1.02-.2 1.41-.59l7.78-7.78 2.81-2.81c.8-.78.8-2.07 0-2.86zM5.41 20L4 18.59l7.72-7.72 1.47 1.35L5.41 20z\"/>\n",
       "  </svg>\n",
       "      </button>\n",
       "      \n",
       "  <style>\n",
       "    .colab-df-container {\n",
       "      display:flex;\n",
       "      flex-wrap:wrap;\n",
       "      gap: 12px;\n",
       "    }\n",
       "\n",
       "    .colab-df-convert {\n",
       "      background-color: #E8F0FE;\n",
       "      border: none;\n",
       "      border-radius: 50%;\n",
       "      cursor: pointer;\n",
       "      display: none;\n",
       "      fill: #1967D2;\n",
       "      height: 32px;\n",
       "      padding: 0 0 0 0;\n",
       "      width: 32px;\n",
       "    }\n",
       "\n",
       "    .colab-df-convert:hover {\n",
       "      background-color: #E2EBFA;\n",
       "      box-shadow: 0px 1px 2px rgba(60, 64, 67, 0.3), 0px 1px 3px 1px rgba(60, 64, 67, 0.15);\n",
       "      fill: #174EA6;\n",
       "    }\n",
       "\n",
       "    [theme=dark] .colab-df-convert {\n",
       "      background-color: #3B4455;\n",
       "      fill: #D2E3FC;\n",
       "    }\n",
       "\n",
       "    [theme=dark] .colab-df-convert:hover {\n",
       "      background-color: #434B5C;\n",
       "      box-shadow: 0px 1px 3px 1px rgba(0, 0, 0, 0.15);\n",
       "      filter: drop-shadow(0px 1px 2px rgba(0, 0, 0, 0.3));\n",
       "      fill: #FFFFFF;\n",
       "    }\n",
       "  </style>\n",
       "\n",
       "      <script>\n",
       "        const buttonEl =\n",
       "          document.querySelector('#df-20e42608-c45b-49da-8fb1-93ba64a877c3 button.colab-df-convert');\n",
       "        buttonEl.style.display =\n",
       "          google.colab.kernel.accessAllowed ? 'block' : 'none';\n",
       "\n",
       "        async function convertToInteractive(key) {\n",
       "          const element = document.querySelector('#df-20e42608-c45b-49da-8fb1-93ba64a877c3');\n",
       "          const dataTable =\n",
       "            await google.colab.kernel.invokeFunction('convertToInteractive',\n",
       "                                                     [key], {});\n",
       "          if (!dataTable) return;\n",
       "\n",
       "          const docLinkHtml = 'Like what you see? Visit the ' +\n",
       "            '<a target=\"_blank\" href=https://colab.research.google.com/notebooks/data_table.ipynb>data table notebook</a>'\n",
       "            + ' to learn more about interactive tables.';\n",
       "          element.innerHTML = '';\n",
       "          dataTable['output_type'] = 'display_data';\n",
       "          await google.colab.output.renderOutput(dataTable, element);\n",
       "          const docLink = document.createElement('div');\n",
       "          docLink.innerHTML = docLinkHtml;\n",
       "          element.appendChild(docLink);\n",
       "        }\n",
       "      </script>\n",
       "    </div>\n",
       "  </div>\n",
       "  "
      ],
      "text/plain": [
       "   longitude  latitude  housing_median_age  total_rooms  total_bedrooms  \\\n",
       "0  -1.327835  1.052548            0.982143    -1.131133       -1.642192   \n",
       "1  -1.322844  1.043185           -0.607019     1.651357        1.320043   \n",
       "2  -1.332827  1.038503            1.856182    -0.450310       -1.110094   \n",
       "3  -1.337818  1.038503            1.856182    -0.638257       -0.817506   \n",
       "4  -1.337818  1.038503            1.856182    -0.312370       -0.576140   \n",
       "\n",
       "   population  households  median_income  median_house_value ocean_proximity  \n",
       "0   -1.694943   -1.569395       1.995505            1.647949        NEAR BAY  \n",
       "1    1.030337    1.449251       1.988380            1.238403        NEAR BAY  \n",
       "2   -1.109604   -1.104849       1.656444            1.206751        NEAR BAY  \n",
       "3   -0.949925   -0.813343       1.049948            1.152012        NEAR BAY  \n",
       "4   -0.933021   -0.583469       0.170631            1.156639        NEAR BAY  "
      ]
     },
     "execution_count": 31,
     "metadata": {},
     "output_type": "execute_result"
    }
   ],
   "source": [
    "# continuous 컬럼을 표준화하세요. (StandardScaler)\n",
    "from sklearn.preprocessing import StandardScaler\n",
    "\n",
    "\n",
    "\n",
    "\n",
    "df.head()"
   ]
  },
  {
   "cell_type": "code",
   "execution_count": null,
   "id": "yYqdiM_Z6yl3",
   "metadata": {
    "colab": {
     "base_uri": "https://localhost:8080/",
     "height": 287
    },
    "executionInfo": {
     "elapsed": 428,
     "status": "ok",
     "timestamp": 1648014704273,
     "user": {
      "displayName": "­박건우",
      "photoUrl": "https://lh3.googleusercontent.com/a-/AOh14GgkzHxU40PT8D263sWDJkdWREc2VjfSWthm9fa_=s64",
      "userId": "05168116895659168000"
     },
     "user_tz": -540
    },
    "id": "yYqdiM_Z6yl3",
    "outputId": "db8ba292-a48f-4479-ac40-dc3d50da8e19"
   },
   "outputs": [
    {
     "data": {
      "text/html": [
       "\n",
       "  <div id=\"df-269c051c-0e8e-44b9-ba7f-4d555623236e\">\n",
       "    <div class=\"colab-df-container\">\n",
       "      <div>\n",
       "<style scoped>\n",
       "    .dataframe tbody tr th:only-of-type {\n",
       "        vertical-align: middle;\n",
       "    }\n",
       "\n",
       "    .dataframe tbody tr th {\n",
       "        vertical-align: top;\n",
       "    }\n",
       "\n",
       "    .dataframe thead th {\n",
       "        text-align: right;\n",
       "    }\n",
       "</style>\n",
       "<table border=\"1\" class=\"dataframe\">\n",
       "  <thead>\n",
       "    <tr style=\"text-align: right;\">\n",
       "      <th></th>\n",
       "      <th>longitude</th>\n",
       "      <th>latitude</th>\n",
       "      <th>housing_median_age</th>\n",
       "      <th>total_rooms</th>\n",
       "      <th>total_bedrooms</th>\n",
       "      <th>population</th>\n",
       "      <th>households</th>\n",
       "      <th>median_income</th>\n",
       "      <th>median_house_value</th>\n",
       "      <th>ocean_proximity_1H OCEAN</th>\n",
       "      <th>ocean_proximity_INLAND</th>\n",
       "      <th>ocean_proximity_ISLAND</th>\n",
       "      <th>ocean_proximity_NEAR BAY</th>\n",
       "      <th>ocean_proximity_NEAR OCEAN</th>\n",
       "    </tr>\n",
       "  </thead>\n",
       "  <tbody>\n",
       "    <tr>\n",
       "      <th>0</th>\n",
       "      <td>-1.327835</td>\n",
       "      <td>1.052548</td>\n",
       "      <td>0.982143</td>\n",
       "      <td>-1.131133</td>\n",
       "      <td>-1.642192</td>\n",
       "      <td>-1.694943</td>\n",
       "      <td>-1.569395</td>\n",
       "      <td>1.995505</td>\n",
       "      <td>1.647949</td>\n",
       "      <td>0</td>\n",
       "      <td>0</td>\n",
       "      <td>0</td>\n",
       "      <td>1</td>\n",
       "      <td>0</td>\n",
       "    </tr>\n",
       "    <tr>\n",
       "      <th>1</th>\n",
       "      <td>-1.322844</td>\n",
       "      <td>1.043185</td>\n",
       "      <td>-0.607019</td>\n",
       "      <td>1.651357</td>\n",
       "      <td>1.320043</td>\n",
       "      <td>1.030337</td>\n",
       "      <td>1.449251</td>\n",
       "      <td>1.988380</td>\n",
       "      <td>1.238403</td>\n",
       "      <td>0</td>\n",
       "      <td>0</td>\n",
       "      <td>0</td>\n",
       "      <td>1</td>\n",
       "      <td>0</td>\n",
       "    </tr>\n",
       "    <tr>\n",
       "      <th>2</th>\n",
       "      <td>-1.332827</td>\n",
       "      <td>1.038503</td>\n",
       "      <td>1.856182</td>\n",
       "      <td>-0.450310</td>\n",
       "      <td>-1.110094</td>\n",
       "      <td>-1.109604</td>\n",
       "      <td>-1.104849</td>\n",
       "      <td>1.656444</td>\n",
       "      <td>1.206751</td>\n",
       "      <td>0</td>\n",
       "      <td>0</td>\n",
       "      <td>0</td>\n",
       "      <td>1</td>\n",
       "      <td>0</td>\n",
       "    </tr>\n",
       "    <tr>\n",
       "      <th>3</th>\n",
       "      <td>-1.337818</td>\n",
       "      <td>1.038503</td>\n",
       "      <td>1.856182</td>\n",
       "      <td>-0.638257</td>\n",
       "      <td>-0.817506</td>\n",
       "      <td>-0.949925</td>\n",
       "      <td>-0.813343</td>\n",
       "      <td>1.049948</td>\n",
       "      <td>1.152012</td>\n",
       "      <td>0</td>\n",
       "      <td>0</td>\n",
       "      <td>0</td>\n",
       "      <td>1</td>\n",
       "      <td>0</td>\n",
       "    </tr>\n",
       "    <tr>\n",
       "      <th>4</th>\n",
       "      <td>-1.337818</td>\n",
       "      <td>1.038503</td>\n",
       "      <td>1.856182</td>\n",
       "      <td>-0.312370</td>\n",
       "      <td>-0.576140</td>\n",
       "      <td>-0.933021</td>\n",
       "      <td>-0.583469</td>\n",
       "      <td>0.170631</td>\n",
       "      <td>1.156639</td>\n",
       "      <td>0</td>\n",
       "      <td>0</td>\n",
       "      <td>0</td>\n",
       "      <td>1</td>\n",
       "      <td>0</td>\n",
       "    </tr>\n",
       "  </tbody>\n",
       "</table>\n",
       "</div>\n",
       "      <button class=\"colab-df-convert\" onclick=\"convertToInteractive('df-269c051c-0e8e-44b9-ba7f-4d555623236e')\"\n",
       "              title=\"Convert this dataframe to an interactive table.\"\n",
       "              style=\"display:none;\">\n",
       "        \n",
       "  <svg xmlns=\"http://www.w3.org/2000/svg\" height=\"24px\"viewBox=\"0 0 24 24\"\n",
       "       width=\"24px\">\n",
       "    <path d=\"M0 0h24v24H0V0z\" fill=\"none\"/>\n",
       "    <path d=\"M18.56 5.44l.94 2.06.94-2.06 2.06-.94-2.06-.94-.94-2.06-.94 2.06-2.06.94zm-11 1L8.5 8.5l.94-2.06 2.06-.94-2.06-.94L8.5 2.5l-.94 2.06-2.06.94zm10 10l.94 2.06.94-2.06 2.06-.94-2.06-.94-.94-2.06-.94 2.06-2.06.94z\"/><path d=\"M17.41 7.96l-1.37-1.37c-.4-.4-.92-.59-1.43-.59-.52 0-1.04.2-1.43.59L10.3 9.45l-7.72 7.72c-.78.78-.78 2.05 0 2.83L4 21.41c.39.39.9.59 1.41.59.51 0 1.02-.2 1.41-.59l7.78-7.78 2.81-2.81c.8-.78.8-2.07 0-2.86zM5.41 20L4 18.59l7.72-7.72 1.47 1.35L5.41 20z\"/>\n",
       "  </svg>\n",
       "      </button>\n",
       "      \n",
       "  <style>\n",
       "    .colab-df-container {\n",
       "      display:flex;\n",
       "      flex-wrap:wrap;\n",
       "      gap: 12px;\n",
       "    }\n",
       "\n",
       "    .colab-df-convert {\n",
       "      background-color: #E8F0FE;\n",
       "      border: none;\n",
       "      border-radius: 50%;\n",
       "      cursor: pointer;\n",
       "      display: none;\n",
       "      fill: #1967D2;\n",
       "      height: 32px;\n",
       "      padding: 0 0 0 0;\n",
       "      width: 32px;\n",
       "    }\n",
       "\n",
       "    .colab-df-convert:hover {\n",
       "      background-color: #E2EBFA;\n",
       "      box-shadow: 0px 1px 2px rgba(60, 64, 67, 0.3), 0px 1px 3px 1px rgba(60, 64, 67, 0.15);\n",
       "      fill: #174EA6;\n",
       "    }\n",
       "\n",
       "    [theme=dark] .colab-df-convert {\n",
       "      background-color: #3B4455;\n",
       "      fill: #D2E3FC;\n",
       "    }\n",
       "\n",
       "    [theme=dark] .colab-df-convert:hover {\n",
       "      background-color: #434B5C;\n",
       "      box-shadow: 0px 1px 3px 1px rgba(0, 0, 0, 0.15);\n",
       "      filter: drop-shadow(0px 1px 2px rgba(0, 0, 0, 0.3));\n",
       "      fill: #FFFFFF;\n",
       "    }\n",
       "  </style>\n",
       "\n",
       "      <script>\n",
       "        const buttonEl =\n",
       "          document.querySelector('#df-269c051c-0e8e-44b9-ba7f-4d555623236e button.colab-df-convert');\n",
       "        buttonEl.style.display =\n",
       "          google.colab.kernel.accessAllowed ? 'block' : 'none';\n",
       "\n",
       "        async function convertToInteractive(key) {\n",
       "          const element = document.querySelector('#df-269c051c-0e8e-44b9-ba7f-4d555623236e');\n",
       "          const dataTable =\n",
       "            await google.colab.kernel.invokeFunction('convertToInteractive',\n",
       "                                                     [key], {});\n",
       "          if (!dataTable) return;\n",
       "\n",
       "          const docLinkHtml = 'Like what you see? Visit the ' +\n",
       "            '<a target=\"_blank\" href=https://colab.research.google.com/notebooks/data_table.ipynb>data table notebook</a>'\n",
       "            + ' to learn more about interactive tables.';\n",
       "          element.innerHTML = '';\n",
       "          dataTable['output_type'] = 'display_data';\n",
       "          await google.colab.output.renderOutput(dataTable, element);\n",
       "          const docLink = document.createElement('div');\n",
       "          docLink.innerHTML = docLinkHtml;\n",
       "          element.appendChild(docLink);\n",
       "        }\n",
       "      </script>\n",
       "    </div>\n",
       "  </div>\n",
       "  "
      ],
      "text/plain": [
       "   longitude  latitude  housing_median_age  total_rooms  total_bedrooms  \\\n",
       "0  -1.327835  1.052548            0.982143    -1.131133       -1.642192   \n",
       "1  -1.322844  1.043185           -0.607019     1.651357        1.320043   \n",
       "2  -1.332827  1.038503            1.856182    -0.450310       -1.110094   \n",
       "3  -1.337818  1.038503            1.856182    -0.638257       -0.817506   \n",
       "4  -1.337818  1.038503            1.856182    -0.312370       -0.576140   \n",
       "\n",
       "   population  households  median_income  median_house_value  \\\n",
       "0   -1.694943   -1.569395       1.995505            1.647949   \n",
       "1    1.030337    1.449251       1.988380            1.238403   \n",
       "2   -1.109604   -1.104849       1.656444            1.206751   \n",
       "3   -0.949925   -0.813343       1.049948            1.152012   \n",
       "4   -0.933021   -0.583469       0.170631            1.156639   \n",
       "\n",
       "   ocean_proximity_1H OCEAN  ocean_proximity_INLAND  ocean_proximity_ISLAND  \\\n",
       "0                         0                       0                       0   \n",
       "1                         0                       0                       0   \n",
       "2                         0                       0                       0   \n",
       "3                         0                       0                       0   \n",
       "4                         0                       0                       0   \n",
       "\n",
       "   ocean_proximity_NEAR BAY  ocean_proximity_NEAR OCEAN  \n",
       "0                         1                           0  \n",
       "1                         1                           0  \n",
       "2                         1                           0  \n",
       "3                         1                           0  \n",
       "4                         1                           0  "
      ]
     },
     "execution_count": 32,
     "metadata": {},
     "output_type": "execute_result"
    }
   ],
   "source": [
    "# pd.get_dummies 함수를 이용하여 범주형 컬럼에 One Hot 변환을 적용하세요.\n",
    "\n",
    "\n",
    "\n",
    "df.head()"
   ]
  },
  {
   "cell_type": "code",
   "execution_count": null,
   "id": "KF9jAIZ26yl3",
   "metadata": {
    "colab": {
     "base_uri": "https://localhost:8080/"
    },
    "executionInfo": {
     "elapsed": 411,
     "status": "ok",
     "timestamp": 1648014820275,
     "user": {
      "displayName": "­박건우",
      "photoUrl": "https://lh3.googleusercontent.com/a-/AOh14GgkzHxU40PT8D263sWDJkdWREc2VjfSWthm9fa_=s64",
      "userId": "05168116895659168000"
     },
     "user_tz": -540
    },
    "id": "KF9jAIZ26yl3",
    "outputId": "d80a319f-e338-4988-b54c-ed2c1e182b63"
   },
   "outputs": [
    {
     "data": {
      "text/plain": [
       "((20640, 13), (20640,))"
      ]
     },
     "execution_count": 34,
     "metadata": {},
     "output_type": "execute_result"
    }
   ],
   "source": [
    "## X, y를 분리하세요.\n",
    "# X : median_house_value 컬럼을 제외한 나머지 컬럼\n",
    "# y : median_house_value 컬럼\n",
    "X = \n",
    "y = \n",
    "\n",
    "X.shape, y.shape"
   ]
  },
  {
   "cell_type": "code",
   "execution_count": null,
   "id": "FrFu6Qwu6yl4",
   "metadata": {
    "id": "FrFu6Qwu6yl4"
   },
   "outputs": [],
   "source": [
    "# X와 Y를 학습데이터와 검증데이터로 분리하세요.\n",
    "# random_state = 0\n",
    "from sklearn.model_selection import train_test_split\n",
    "\n"
   ]
  },
  {
   "cell_type": "code",
   "execution_count": null,
   "id": "eYVfqUT96yl7",
   "metadata": {
    "colab": {
     "base_uri": "https://localhost:8080/"
    },
    "executionInfo": {
     "elapsed": 6160,
     "status": "ok",
     "timestamp": 1648014852440,
     "user": {
      "displayName": "­박건우",
      "photoUrl": "https://lh3.googleusercontent.com/a-/AOh14GgkzHxU40PT8D263sWDJkdWREc2VjfSWthm9fa_=s64",
      "userId": "05168116895659168000"
     },
     "user_tz": -540
    },
    "id": "eYVfqUT96yl7",
    "outputId": "e719d2d6-bc2e-45e3-8a35-570bcb1c76f1",
    "scrolled": true
   },
   "outputs": [
    {
     "name": "stdout",
     "output_type": "stream",
     "text": [
      "Model: \"sequential\"\n",
      "_________________________________________________________________\n",
      " Layer (type)                Output Shape              Param #   \n",
      "=================================================================\n",
      " dense (Dense)               (None, 256)               3584      \n",
      "                                                                 \n",
      " dense_1 (Dense)             (None, 256)               65792     \n",
      "                                                                 \n",
      " dense_2 (Dense)             (None, 256)               65792     \n",
      "                                                                 \n",
      " dense_3 (Dense)             (None, 256)               65792     \n",
      "                                                                 \n",
      " dense_4 (Dense)             (None, 1)                 257       \n",
      "                                                                 \n",
      "=================================================================\n",
      "Total params: 201,217\n",
      "Trainable params: 201,217\n",
      "Non-trainable params: 0\n",
      "_________________________________________________________________\n"
     ]
    }
   ],
   "source": [
    "# DNN 모델을 생성하세요. (회귀 모델)\n",
    "from tensorflow.keras.models import Sequential\n",
    "from tensorflow.keras.layers import Dense\n",
    "model = \n",
    "\n",
    "\n",
    "\n",
    "\n",
    "\n",
    "\n",
    "model.summary()"
   ]
  },
  {
   "cell_type": "code",
   "execution_count": null,
   "id": "N0fgKyBb6dl9",
   "metadata": {
    "id": "N0fgKyBb6dl9"
   },
   "outputs": [],
   "source": [
    "# 컴파일(compile)\n",
    "# loss : mean absolute error, optimizer : adam, metrics : mean squared error\n"
   ]
  },
  {
   "cell_type": "code",
   "execution_count": null,
   "id": "g_LdidEi6emB",
   "metadata": {
    "colab": {
     "base_uri": "https://localhost:8080/"
    },
    "executionInfo": {
     "elapsed": 263673,
     "status": "ok",
     "timestamp": 1648015122763,
     "user": {
      "displayName": "­박건우",
      "photoUrl": "https://lh3.googleusercontent.com/a-/AOh14GgkzHxU40PT8D263sWDJkdWREc2VjfSWthm9fa_=s64",
      "userId": "05168116895659168000"
     },
     "user_tz": -540
    },
    "id": "g_LdidEi6emB",
    "outputId": "ebca72a1-2b2b-47ba-b6ce-f871eabf5108"
   },
   "outputs": [
    {
     "name": "stdout",
     "output_type": "stream",
     "text": [
      "Epoch 1/100\n",
      "484/484 [==============================] - 4s 5ms/step - loss: 0.3923 - mse: 0.2846 - val_loss: 0.3552 - val_mse: 0.2393\n",
      "Epoch 2/100\n",
      "484/484 [==============================] - 2s 4ms/step - loss: 0.3519 - mse: 0.2341 - val_loss: 0.3555 - val_mse: 0.2454\n",
      "Epoch 3/100\n",
      "484/484 [==============================] - 2s 4ms/step - loss: 0.3362 - mse: 0.2172 - val_loss: 0.3347 - val_mse: 0.2191\n",
      "Epoch 4/100\n",
      "484/484 [==============================] - 2s 4ms/step - loss: 0.3271 - mse: 0.2063 - val_loss: 0.3347 - val_mse: 0.2166\n",
      "Epoch 5/100\n",
      "484/484 [==============================] - 2s 4ms/step - loss: 0.3185 - mse: 0.1994 - val_loss: 0.3348 - val_mse: 0.2184\n",
      "Epoch 6/100\n",
      "484/484 [==============================] - 2s 4ms/step - loss: 0.3153 - mse: 0.1956 - val_loss: 0.3283 - val_mse: 0.2110\n",
      "Epoch 7/100\n",
      "484/484 [==============================] - 2s 5ms/step - loss: 0.3116 - mse: 0.1932 - val_loss: 0.3221 - val_mse: 0.2053\n",
      "Epoch 8/100\n",
      "484/484 [==============================] - 2s 4ms/step - loss: 0.3061 - mse: 0.1858 - val_loss: 0.3204 - val_mse: 0.2017\n",
      "Epoch 9/100\n",
      "484/484 [==============================] - 2s 4ms/step - loss: 0.3017 - mse: 0.1813 - val_loss: 0.3119 - val_mse: 0.1985\n",
      "Epoch 10/100\n",
      "484/484 [==============================] - 2s 4ms/step - loss: 0.2977 - mse: 0.1789 - val_loss: 0.3172 - val_mse: 0.1984\n",
      "Epoch 11/100\n",
      "484/484 [==============================] - 2s 5ms/step - loss: 0.2954 - mse: 0.1761 - val_loss: 0.3052 - val_mse: 0.1898\n",
      "Epoch 12/100\n",
      "484/484 [==============================] - 3s 7ms/step - loss: 0.2917 - mse: 0.1730 - val_loss: 0.3170 - val_mse: 0.2003\n",
      "Epoch 13/100\n",
      "484/484 [==============================] - 3s 7ms/step - loss: 0.2878 - mse: 0.1691 - val_loss: 0.3042 - val_mse: 0.1921\n",
      "Epoch 14/100\n",
      "484/484 [==============================] - 4s 8ms/step - loss: 0.2849 - mse: 0.1668 - val_loss: 0.3054 - val_mse: 0.1952\n",
      "Epoch 15/100\n",
      "484/484 [==============================] - 3s 7ms/step - loss: 0.2830 - mse: 0.1626 - val_loss: 0.3034 - val_mse: 0.1866\n",
      "Epoch 16/100\n",
      "484/484 [==============================] - 3s 5ms/step - loss: 0.2804 - mse: 0.1622 - val_loss: 0.3195 - val_mse: 0.2027\n",
      "Epoch 17/100\n",
      "484/484 [==============================] - 3s 6ms/step - loss: 0.2785 - mse: 0.1612 - val_loss: 0.3018 - val_mse: 0.1880\n",
      "Epoch 18/100\n",
      "484/484 [==============================] - 3s 7ms/step - loss: 0.2768 - mse: 0.1579 - val_loss: 0.2974 - val_mse: 0.1824\n",
      "Epoch 19/100\n",
      "484/484 [==============================] - 2s 4ms/step - loss: 0.2750 - mse: 0.1558 - val_loss: 0.2972 - val_mse: 0.1841\n",
      "Epoch 20/100\n",
      "484/484 [==============================] - 2s 4ms/step - loss: 0.2711 - mse: 0.1533 - val_loss: 0.2906 - val_mse: 0.1772\n",
      "Epoch 21/100\n",
      "484/484 [==============================] - 2s 4ms/step - loss: 0.2707 - mse: 0.1512 - val_loss: 0.2967 - val_mse: 0.1832\n",
      "Epoch 22/100\n",
      "484/484 [==============================] - 2s 4ms/step - loss: 0.2676 - mse: 0.1499 - val_loss: 0.2926 - val_mse: 0.1807\n",
      "Epoch 23/100\n",
      "484/484 [==============================] - 2s 5ms/step - loss: 0.2673 - mse: 0.1494 - val_loss: 0.2971 - val_mse: 0.1859\n",
      "Epoch 24/100\n",
      "484/484 [==============================] - 3s 6ms/step - loss: 0.2641 - mse: 0.1461 - val_loss: 0.2924 - val_mse: 0.1819\n",
      "Epoch 25/100\n",
      "484/484 [==============================] - 3s 5ms/step - loss: 0.2620 - mse: 0.1438 - val_loss: 0.2908 - val_mse: 0.1801\n",
      "Epoch 26/100\n",
      "484/484 [==============================] - 3s 6ms/step - loss: 0.2621 - mse: 0.1457 - val_loss: 0.2882 - val_mse: 0.1754\n",
      "Epoch 27/100\n",
      "484/484 [==============================] - 3s 7ms/step - loss: 0.2592 - mse: 0.1421 - val_loss: 0.3006 - val_mse: 0.1940\n",
      "Epoch 28/100\n",
      "484/484 [==============================] - 3s 7ms/step - loss: 0.2571 - mse: 0.1416 - val_loss: 0.2926 - val_mse: 0.1822\n",
      "Epoch 29/100\n",
      "484/484 [==============================] - 3s 7ms/step - loss: 0.2532 - mse: 0.1368 - val_loss: 0.2950 - val_mse: 0.1797\n",
      "Epoch 30/100\n",
      "484/484 [==============================] - 4s 7ms/step - loss: 0.2526 - mse: 0.1363 - val_loss: 0.2971 - val_mse: 0.1852\n",
      "Epoch 31/100\n",
      "484/484 [==============================] - 2s 4ms/step - loss: 0.2515 - mse: 0.1353 - val_loss: 0.2911 - val_mse: 0.1831\n",
      "Epoch 32/100\n",
      "484/484 [==============================] - 2s 4ms/step - loss: 0.2501 - mse: 0.1344 - val_loss: 0.2933 - val_mse: 0.1826\n",
      "Epoch 33/100\n",
      "484/484 [==============================] - 2s 4ms/step - loss: 0.2479 - mse: 0.1308 - val_loss: 0.2920 - val_mse: 0.1826\n",
      "Epoch 34/100\n",
      "484/484 [==============================] - 2s 4ms/step - loss: 0.2461 - mse: 0.1295 - val_loss: 0.2934 - val_mse: 0.1878\n",
      "Epoch 35/100\n",
      "484/484 [==============================] - 2s 4ms/step - loss: 0.2452 - mse: 0.1280 - val_loss: 0.2889 - val_mse: 0.1783\n",
      "Epoch 36/100\n",
      "484/484 [==============================] - 2s 4ms/step - loss: 0.2434 - mse: 0.1271 - val_loss: 0.2975 - val_mse: 0.1877\n",
      "Epoch 37/100\n",
      "484/484 [==============================] - 2s 4ms/step - loss: 0.2407 - mse: 0.1238 - val_loss: 0.2937 - val_mse: 0.1842\n",
      "Epoch 38/100\n",
      "484/484 [==============================] - 2s 4ms/step - loss: 0.2408 - mse: 0.1243 - val_loss: 0.2946 - val_mse: 0.1873\n",
      "Epoch 39/100\n",
      "484/484 [==============================] - 2s 4ms/step - loss: 0.2386 - mse: 0.1226 - val_loss: 0.2896 - val_mse: 0.1797\n",
      "Epoch 40/100\n",
      "484/484 [==============================] - 2s 4ms/step - loss: 0.2390 - mse: 0.1239 - val_loss: 0.2909 - val_mse: 0.1840\n",
      "Epoch 41/100\n",
      "484/484 [==============================] - 2s 5ms/step - loss: 0.2342 - mse: 0.1194 - val_loss: 0.2884 - val_mse: 0.1799\n",
      "Epoch 42/100\n",
      "484/484 [==============================] - 2s 4ms/step - loss: 0.2342 - mse: 0.1189 - val_loss: 0.2997 - val_mse: 0.1904\n",
      "Epoch 43/100\n",
      "484/484 [==============================] - 2s 4ms/step - loss: 0.2322 - mse: 0.1173 - val_loss: 0.2966 - val_mse: 0.1833\n",
      "Epoch 44/100\n",
      "484/484 [==============================] - 2s 4ms/step - loss: 0.2308 - mse: 0.1164 - val_loss: 0.2900 - val_mse: 0.1848\n",
      "Epoch 45/100\n",
      "484/484 [==============================] - 2s 4ms/step - loss: 0.2298 - mse: 0.1140 - val_loss: 0.2967 - val_mse: 0.1856\n",
      "Epoch 46/100\n",
      "484/484 [==============================] - 2s 4ms/step - loss: 0.2261 - mse: 0.1117 - val_loss: 0.2933 - val_mse: 0.1877\n",
      "Epoch 47/100\n",
      "484/484 [==============================] - 2s 4ms/step - loss: 0.2251 - mse: 0.1109 - val_loss: 0.2914 - val_mse: 0.1809\n",
      "Epoch 48/100\n",
      "484/484 [==============================] - 2s 4ms/step - loss: 0.2273 - mse: 0.1120 - val_loss: 0.2910 - val_mse: 0.1830\n",
      "Epoch 49/100\n",
      "484/484 [==============================] - 2s 4ms/step - loss: 0.2223 - mse: 0.1075 - val_loss: 0.2879 - val_mse: 0.1797\n",
      "Epoch 50/100\n",
      "484/484 [==============================] - 2s 4ms/step - loss: 0.2215 - mse: 0.1078 - val_loss: 0.2882 - val_mse: 0.1822\n",
      "Epoch 51/100\n",
      "484/484 [==============================] - 2s 4ms/step - loss: 0.2205 - mse: 0.1075 - val_loss: 0.2928 - val_mse: 0.1866\n",
      "Epoch 52/100\n",
      "484/484 [==============================] - 2s 4ms/step - loss: 0.2194 - mse: 0.1063 - val_loss: 0.2897 - val_mse: 0.1837\n",
      "Epoch 53/100\n",
      "484/484 [==============================] - 2s 4ms/step - loss: 0.2170 - mse: 0.1045 - val_loss: 0.2870 - val_mse: 0.1789\n",
      "Epoch 54/100\n",
      "484/484 [==============================] - 2s 4ms/step - loss: 0.2168 - mse: 0.1038 - val_loss: 0.2853 - val_mse: 0.1805\n",
      "Epoch 55/100\n",
      "484/484 [==============================] - 2s 4ms/step - loss: 0.2150 - mse: 0.1020 - val_loss: 0.2950 - val_mse: 0.1880\n",
      "Epoch 56/100\n",
      "484/484 [==============================] - 3s 6ms/step - loss: 0.2137 - mse: 0.1014 - val_loss: 0.2994 - val_mse: 0.1948\n",
      "Epoch 57/100\n",
      "484/484 [==============================] - 5s 10ms/step - loss: 0.2129 - mse: 0.1004 - val_loss: 0.2935 - val_mse: 0.1878\n",
      "Epoch 58/100\n",
      "484/484 [==============================] - 2s 5ms/step - loss: 0.2130 - mse: 0.1005 - val_loss: 0.2878 - val_mse: 0.1814\n",
      "Epoch 59/100\n",
      "484/484 [==============================] - 2s 4ms/step - loss: 0.2100 - mse: 0.0982 - val_loss: 0.2931 - val_mse: 0.1897\n",
      "Epoch 60/100\n",
      "484/484 [==============================] - 2s 4ms/step - loss: 0.2101 - mse: 0.0985 - val_loss: 0.2902 - val_mse: 0.1821\n",
      "Epoch 61/100\n",
      "484/484 [==============================] - 2s 4ms/step - loss: 0.2081 - mse: 0.0962 - val_loss: 0.2922 - val_mse: 0.1839\n",
      "Epoch 62/100\n",
      "484/484 [==============================] - 2s 4ms/step - loss: 0.2073 - mse: 0.0961 - val_loss: 0.2871 - val_mse: 0.1797\n",
      "Epoch 63/100\n",
      "484/484 [==============================] - 2s 4ms/step - loss: 0.2058 - mse: 0.0941 - val_loss: 0.2918 - val_mse: 0.1872\n",
      "Epoch 64/100\n",
      "484/484 [==============================] - 2s 4ms/step - loss: 0.2033 - mse: 0.0932 - val_loss: 0.2893 - val_mse: 0.1874\n",
      "Epoch 65/100\n",
      "484/484 [==============================] - 2s 4ms/step - loss: 0.2040 - mse: 0.0929 - val_loss: 0.2883 - val_mse: 0.1803\n",
      "Epoch 66/100\n",
      "484/484 [==============================] - 2s 4ms/step - loss: 0.2037 - mse: 0.0922 - val_loss: 0.2884 - val_mse: 0.1819\n",
      "Epoch 67/100\n",
      "484/484 [==============================] - 2s 4ms/step - loss: 0.2000 - mse: 0.0899 - val_loss: 0.2932 - val_mse: 0.1874\n",
      "Epoch 68/100\n",
      "484/484 [==============================] - 2s 4ms/step - loss: 0.1996 - mse: 0.0893 - val_loss: 0.2927 - val_mse: 0.1919\n",
      "Epoch 69/100\n",
      "484/484 [==============================] - 2s 4ms/step - loss: 0.1986 - mse: 0.0886 - val_loss: 0.2905 - val_mse: 0.1873\n",
      "Epoch 70/100\n",
      "484/484 [==============================] - 2s 4ms/step - loss: 0.1999 - mse: 0.0895 - val_loss: 0.2902 - val_mse: 0.1838\n",
      "Epoch 71/100\n",
      "484/484 [==============================] - 2s 4ms/step - loss: 0.1971 - mse: 0.0871 - val_loss: 0.2916 - val_mse: 0.1854\n",
      "Epoch 72/100\n",
      "484/484 [==============================] - 2s 4ms/step - loss: 0.1959 - mse: 0.0871 - val_loss: 0.2914 - val_mse: 0.1853\n",
      "Epoch 73/100\n",
      "484/484 [==============================] - 3s 6ms/step - loss: 0.1931 - mse: 0.0846 - val_loss: 0.2970 - val_mse: 0.1884\n",
      "Epoch 74/100\n",
      "484/484 [==============================] - 2s 4ms/step - loss: 0.1932 - mse: 0.0844 - val_loss: 0.2929 - val_mse: 0.1859\n",
      "Epoch 75/100\n",
      "484/484 [==============================] - 2s 4ms/step - loss: 0.1928 - mse: 0.0837 - val_loss: 0.2905 - val_mse: 0.1871\n",
      "Epoch 76/100\n",
      "484/484 [==============================] - 2s 4ms/step - loss: 0.1901 - mse: 0.0818 - val_loss: 0.2975 - val_mse: 0.1920\n",
      "Epoch 77/100\n",
      "484/484 [==============================] - 2s 4ms/step - loss: 0.1913 - mse: 0.0828 - val_loss: 0.2940 - val_mse: 0.1894\n",
      "Epoch 78/100\n",
      "484/484 [==============================] - 2s 4ms/step - loss: 0.1886 - mse: 0.0810 - val_loss: 0.2959 - val_mse: 0.1965\n",
      "Epoch 79/100\n",
      "484/484 [==============================] - 2s 4ms/step - loss: 0.1886 - mse: 0.0802 - val_loss: 0.2961 - val_mse: 0.1897\n",
      "Epoch 80/100\n",
      "484/484 [==============================] - 2s 4ms/step - loss: 0.1873 - mse: 0.0800 - val_loss: 0.2907 - val_mse: 0.1837\n",
      "Epoch 81/100\n",
      "484/484 [==============================] - 2s 4ms/step - loss: 0.1862 - mse: 0.0786 - val_loss: 0.2883 - val_mse: 0.1809\n",
      "Epoch 82/100\n",
      "484/484 [==============================] - 2s 4ms/step - loss: 0.1841 - mse: 0.0768 - val_loss: 0.2971 - val_mse: 0.1920\n",
      "Epoch 83/100\n",
      "484/484 [==============================] - 2s 4ms/step - loss: 0.1846 - mse: 0.0777 - val_loss: 0.2912 - val_mse: 0.1871\n",
      "Epoch 84/100\n",
      "484/484 [==============================] - 2s 4ms/step - loss: 0.1839 - mse: 0.0784 - val_loss: 0.2934 - val_mse: 0.1865\n",
      "Epoch 85/100\n",
      "484/484 [==============================] - 2s 4ms/step - loss: 0.1802 - mse: 0.0746 - val_loss: 0.2975 - val_mse: 0.1911\n",
      "Epoch 86/100\n",
      "484/484 [==============================] - 2s 4ms/step - loss: 0.1808 - mse: 0.0750 - val_loss: 0.2932 - val_mse: 0.1917\n",
      "Epoch 87/100\n",
      "484/484 [==============================] - 2s 4ms/step - loss: 0.1784 - mse: 0.0726 - val_loss: 0.2952 - val_mse: 0.1891\n",
      "Epoch 88/100\n",
      "484/484 [==============================] - 2s 4ms/step - loss: 0.1787 - mse: 0.0730 - val_loss: 0.2984 - val_mse: 0.1903\n",
      "Epoch 89/100\n",
      "484/484 [==============================] - 2s 4ms/step - loss: 0.1778 - mse: 0.0730 - val_loss: 0.2886 - val_mse: 0.1822\n",
      "Epoch 90/100\n",
      "484/484 [==============================] - 2s 4ms/step - loss: 0.1756 - mse: 0.0706 - val_loss: 0.2921 - val_mse: 0.1877\n",
      "Epoch 91/100\n",
      "484/484 [==============================] - 2s 4ms/step - loss: 0.1741 - mse: 0.0698 - val_loss: 0.2943 - val_mse: 0.1877\n",
      "Epoch 92/100\n",
      "484/484 [==============================] - 2s 4ms/step - loss: 0.1757 - mse: 0.0705 - val_loss: 0.2935 - val_mse: 0.1881\n",
      "Epoch 93/100\n",
      "484/484 [==============================] - 2s 4ms/step - loss: 0.1734 - mse: 0.0690 - val_loss: 0.2959 - val_mse: 0.1923\n",
      "Epoch 94/100\n",
      "484/484 [==============================] - 2s 4ms/step - loss: 0.1727 - mse: 0.0684 - val_loss: 0.2918 - val_mse: 0.1882\n",
      "Epoch 95/100\n",
      "484/484 [==============================] - 2s 4ms/step - loss: 0.1717 - mse: 0.0687 - val_loss: 0.2950 - val_mse: 0.1907\n",
      "Epoch 96/100\n",
      "484/484 [==============================] - 2s 4ms/step - loss: 0.1710 - mse: 0.0666 - val_loss: 0.2918 - val_mse: 0.1872\n",
      "Epoch 97/100\n",
      "484/484 [==============================] - 2s 5ms/step - loss: 0.1706 - mse: 0.0672 - val_loss: 0.2915 - val_mse: 0.1892\n",
      "Epoch 98/100\n",
      "484/484 [==============================] - 2s 4ms/step - loss: 0.1690 - mse: 0.0667 - val_loss: 0.2883 - val_mse: 0.1847\n",
      "Epoch 99/100\n",
      "484/484 [==============================] - 2s 4ms/step - loss: 0.1674 - mse: 0.0648 - val_loss: 0.2930 - val_mse: 0.1888\n",
      "Epoch 100/100\n",
      "484/484 [==============================] - 2s 5ms/step - loss: 0.1674 - mse: 0.0649 - val_loss: 0.2940 - val_mse: 0.1912\n"
     ]
    },
    {
     "data": {
      "text/plain": [
       "<keras.callbacks.History at 0x7f51b56fea10>"
      ]
     },
     "execution_count": 38,
     "metadata": {},
     "output_type": "execute_result"
    }
   ],
   "source": [
    "# 학습(fit)\n"
   ]
  },
  {
   "cell_type": "code",
   "execution_count": null,
   "id": "4W51zt1j6yl8",
   "metadata": {
    "colab": {
     "base_uri": "https://localhost:8080/"
    },
    "executionInfo": {
     "elapsed": 9,
     "status": "ok",
     "timestamp": 1648015122764,
     "user": {
      "displayName": "­박건우",
      "photoUrl": "https://lh3.googleusercontent.com/a-/AOh14GgkzHxU40PT8D263sWDJkdWREc2VjfSWthm9fa_=s64",
      "userId": "05168116895659168000"
     },
     "user_tz": -540
    },
    "id": "4W51zt1j6yl8",
    "outputId": "7da1e47e-499f-48d4-f5b8-4f323bca536e"
   },
   "outputs": [
    {
     "name": "stdout",
     "output_type": "stream",
     "text": [
      "MAE : 0.29395971849967567\n",
      "MSE : 0.19116243755748133\n",
      "RMSE : 0.43722126841849923\n"
     ]
    }
   ],
   "source": [
    "# test 데이터에 대해 MSE, MAE, RMSE 오류를 계산합니다.\n",
    "from sklearn.metrics import mean_absolute_error, mean_squared_error\n",
    "pred = \n",
    "print('MAE :',)\n",
    "print('MSE :',)\n",
    "print('RMSE :',) # MSE 결과에 np.sqrt 함수 적용"
   ]
  },
  {
   "cell_type": "code",
   "execution_count": null,
   "id": "JbY3eKLw6yl8",
   "metadata": {
    "colab": {
     "base_uri": "https://localhost:8080/"
    },
    "executionInfo": {
     "elapsed": 749,
     "status": "ok",
     "timestamp": 1648015123506,
     "user": {
      "displayName": "­박건우",
      "photoUrl": "https://lh3.googleusercontent.com/a-/AOh14GgkzHxU40PT8D263sWDJkdWREc2VjfSWthm9fa_=s64",
      "userId": "05168116895659168000"
     },
     "user_tz": -540
    },
    "id": "JbY3eKLw6yl8",
    "outputId": "62d12dbb-049e-49eb-be8c-4588f02da595"
   },
   "outputs": [
    {
     "name": "stdout",
     "output_type": "stream",
     "text": [
      "R2 : 0.8093845923220641\n"
     ]
    }
   ],
   "source": [
    "# R Squared 결과도 확인합니다.\n",
    "from sklearn.metrics import r2_score\n",
    "print('R2 :',)"
   ]
  },
  {
   "cell_type": "code",
   "execution_count": null,
   "id": "LKZhnJLv7aIE",
   "metadata": {
    "colab": {
     "base_uri": "https://localhost:8080/",
     "height": 388
    },
    "executionInfo": {
     "elapsed": 19,
     "status": "ok",
     "timestamp": 1648015123507,
     "user": {
      "displayName": "­박건우",
      "photoUrl": "https://lh3.googleusercontent.com/a-/AOh14GgkzHxU40PT8D263sWDJkdWREc2VjfSWthm9fa_=s64",
      "userId": "05168116895659168000"
     },
     "user_tz": -540
    },
    "id": "LKZhnJLv7aIE",
    "outputId": "31c01fd6-6336-4f2e-fb29-418c7fd1f718"
   },
   "outputs": [
    {
     "data": {
      "image/png": "[encoded data removed]",
      "text/plain": [
       "<Figure size 576x432 with 1 Axes>"
      ]
     },
     "metadata": {
      "needs_background": "light"
     },
     "output_type": "display_data"
    }
   ],
   "source": [
    "# 실제 정답과 예측값을 scatter plot으로 그리세요.\n",
    "plt.figure(figsize = (8,6))\n",
    "# code here\n",
    "\n",
    "\n",
    "plt.plot([-3,2],[-3,2], c = 'red', lw = 0.5)\n",
    "plt.xlabel('Target')\n",
    "plt.ylabel('Predict')\n",
    "plt.show()"
   ]
  },
  {
   "cell_type": "code",
   "execution_count": null,
   "id": "3GJ8uYRkWSPD",
   "metadata": {
    "id": "3GJ8uYRkWSPD"
   },
   "outputs": [],
   "source": []
  }
 ],
 "metadata": {
  "colab": {
   "collapsed_sections": [],
   "name": "KB_WS_DAY19_DNN(housing)_Q.ipynb",
   "provenance": []
  },
  "kernelspec": {
   "display_name": "Python 3 (ipykernel)",
   "language": "python",
   "name": "python3"
  },
  "language_info": {
   "codemirror_mode": {
    "name": "ipython",
    "version": 3
   },
   "file_extension": ".py",
   "mimetype": "text/x-python",
   "name": "python",
   "nbconvert_exporter": "python",
   "pygments_lexer": "ipython3",
   "version": "3.9.7"
  },
  "papermill": {
   "default_parameters": {},
   "duration": 44.880512,
   "end_time": "2021-05-10T20:06:36.689564",
   "environment_variables": {},
   "exception": null,
   "input_path": "__notebook__.ipynb",
   "output_path": "__notebook__.ipynb",
   "parameters": {},
   "start_time": "2021-05-10T20:05:51.809052",
   "version": "2.3.3"
  }
 },
 "nbformat": 4,
 "nbformat_minor": 5
}
